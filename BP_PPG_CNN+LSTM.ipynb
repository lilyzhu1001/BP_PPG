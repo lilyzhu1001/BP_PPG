{
  "nbformat": 4,
  "nbformat_minor": 0,
  "metadata": {
    "colab": {
      "name": "BP_PPG_CNN+LSTM.ipynb",
      "provenance": [],
      "collapsed_sections": [],
      "toc_visible": true,
      "authorship_tag": "ABX9TyPJhGrm5ELp3VhtmeNYbsV8",
      "include_colab_link": true
    },
    "kernelspec": {
      "name": "python3",
      "display_name": "Python 3"
    }
  },
  "cells": [
    {
      "cell_type": "markdown",
      "metadata": {
        "id": "view-in-github",
        "colab_type": "text"
      },
      "source": [
        "<a href=\"https://colab.research.google.com/github/supertime1/BP_PPG/blob/master/BP_PPG_CNN%2BLSTM.ipynb\" target=\"_parent\"><img src=\"https://colab.research.google.com/assets/colab-badge.svg\" alt=\"Open In Colab\"/></a>"
      ]
    },
    {
      "cell_type": "markdown",
      "metadata": {
        "id": "uWP-_pXlUKmp",
        "colab_type": "text"
      },
      "source": [
        "#1.Introduction"
      ]
    },
    {
      "cell_type": "markdown",
      "metadata": {
        "id": "3mOoV1yuUKlh",
        "colab_type": "text"
      },
      "source": [
        "This notebook trains an simple PPG DNN by using labeled PPG data from Afib_Data_Clean notebook;\n",
        "The loaded data is 30s segemented PPG signals with 125Hz sampling rate."
      ]
    },
    {
      "cell_type": "markdown",
      "metadata": {
        "id": "bfCfr60kSTDU",
        "colab_type": "text"
      },
      "source": [
        "#2.Setup Environment\n",
        "\n"
      ]
    },
    {
      "cell_type": "code",
      "metadata": {
        "id": "cvqxVijHSFk2",
        "colab_type": "code",
        "outputId": "aed366e1-6e26-4aae-9375-d8fa47e747c9",
        "colab": {
          "base_uri": "https://localhost:8080/",
          "height": 34
        }
      },
      "source": [
        "from IPython.display import display\n",
        "import pandas as pd\n",
        "import matplotlib.pyplot as plt\n",
        "%matplotlib inline\n",
        "%load_ext tensorboard\n",
        "import numpy as np\n",
        "import os\n",
        "import shutil\n",
        "import glob\n",
        "import wfdb\n",
        "import tensorflow as tf\n",
        "from tensorflow import keras\n",
        "from tensorflow.keras.models import load_model \n",
        "from tensorflow.keras.callbacks import TensorBoard, ModelCheckpoint\n",
        "import tensorflow_datasets as tfds\n",
        "import multiprocessing\n",
        "from datetime import datetime\n",
        "import sklearn.metrics\n",
        "import itertools\n",
        "import io\n",
        "import pickle\n",
        "print(tf.__version__)"
      ],
      "execution_count": 1,
      "outputs": [
        {
          "output_type": "stream",
          "text": [
            "2.1.0\n"
          ],
          "name": "stdout"
        }
      ]
    },
    {
      "cell_type": "markdown",
      "metadata": {
        "colab_type": "text",
        "id": "oFD2ZNOoGMsP"
      },
      "source": [
        "#3.Data Pipeline"
      ]
    },
    {
      "cell_type": "code",
      "metadata": {
        "id": "Iwdd-WA-Xtb1",
        "colab_type": "code",
        "colab": {}
      },
      "source": [
        "#load the data filename\n",
        "train_data_dir = r\"C:\\Users\\57lzhang.US04WW4008\\Desktop\\Blood pressure\\BP data\\train25\\data*\"\n",
        "train_data_fn = glob.glob(train_data_dir)\n",
        "train_label_dir = r\"C:\\Users\\57lzhang.US04WW4008\\Desktop\\Blood pressure\\BP data\\train25\\label*\"\n",
        "train_label_fn = glob.glob(train_label_dir)"
      ],
      "execution_count": 0,
      "outputs": []
    },
    {
      "cell_type": "code",
      "metadata": {
        "id": "Rs1pp9k0rv-0",
        "colab_type": "code",
        "colab": {}
      },
      "source": [
        "#run assert to make sure the data and label are in the same order\n",
        "for i in range(len(train_label_fn)):\n",
        "  assert(train_data_fn[i][-1] == train_label_fn[i][-1])"
      ],
      "execution_count": 0,
      "outputs": []
    },
    {
      "cell_type": "code",
      "metadata": {
        "id": "3hCQDlhZl-82",
        "colab_type": "code",
        "colab": {}
      },
      "source": [
        "val_data_dir = r\"C:\\Users\\57lzhang.US04WW4008\\Desktop\\Blood pressure\\BP data\\validation25\\data*\"\n",
        "val_data_fn = glob.glob(val_data_dir)\n",
        "val_label_dir = r\"C:\\Users\\57lzhang.US04WW4008\\Desktop\\Blood pressure\\BP data\\validation25\\label*\"\n",
        "val_label_fn = glob.glob(val_label_dir)"
      ],
      "execution_count": 0,
      "outputs": []
    },
    {
      "cell_type": "code",
      "metadata": {
        "id": "o0B1Vx6MuEQV",
        "colab_type": "code",
        "colab": {}
      },
      "source": [
        "for i in range(len(val_label_fn)):\n",
        "  assert(val_data_fn[i][-1] == val_label_fn[i][-1])"
      ],
      "execution_count": 0,
      "outputs": []
    },
    {
      "cell_type": "code",
      "metadata": {
        "id": "A2VNZfnc4XSJ",
        "colab_type": "code",
        "colab": {}
      },
      "source": [
        "#use generator to input data, since the data size(>160GB) is larger than memory size (64GB)\n",
        "def train_data_generator():\n",
        "  for i in range(len(train_data_fn)):\n",
        "    data = pickle.load(open(train_data_fn[i],'rb'))\n",
        "    yield data"
      ],
      "execution_count": 0,
      "outputs": []
    },
    {
      "cell_type": "code",
      "metadata": {
        "id": "lIhR3bhdmM5I",
        "colab_type": "code",
        "colab": {}
      },
      "source": [
        "def train_label_generator():\n",
        "  for i in range(len(train_label_fn)):\n",
        "    label = pickle.load(open(train_label_fn[i],'rb'))\n",
        "    yield label"
      ],
      "execution_count": 0,
      "outputs": []
    },
    {
      "cell_type": "code",
      "metadata": {
        "id": "tVq-AReq5U21",
        "colab_type": "code",
        "colab": {}
      },
      "source": [
        "def val_data_generator():\n",
        "  for i in range(len(val_data_fn)):\n",
        "    data = pickle.load(open(val_data_fn[i],'rb'))\n",
        "    yield data"
      ],
      "execution_count": 0,
      "outputs": []
    },
    {
      "cell_type": "code",
      "metadata": {
        "id": "rGfRW6NYmU0a",
        "colab_type": "code",
        "colab": {}
      },
      "source": [
        "def val_label_generator():\n",
        "  for i in range(len(val_label_fn)):\n",
        "    label = pickle.load(open(val_label_fn[i],'rb'))\n",
        "    yield label"
      ],
      "execution_count": 0,
      "outputs": []
    },
    {
      "cell_type": "code",
      "metadata": {
        "id": "THYmut6MnQb_",
        "colab_type": "code",
        "outputId": "1bdd7620-9c21-4b54-bc66-08f5e159dd9c",
        "colab": {
          "base_uri": "https://localhost:8080/",
          "height": 34
        }
      },
      "source": [
        "#calculate number of elements in training for later use in shuffle and model.fit\n",
        "number_of_element = 0\n",
        "for i in range(len(train_label_fn)):\n",
        "  label = pickle.load(open(train_label_fn[i],'rb'))\n",
        "  number_of_element += len(label)\n",
        "print(\"There are in total\", number_of_element, \"in training dataset\")"
      ],
      "execution_count": 13,
      "outputs": [
        {
          "output_type": "stream",
          "text": [
            "There are in total 2494543 in training dataset\n"
          ],
          "name": "stdout"
        }
      ]
    },
    {
      "cell_type": "code",
      "metadata": {
        "id": "ex9J_Ao0oGvN",
        "colab_type": "code",
        "outputId": "28eddae1-231a-4e7e-f1d3-088e64c1fc1c",
        "colab": {
          "base_uri": "https://localhost:8080/",
          "height": 34
        }
      },
      "source": [
        "#calculate number of elements in validation\n",
        "number_of_val_element = 0\n",
        "for i in range(len(val_label_fn)):\n",
        "  label = pickle.load(open(val_label_fn[i],'rb'))\n",
        "  number_of_val_element += len(label)\n",
        "print(\"There are in total\", number_of_val_element, \"in validation dataset\")"
      ],
      "execution_count": 14,
      "outputs": [
        {
          "output_type": "stream",
          "text": [
            "There are in total 277340 in validation dataset\n"
          ],
          "name": "stdout"
        }
      ]
    },
    {
      "cell_type": "code",
      "metadata": {
        "id": "4jFI5d1c4cQq",
        "colab_type": "code",
        "colab": {}
      },
      "source": [
        "#input the data by using generator and use flat_map to removing the \n",
        "#first dimension (number of elements) and flat all data\n",
        "train_data = tf.data.Dataset.from_generator(train_data_generator,(tf.float32),output_shapes=[None,10,150,1])\n",
        "train_label = tf.data.Dataset.from_generator(train_label_generator,(tf.float32),output_shapes=[None,2])\n",
        "train_ds = train_data.flat_map(lambda x: train_data.from_tensor_slices(x))\n",
        "train_lb = train_label.flat_map(lambda x: train_label.from_tensor_slices(x))\n",
        "train = tf.data.Dataset.zip((train_ds,train_lb))"
      ],
      "execution_count": 0,
      "outputs": []
    },
    {
      "cell_type": "code",
      "metadata": {
        "id": "KWSWFqN24c_M",
        "colab_type": "code",
        "colab": {}
      },
      "source": [
        "#do the same to validation\n",
        "val_data = tf.data.Dataset.from_generator(val_data_generator,(tf.float32),output_shapes=[None,10,150,1])\n",
        "val_label = tf.data.Dataset.from_generator(val_label_generator,(tf.float32),output_shapes=[None,2])\n",
        "val_ds = val_data.flat_map(lambda x: val_data.from_tensor_slices(x))\n",
        "val_lb = val_label.flat_map(lambda x: val_label.from_tensor_slices(x))\n",
        "validation = tf.data.Dataset.zip((val_ds,val_lb))"
      ],
      "execution_count": 0,
      "outputs": []
    },
    {
      "cell_type": "code",
      "metadata": {
        "colab_type": "code",
        "id": "0eNX0PYsGMtE",
        "colab": {}
      },
      "source": [
        "batch_size = 256\n",
        "train_dataset = train.cache(filename=r\"C:\\Users\\57lzhang.US04WW4008\\Desktop\\Blood pressure\\BP data\")\n",
        "train_dataset = train_dataset.shuffle(number_of_element//100).repeat().batch(batch_size,drop_remainder=True)\n",
        "train_dataset = train_dataset.prefetch(buffer_size = tf.data.experimental.AUTOTUNE)\n",
        "val_dataset = validation.repeat().batch(batch_size, drop_remainder=True)"
      ],
      "execution_count": 0,
      "outputs": []
    },
    {
      "cell_type": "markdown",
      "metadata": {
        "id": "ikiF9-uDTI-h",
        "colab_type": "text"
      },
      "source": [
        "#4.Train Model"
      ]
    },
    {
      "cell_type": "markdown",
      "metadata": {
        "id": "MeF1mUEJTN60",
        "colab_type": "text"
      },
      "source": [
        "##4.1 CNN + LSTM"
      ]
    },
    {
      "cell_type": "code",
      "metadata": {
        "id": "6gH902sEMO7T",
        "colab_type": "code",
        "outputId": "f180f840-3452-426f-930c-82b793073fc0",
        "colab": {
          "base_uri": "https://localhost:8080/",
          "height": 301
        }
      },
      "source": [
        "from tensorflow.keras.layers import BatchNormalization\n",
        "BatchNormalization._USE_V2_BEHAVIOR = False\n",
        "#create CNN layers\n",
        "cnn = tf.keras.Sequential([\n",
        "    #1st Conv1D\n",
        "    tf.keras.layers.Conv1D(8, 1, strides=1, \n",
        "                          activation='relu'),\n",
        "    tf.keras.layers.BatchNormalization(),\n",
        "    tf.keras.layers.MaxPooling1D(pool_size=2,strides=2),\n",
        "    tf.keras.layers.Dropout(0.2),\n",
        "    #2nd Conv1D\n",
        "    tf.keras.layers.Conv1D(16, 3, strides=1,\n",
        "                          activation='relu'),\n",
        "    tf.keras.layers.BatchNormalization(),\n",
        "    tf.keras.layers.MaxPooling1D(pool_size=2,strides=2),\n",
        "    tf.keras.layers.Dropout(0.2),\n",
        "    #3rd Conv1D\n",
        "    tf.keras.layers.Conv1D(32, 3, strides=1,\n",
        "                          activation='relu'),\n",
        "    tf.keras.layers.BatchNormalization(),\n",
        "    tf.keras.layers.MaxPooling1D(pool_size=2,strides=2),\n",
        "    tf.keras.layers.Dropout(0.2),\n",
        "    #4th Conv1D\n",
        "    tf.keras.layers.Conv1D(64, 3, strides=1,\n",
        "                          activation='relu'),\n",
        "    tf.keras.layers.BatchNormalization(),\n",
        "    tf.keras.layers.MaxPooling1D(pool_size=2,strides=2),\n",
        "    tf.keras.layers.Dropout(0.2),\n",
        "    #5th Conv1D\n",
        "    tf.keras.layers.Conv1D(16, 1, strides=1,\n",
        "                          activation='relu'),\n",
        "    tf.keras.layers.BatchNormalization(),\n",
        "    #Full connection layer\n",
        "    tf.keras.layers.Flatten()\n",
        "])\n",
        "\n",
        "#combine with LSTM\n",
        "model = tf.keras.Sequential([\n",
        "        tf.keras.layers.TimeDistributed(cnn,input_shape=(10,150,1)),                   \n",
        "        tf.keras.layers.Bidirectional(tf.keras.layers.LSTM(32,return_sequences=True)),\n",
        "        tf.keras.layers.Bidirectional(tf.keras.layers.LSTM(16)),\n",
        "        tf.keras.layers.Dense(2)\n",
        "])\n",
        "\n",
        "model.summary()"
      ],
      "execution_count": 18,
      "outputs": [
        {
          "output_type": "stream",
          "text": [
            "Model: \"sequential_1\"\n",
            "_________________________________________________________________\n",
            "Layer (type)                 Output Shape              Param #   \n",
            "=================================================================\n",
            "time_distributed (TimeDistri (None, 10, 112)           9776      \n",
            "_________________________________________________________________\n",
            "bidirectional (Bidirectional (None, 10, 64)            37120     \n",
            "_________________________________________________________________\n",
            "bidirectional_1 (Bidirection (None, 32)                10368     \n",
            "_________________________________________________________________\n",
            "dense (Dense)                (None, 2)                 66        \n",
            "=================================================================\n",
            "Total params: 57,330\n",
            "Trainable params: 57,058\n",
            "Non-trainable params: 272\n",
            "_________________________________________________________________\n"
          ],
          "name": "stdout"
        }
      ]
    },
    {
      "cell_type": "markdown",
      "metadata": {
        "id": "iV4AOP5AXh5P",
        "colab_type": "text"
      },
      "source": [
        "##4.2 Define callbacks"
      ]
    },
    {
      "cell_type": "markdown",
      "metadata": {
        "id": "a_1LxToVXqBO",
        "colab_type": "text"
      },
      "source": [
        "###4.2.1 Learning rate scheduler"
      ]
    },
    {
      "cell_type": "code",
      "metadata": {
        "id": "RqkfWOvWXlfE",
        "colab_type": "code",
        "colab": {}
      },
      "source": [
        "def decay(epoch):\n",
        "  if epoch < 20:\n",
        "    return 1e-4\n",
        "  elif epoch >= 20 and epoch < 100:\n",
        "    return 1e-5\n",
        "  else:\n",
        "    return 1e-6"
      ],
      "execution_count": 0,
      "outputs": []
    },
    {
      "cell_type": "code",
      "metadata": {
        "id": "oyV2EoQtXtV-",
        "colab_type": "code",
        "colab": {}
      },
      "source": [
        "#callback: schedule a learning rate incline iteration\n",
        "lr_schedule = tf.keras.callbacks.LearningRateScheduler(decay)"
      ],
      "execution_count": 0,
      "outputs": []
    },
    {
      "cell_type": "markdown",
      "metadata": {
        "id": "vD8quc5CXwa5",
        "colab_type": "text"
      },
      "source": [
        "###4.2.2 Tensorboard"
      ]
    },
    {
      "cell_type": "code",
      "metadata": {
        "id": "T7h_p1YnXz1R",
        "colab_type": "code",
        "colab": {}
      },
      "source": [
        "#callback: tensorboard\n",
        "log_dir=r\"C:\\Users\\57lzhang.US04WW4008\\Desktop\\Blood pressure\\BP data\\logs\\fitt\\\\\" + datetime.now().strftime(\"%Y%m%d-%H%M%S\") +\"CNN+LSTM+all+25Hz\"\n",
        "tensorboard_callback = TensorBoard(log_dir=log_dir, histogram_freq=1)"
      ],
      "execution_count": 0,
      "outputs": []
    },
    {
      "cell_type": "markdown",
      "metadata": {
        "id": "rcdMgfv1YClx",
        "colab_type": "text"
      },
      "source": [
        "###4.2.4 Checkpoint"
      ]
    },
    {
      "cell_type": "code",
      "metadata": {
        "id": "OSqNrDZ_YKFv",
        "colab_type": "code",
        "colab": {}
      },
      "source": [
        "#callback: checkpoint\n",
        "filepath = r\"C:\\Users\\57lzhang.US04WW4008\\Desktop\\Blood pressure\\BP data\\models\\CNN+LSTM+all+25Hz-{epoch:02d}-{loss:.4f}.hdf5\"\n",
        "checkpoint = ModelCheckpoint(filepath, monitor='loss', verbose=1, save_best_only=True, mode='auto')"
      ],
      "execution_count": 0,
      "outputs": []
    },
    {
      "cell_type": "markdown",
      "metadata": {
        "id": "t2ril_S4TVJS",
        "colab_type": "text"
      },
      "source": [
        "##4.3 Train the model "
      ]
    },
    {
      "cell_type": "markdown",
      "metadata": {
        "id": "boYor7DsTcXT",
        "colab_type": "text"
      },
      "source": [
        "### 4.3.1 Start Training"
      ]
    },
    {
      "cell_type": "code",
      "metadata": {
        "id": "-eqeVT1uTeOn",
        "colab_type": "code",
        "outputId": "153907d7-92ac-435d-a3cc-4e640fc4c9e5",
        "colab": {
          "base_uri": "https://localhost:8080/",
          "height": 801
        }
      },
      "source": [
        "#clear history if necessary\n",
        "tf.keras.backend.clear_session()\n",
        "#strategy = tf.distribute.MirroredStrategy(cross_device_ops=tf.distribute.HierarchicalCopyAllReduce()) ##to overwrite NCCL cross device communication as this is running in Windows\n",
        "#with strategy.scope():\n",
        "\n",
        "model = model\n",
        "#model.load_weights(r'C:\\Users\\57lzhang.US04WW4008\\Desktop\\Blood pressure\\BP data\\models\\CNN+LSTM+all-30-205.0911.hdf5')\n",
        "model.compile(optimizer=tf.keras.optimizers.Adam(), \n",
        "              loss='mse', \n",
        "              metrics=['mae'])\n",
        "\n",
        "callbacks_list = [tensorboard_callback, checkpoint, lr_schedule]\n",
        "\n",
        "#start training\n",
        "model.fit(train_dataset,\n",
        "          epochs=300,\n",
        "          steps_per_epoch = number_of_element//batch_size,\n",
        "          verbose=1,\n",
        "          validation_data=val_dataset,\n",
        "          validation_steps=number_of_val_element//batch_size,\n",
        "          callbacks=callbacks_list\n",
        "          )"
      ],
      "execution_count": 0,
      "outputs": [
        {
          "output_type": "stream",
          "text": [
            "Train for 9744 steps, validate for 1083 steps\n",
            "Epoch 1/300\n",
            "9743/9744 [============================>.] - ETA: 0s - loss: 1364.6786 - mae: 24.9476\n",
            "Epoch 00001: loss improved from inf to 1364.55945, saving model to C:\\Users\\57lzhang.US04WW4008\\Desktop\\Blood pressure\\BP data\\models\\CNN+LSTM+all+25Hz-01-1364.5594.hdf5\n",
            "9744/9744 [==============================] - 781s 80ms/step - loss: 1364.5594 - mae: 24.9462 - val_loss: 524.3123 - val_mae: 18.2666\n",
            "Epoch 2/300\n",
            "9743/9744 [============================>.] - ETA: 0s - loss: 260.6378 - mae: 12.1807\n",
            "Epoch 00002: loss improved from 1364.55945 to 260.63534, saving model to C:\\Users\\57lzhang.US04WW4008\\Desktop\\Blood pressure\\BP data\\models\\CNN+LSTM+all+25Hz-02-260.6353.hdf5\n",
            "9744/9744 [==============================] - 774s 79ms/step - loss: 260.6353 - mae: 12.1807 - val_loss: 454.0350 - val_mae: 16.9375\n",
            "Epoch 3/300\n",
            "9743/9744 [============================>.] - ETA: 0s - loss: 247.2420 - mae: 11.7901\n",
            "Epoch 00003: loss improved from 260.63534 to 247.24179, saving model to C:\\Users\\57lzhang.US04WW4008\\Desktop\\Blood pressure\\BP data\\models\\CNN+LSTM+all+25Hz-03-247.2418.hdf5\n",
            "9744/9744 [==============================] - 776s 80ms/step - loss: 247.2418 - mae: 11.7901 - val_loss: 592.8345 - val_mae: 19.9454\n",
            "Epoch 4/300\n",
            "9743/9744 [============================>.] - ETA: 0s - loss: 243.6911 - mae: 11.6798\n",
            "Epoch 00004: loss improved from 247.24179 to 243.69105, saving model to C:\\Users\\57lzhang.US04WW4008\\Desktop\\Blood pressure\\BP data\\models\\CNN+LSTM+all+25Hz-04-243.6911.hdf5\n",
            "9744/9744 [==============================] - 754s 77ms/step - loss: 243.6911 - mae: 11.6798 - val_loss: 1105.7523 - val_mae: 27.6668\n",
            "Epoch 5/300\n",
            "9743/9744 [============================>.] - ETA: 0s - loss: 243.9365 - mae: 11.7058\n",
            "Epoch 00005: loss did not improve from 243.69105\n",
            "9744/9744 [==============================] - 785s 81ms/step - loss: 243.9347 - mae: 11.7058 - val_loss: 993.8267 - val_mae: 26.5374\n",
            "Epoch 6/300\n",
            "9743/9744 [============================>.] - ETA: 0s - loss: 243.5095 - mae: 11.6996\n",
            "Epoch 00006: loss improved from 243.69105 to 243.50723, saving model to C:\\Users\\57lzhang.US04WW4008\\Desktop\\Blood pressure\\BP data\\models\\CNN+LSTM+all+25Hz-06-243.5072.hdf5\n",
            "9744/9744 [==============================] - 786s 81ms/step - loss: 243.5072 - mae: 11.6996 - val_loss: 485.0530 - val_mae: 16.8776\n",
            "Epoch 7/300\n",
            "9743/9744 [============================>.] - ETA: 0s - loss: 242.0496 - mae: 11.6565\n",
            "Epoch 00007: loss improved from 243.50723 to 242.04928, saving model to C:\\Users\\57lzhang.US04WW4008\\Desktop\\Blood pressure\\BP data\\models\\CNN+LSTM+all+25Hz-07-242.0493.hdf5\n",
            "9744/9744 [==============================] - 752s 77ms/step - loss: 242.0493 - mae: 11.6565 - val_loss: 504.3537 - val_mae: 17.0710\n",
            "Epoch 8/300\n",
            "9743/9744 [============================>.] - ETA: 0s - loss: 243.8961 - mae: 11.7035\n",
            "Epoch 00008: loss did not improve from 242.04928\n",
            "9744/9744 [==============================] - 759s 78ms/step - loss: 243.8923 - mae: 11.7035 - val_loss: 777.3623 - val_mae: 22.5776\n",
            "Epoch 9/300\n",
            "9743/9744 [============================>.] - ETA: 0s - loss: 243.7910 - mae: 11.7052\n",
            "Epoch 00009: loss did not improve from 242.04928\n",
            "9744/9744 [==============================] - 796s 82ms/step - loss: 243.7880 - mae: 11.7052 - val_loss: 534.3170 - val_mae: 18.5554\n",
            "Epoch 10/300\n",
            "9743/9744 [============================>.] - ETA: 0s - loss: 244.1295 - mae: 11.7281\n",
            "Epoch 00010: loss did not improve from 242.04928\n",
            "9744/9744 [==============================] - 753s 77ms/step - loss: 244.1290 - mae: 11.7281 - val_loss: 418.0389 - val_mae: 15.9242\n",
            "Epoch 11/300\n",
            " 174/9744 [..............................] - ETA: 10:57 - loss: 286.4083 - mae: 12.5003"
          ],
          "name": "stdout"
        }
      ]
    },
    {
      "cell_type": "markdown",
      "metadata": {
        "id": "IfnasVq2Tqjg",
        "colab_type": "text"
      },
      "source": [
        "# 5.Model Evaluation"
      ]
    },
    {
      "cell_type": "code",
      "metadata": {
        "id": "nZyzAHekTsy5",
        "colab_type": "code",
        "colab": {}
      },
      "source": [
        "#os.chdir(r\"C:\\Users\\57lzhang.US04WW4008\\Desktop\\Blood pressure\\BP data\\models\")\n",
        "#model = tf.keras.models.load_model('CNN+LSTM-285-10.2110.hdf5')"
      ],
      "execution_count": 0,
      "outputs": []
    },
    {
      "cell_type": "markdown",
      "metadata": {
        "id": "6aMp1YpLTw7C",
        "colab_type": "text"
      },
      "source": [
        "## 5.2 MAE"
      ]
    },
    {
      "cell_type": "code",
      "metadata": {
        "id": "sVw6N8kAA3px",
        "colab_type": "code",
        "colab": {}
      },
      "source": [
        "test_data_dir = \"D:/WFDB/matched/BP/Cleaned Data/test/data*\"\n",
        "test_data_fn = glob.glob(test_data_dir)\n",
        "test_label_dir = \"D:/WFDB/matched/BP/Cleaned Data/test/label*\"\n",
        "test_label_fn = glob.glob(test_label_dir)"
      ],
      "execution_count": 0,
      "outputs": []
    },
    {
      "cell_type": "code",
      "metadata": {
        "id": "k66uuZg-Ay4-",
        "colab_type": "code",
        "colab": {}
      },
      "source": [
        "def test_data_generator():\n",
        "  for i in range(len(test_data_fn)):\n",
        "    data = pickle.load(open(test_data_fn[i],'rb'))\n",
        "    yield data"
      ],
      "execution_count": 0,
      "outputs": []
    },
    {
      "cell_type": "code",
      "metadata": {
        "id": "2ScA5IlA-G84",
        "colab_type": "code",
        "colab": {}
      },
      "source": [
        "bp_estimate=model.predict_generator(test_data_generator,steps=len(test_data_fn)/batch_size)"
      ],
      "execution_count": 0,
      "outputs": []
    },
    {
      "cell_type": "code",
      "metadata": {
        "id": "HGR81k40A44c",
        "colab_type": "code",
        "colab": {}
      },
      "source": [
        "from sklearn.metrics import mean_absolute_error\n",
        "sys_mae = mean_absolute_error(test_labels[:,0], bp_estimate[:,0])\n",
        "dia_mae = mean_absolute_error(test_labels[:,1], bp_estimate[:,1])\n",
        "print(\"Systolic MAE in test dataset:\", round(sys_mae,1))\n",
        "print(\"Diastolic MAE in test dataset:\", round(dia_mae,1))"
      ],
      "execution_count": 0,
      "outputs": []
    }
  ]
}