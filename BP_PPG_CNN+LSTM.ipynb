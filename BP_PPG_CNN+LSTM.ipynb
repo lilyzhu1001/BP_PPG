{
  "nbformat": 4,
  "nbformat_minor": 0,
  "metadata": {
    "colab": {
      "name": "BP_PPG_CNN+LSTM.ipynb",
      "provenance": [],
      "collapsed_sections": [],
      "toc_visible": true,
      "authorship_tag": "ABX9TyPd/jC4oxbiOz9BK8IiYR+U",
      "include_colab_link": true
    },
    "kernelspec": {
      "name": "python3",
      "display_name": "Python 3"
    }
  },
  "cells": [
    {
      "cell_type": "markdown",
      "metadata": {
        "id": "view-in-github",
        "colab_type": "text"
      },
      "source": [
        "<a href=\"https://colab.research.google.com/github/supertime1/BP_PPG/blob/master/BP_PPG_CNN%2BLSTM.ipynb\" target=\"_parent\"><img src=\"https://colab.research.google.com/assets/colab-badge.svg\" alt=\"Open In Colab\"/></a>"
      ]
    },
    {
      "cell_type": "markdown",
      "metadata": {
        "id": "uWP-_pXlUKmp",
        "colab_type": "text"
      },
      "source": [
        "#1.Introduction"
      ]
    },
    {
      "cell_type": "markdown",
      "metadata": {
        "id": "3mOoV1yuUKlh",
        "colab_type": "text"
      },
      "source": [
        "This notebook trains an simple PPG DNN by using labeled PPG data from Afib_Data_Clean notebook;\n",
        "The loaded data is 30s segemented PPG signals with 125Hz sampling rate."
      ]
    },
    {
      "cell_type": "markdown",
      "metadata": {
        "id": "bfCfr60kSTDU",
        "colab_type": "text"
      },
      "source": [
        "#2.Setup Environment\n",
        "\n"
      ]
    },
    {
      "cell_type": "code",
      "metadata": {
        "id": "cvqxVijHSFk2",
        "colab_type": "code",
        "outputId": "843060e3-c171-4269-b6db-d31c1efc7ea5",
        "colab": {
          "base_uri": "https://localhost:8080/",
          "height": 34
        }
      },
      "source": [
        "from IPython.display import display\n",
        "import pandas as pd\n",
        "import matplotlib.pyplot as plt\n",
        "%matplotlib inline\n",
        "%load_ext tensorboard\n",
        "import numpy as np\n",
        "import os\n",
        "import shutil\n",
        "import glob\n",
        "import wfdb\n",
        "import tensorflow as tf\n",
        "from tensorflow import keras\n",
        "from tensorflow.keras.models import load_model \n",
        "from tensorflow.keras.callbacks import TensorBoard, ModelCheckpoint\n",
        "import tensorflow_datasets as tfds\n",
        "import multiprocessing\n",
        "from datetime import datetime\n",
        "import sklearn.metrics\n",
        "import itertools\n",
        "import io\n",
        "import pickle\n",
        "print(tf.__version__)"
      ],
      "execution_count": 1,
      "outputs": [
        {
          "output_type": "stream",
          "text": [
            "2.1.0\n"
          ],
          "name": "stdout"
        }
      ]
    },
    {
      "cell_type": "code",
      "metadata": {
        "id": "z8y478FMSLVU",
        "colab_type": "code",
        "colab": {}
      },
      "source": [
        "#run this cell to log device placement info\n",
        "tf.debugging.set_log_device_placement(True)"
      ],
      "execution_count": 0,
      "outputs": []
    },
    {
      "cell_type": "code",
      "metadata": {
        "id": "z5Qo9PRdSOdv",
        "colab_type": "code",
        "outputId": "fd5dbfe1-dbcd-4fdb-9e18-47c0af802dac",
        "colab": {
          "base_uri": "https://localhost:8080/",
          "height": 872
        }
      },
      "source": [
        "from tensorflow.python.client import device_lib \n",
        "print(device_lib.list_local_devices())"
      ],
      "execution_count": 0,
      "outputs": [
        {
          "output_type": "stream",
          "text": [
            "[name: \"/device:CPU:0\"\n",
            "device_type: \"CPU\"\n",
            "memory_limit: 268435456\n",
            "locality {\n",
            "}\n",
            "incarnation: 17489153691915448674\n",
            ", name: \"/device:GPU:0\"\n",
            "device_type: \"GPU\"\n",
            "memory_limit: 6599774044\n",
            "locality {\n",
            "  bus_id: 1\n",
            "  links {\n",
            "  }\n",
            "}\n",
            "incarnation: 17826745072758545612\n",
            "physical_device_desc: \"device: 0, name: Quadro RTX 4000, pci bus id: 0000:02:00.0, compute capability: 7.5\"\n",
            ", name: \"/device:GPU:1\"\n",
            "device_type: \"GPU\"\n",
            "memory_limit: 6599774044\n",
            "locality {\n",
            "  bus_id: 1\n",
            "  links {\n",
            "  }\n",
            "}\n",
            "incarnation: 6881992550934106132\n",
            "physical_device_desc: \"device: 1, name: Quadro RTX 4000, pci bus id: 0000:05:00.0, compute capability: 7.5\"\n",
            ", name: \"/device:GPU:2\"\n",
            "device_type: \"GPU\"\n",
            "memory_limit: 6599774044\n",
            "locality {\n",
            "  bus_id: 1\n",
            "  links {\n",
            "  }\n",
            "}\n",
            "incarnation: 4826959205987158995\n",
            "physical_device_desc: \"device: 2, name: Quadro RTX 4000, pci bus id: 0000:17:00.0, compute capability: 7.5\"\n",
            ", name: \"/device:GPU:3\"\n",
            "device_type: \"GPU\"\n",
            "memory_limit: 6599774044\n",
            "locality {\n",
            "  bus_id: 1\n",
            "  links {\n",
            "  }\n",
            "}\n",
            "incarnation: 15876387964812918189\n",
            "physical_device_desc: \"device: 3, name: Quadro RTX 4000, pci bus id: 0000:65:00.0, compute capability: 7.5\"\n",
            "]\n"
          ],
          "name": "stdout"
        }
      ]
    },
    {
      "cell_type": "code",
      "metadata": {
        "id": "EBpW2rfESO-0",
        "colab_type": "code",
        "outputId": "9c1e18a0-a6be-4769-c43d-9ea4c77e2eb1",
        "colab": {
          "base_uri": "https://localhost:8080/",
          "height": 34
        }
      },
      "source": [
        "tf.test.is_built_with_cuda()"
      ],
      "execution_count": 2,
      "outputs": [
        {
          "output_type": "execute_result",
          "data": {
            "text/plain": [
              "True"
            ]
          },
          "metadata": {
            "tags": []
          },
          "execution_count": 2
        }
      ]
    },
    {
      "cell_type": "markdown",
      "metadata": {
        "colab_type": "text",
        "id": "oFD2ZNOoGMsP"
      },
      "source": [
        "#3.Data Pipeline"
      ]
    },
    {
      "cell_type": "markdown",
      "metadata": {
        "colab_type": "text",
        "id": "KpK35SW3GMsU"
      },
      "source": [
        "## 3.1 Input Data"
      ]
    },
    {
      "cell_type": "markdown",
      "metadata": {
        "id": "RyzcW402CE7r",
        "colab_type": "text"
      },
      "source": [
        "###3.1.1 Concatenate\n",
        "Run the following code if data and label have not been concatenated"
      ]
    },
    {
      "cell_type": "code",
      "metadata": {
        "id": "LgQl-N5zqA0C",
        "colab_type": "code",
        "colab": {}
      },
      "source": [
        "#concatenate data\n",
        "def concatenate_data(directory):\n",
        "  raw_signals_list = []\n",
        "  files_list = directory + \"filtered_PPG*.pkl\"\n",
        "  for name in glob.glob(files_list):\n",
        "    raw_signal = pickle.load(open(name,'rb'))\n",
        "    raw_signals_list.append(raw_signal)\n",
        "  raw_signals = [y for x in raw_signals_list for y in x]\n",
        "  return raw_signals"
      ],
      "execution_count": 0,
      "outputs": []
    },
    {
      "cell_type": "code",
      "metadata": {
        "id": "IQbRUHiBK1X6",
        "colab_type": "code",
        "colab": {}
      },
      "source": [
        "#load PPG signal\n",
        "raw_signals = concatenate_data('C:/Users/57lzhang.US04WW4008/Desktop/Afib/Afib data/Afib PPG data/015ECG_015PPG_flatline/')"
      ],
      "execution_count": 0,
      "outputs": []
    },
    {
      "cell_type": "code",
      "metadata": {
        "id": "lBFjh6t_2isb",
        "colab_type": "code",
        "colab": {}
      },
      "source": [
        "with open('C:/Users/57lzhang.US04WW4008/Desktop/Afib/Afib data/Afib PPG data/015ECG_015PPG_flatline/data', \"wb\") as fp:\n",
        "  pickle.dump(raw_signals, fp)"
      ],
      "execution_count": 0,
      "outputs": []
    },
    {
      "cell_type": "code",
      "metadata": {
        "id": "2ujLqJDnSiKv",
        "colab_type": "code",
        "colab": {}
      },
      "source": [
        "#concatenate label\n",
        "def concatenate_label(directory):\n",
        "  raw_labels_list = []\n",
        "  files_list = directory + \"ECG_Afib_labels*.csv\"\n",
        "  for name in glob.glob(files_list):\n",
        "    df = pd.read_csv(name,header=None)\n",
        "    labels = df.to_numpy()\n",
        "    raw_labels_list.append(labels.tolist())\n",
        "    \n",
        "  raw_labels = [y for x in raw_labels_list for y in x]\n",
        "  return raw_labels"
      ],
      "execution_count": 0,
      "outputs": []
    },
    {
      "cell_type": "code",
      "metadata": {
        "id": "ruQdDT6vZVsx",
        "colab_type": "code",
        "colab": {}
      },
      "source": [
        "raw_labels = concatenate_label('C:/Users/57lzhang.US04WW4008/Desktop/Afib/Afib data/Afib PPG data/015ECG_015PPG_flatline/')"
      ],
      "execution_count": 0,
      "outputs": []
    },
    {
      "cell_type": "code",
      "metadata": {
        "id": "tZSNI0tT_vl7",
        "colab_type": "code",
        "colab": {}
      },
      "source": [
        "with open('C:/Users/57lzhang.US04WW4008/Desktop/Afib/Afib data/Afib PPG data/015ECG_015PPG_flatline/labels', \"wb\") as fp:\n",
        "  pickle.dump(raw_labels, fp)"
      ],
      "execution_count": 0,
      "outputs": []
    },
    {
      "cell_type": "markdown",
      "metadata": {
        "id": "U4zeVPo0_ZIS",
        "colab_type": "text"
      },
      "source": [
        "###3.1.2 Load data and label"
      ]
    },
    {
      "cell_type": "code",
      "metadata": {
        "id": "53We0mIum1Hi",
        "colab_type": "code",
        "colab": {}
      },
      "source": [
        "with open('C:/Users/57lzhang.US04WW4008/Desktop/Blood pressure/BP data/BP_data.pkl', \"rb\") as fp:\n",
        "  raw_signals = pickle.load(fp)"
      ],
      "execution_count": 0,
      "outputs": []
    },
    {
      "cell_type": "code",
      "metadata": {
        "id": "WJxRwdweCvpK",
        "colab_type": "code",
        "colab": {}
      },
      "source": [
        "with open('C:/Users/57lzhang.US04WW4008/Desktop/Blood pressure/BP data/BP_label.pkl', \"rb\") as fp:\n",
        "  raw_labels = pickle.load(fp)"
      ],
      "execution_count": 0,
      "outputs": []
    },
    {
      "cell_type": "code",
      "metadata": {
        "id": "KKl8DpkGJiPk",
        "colab_type": "code",
        "outputId": "1499762c-1816-4797-d8cf-c05604d16bb8",
        "colab": {
          "base_uri": "https://localhost:8080/",
          "height": 52
        }
      },
      "source": [
        "#create the right dim for signals\n",
        "raw_signals = np.array(raw_signals)\n",
        "print('signals dim before resize',raw_signals.shape)\n",
        "raw_signals = np.reshape(raw_signals,[len(raw_signals),10,750])\n",
        "raw_signals = np.expand_dims(raw_signals, axis=3)\n",
        "print('signals dim:', raw_signals.shape)"
      ],
      "execution_count": 5,
      "outputs": [
        {
          "output_type": "stream",
          "text": [
            "signals dim before resize (9102, 7500)\n",
            "signals dim: (9102, 10, 750, 1)\n"
          ],
          "name": "stdout"
        }
      ]
    },
    {
      "cell_type": "code",
      "metadata": {
        "id": "LjDHx1tyYTPR",
        "colab_type": "code",
        "outputId": "0de04af1-e61e-4d95-ce2c-1b05c7579c2d",
        "colab": {
          "base_uri": "https://localhost:8080/",
          "height": 34
        }
      },
      "source": [
        "raw_labels = np.array(raw_labels)\n",
        "print('labels dim',raw_labels.shape)"
      ],
      "execution_count": 6,
      "outputs": [
        {
          "output_type": "stream",
          "text": [
            "labels dim (9102, 2)\n"
          ],
          "name": "stdout"
        }
      ]
    },
    {
      "cell_type": "markdown",
      "metadata": {
        "id": "Rp2Wbr44C_f1",
        "colab_type": "text"
      },
      "source": [
        "###3.1.2 Generate train,val and test"
      ]
    },
    {
      "cell_type": "code",
      "metadata": {
        "id": "07gKGNgmBxuR",
        "colab_type": "code",
        "colab": {}
      },
      "source": [
        "#ratio value is between 0 and 1\n",
        "#make sure seed is set to a same number for repeatable results\\\n",
        "#or to compare models apple to apple\n",
        "def slice_dataset(dataset,labels,train_ratio,seed = 10):  \n",
        "  DATASET_SIZE =len(list(dataset)) #only works in eager mode (e.g. TF version >= 2.0.x)\n",
        "  train_size = int(train_ratio * DATASET_SIZE)\n",
        "  val_size = DATASET_SIZE - train_size\n",
        "  \n",
        "  np.random.seed(seed=seed)\n",
        "  np.random.shuffle(dataset)\n",
        "  train_dataset = dataset[:train_size,:,:]\n",
        "  val_dataset = dataset[-val_size:,:,:]\n",
        "\n",
        "  np.random.seed(seed=seed)\n",
        "  np.random.shuffle(labels)\n",
        "  train_labels = labels[:train_size,:]\n",
        "  val_labels = labels[-val_size:,:]\n",
        "\n",
        "  return train_dataset,val_dataset,train_labels, val_labels"
      ],
      "execution_count": 0,
      "outputs": []
    },
    {
      "cell_type": "markdown",
      "metadata": {
        "id": "ZWoDO-CFDJtq",
        "colab_type": "text"
      },
      "source": [
        "Generate train, val and test data and labels"
      ]
    },
    {
      "cell_type": "code",
      "metadata": {
        "id": "u0ER6WvB2ELH",
        "colab_type": "code",
        "outputId": "1d1f8ceb-8aa4-455c-c26a-ad3fb03ae1d9",
        "colab": {
          "base_uri": "https://localhost:8080/",
          "height": 87
        }
      },
      "source": [
        "train_dataset, test_dataset, train_labels, test_labels  = slice_dataset(raw_signals,raw_labels,0.95)\n",
        "print(\"train_dataset dim\", train_dataset.shape)\n",
        "print(\"train_labels dim\", train_labels.shape)\n",
        "print(\"test_dataset dim\", test_dataset.shape)\n",
        "print(\"test_labels dim\", test_labels.shape)"
      ],
      "execution_count": 8,
      "outputs": [
        {
          "output_type": "stream",
          "text": [
            "train_dataset dim (8646, 10, 750, 1)\n",
            "train_labels dim (8646, 2)\n",
            "test_dataset dim (456, 10, 750, 1)\n",
            "test_labels dim (456, 2)\n"
          ],
          "name": "stdout"
        }
      ]
    },
    {
      "cell_type": "code",
      "metadata": {
        "id": "Q6sX02K7zx4j",
        "colab_type": "code",
        "outputId": "9ec380d2-ab7f-4ecb-8446-df8e851e928f",
        "colab": {
          "base_uri": "https://localhost:8080/",
          "height": 87
        }
      },
      "source": [
        "train_dataset, val_dataset, train_labels, val_labels  = slice_dataset(train_dataset,train_labels,0.9)\n",
        "print(\"train_dataset dim\", train_dataset.shape)\n",
        "print(\"train_labels dim\", train_labels.shape)\n",
        "print(\"val_dataset dim\", val_dataset.shape)\n",
        "print(\"val_labels dim\", val_labels.shape)"
      ],
      "execution_count": 9,
      "outputs": [
        {
          "output_type": "stream",
          "text": [
            "train_dataset dim (7781, 10, 750, 1)\n",
            "train_labels dim (7781, 2)\n",
            "val_dataset dim (865, 10, 750, 1)\n",
            "val_labels dim (865, 2)\n"
          ],
          "name": "stdout"
        }
      ]
    },
    {
      "cell_type": "markdown",
      "metadata": {
        "id": "N-RT-91ID_zl",
        "colab_type": "text"
      },
      "source": [
        "Check the distribution of systolic and diastolic BP value"
      ]
    },
    {
      "cell_type": "code",
      "metadata": {
        "colab_type": "code",
        "outputId": "26ae91a5-0a57-4d1f-862e-19360184d07a",
        "id": "ziYh6d2YGMs2",
        "colab": {
          "base_uri": "https://localhost:8080/",
          "height": 298
        }
      },
      "source": [
        "#check sys and dia distribution in train dataset\n",
        "plt.title(\"Systolic and diastolic distribution in TRAINING dataset\")\n",
        "plt.hist(train_labels[:,0], label=\"systolic\")\n",
        "plt.hist(train_labels[:,1],label=\"diastolic\")\n",
        "plt.legend()"
      ],
      "execution_count": 10,
      "outputs": [
        {
          "output_type": "execute_result",
          "data": {
            "text/plain": [
              "<matplotlib.legend.Legend at 0x1aff1b53288>"
            ]
          },
          "metadata": {
            "tags": []
          },
          "execution_count": 10
        },
        {
          "output_type": "display_data",
          "data": {
            "text/plain": [
              "<Figure size 432x288 with 1 Axes>"
            ],
            "image/png": "[encoded data removed]"
          },
          "metadata": {
            "tags": [],
            "needs_background": "light"
          }
        }
      ]
    },
    {
      "cell_type": "code",
      "metadata": {
        "colab_type": "code",
        "outputId": "7521b444-51fb-4cc5-e4c6-55b213bf7c95",
        "id": "1uZfksv4GMs4",
        "colab": {
          "base_uri": "https://localhost:8080/",
          "height": 298
        }
      },
      "source": [
        "#check sys and dia distribution in validation dataset\n",
        "plt.title(\"Systolic and diastolic distribution in VALIDATION dataset\")\n",
        "plt.hist(val_labels[:,0], label=\"systolic\")\n",
        "plt.hist(val_labels[:,1],label=\"diastolic\")\n",
        "plt.legend()"
      ],
      "execution_count": 11,
      "outputs": [
        {
          "output_type": "execute_result",
          "data": {
            "text/plain": [
              "<matplotlib.legend.Legend at 0x1afff7844c8>"
            ]
          },
          "metadata": {
            "tags": []
          },
          "execution_count": 11
        },
        {
          "output_type": "display_data",
          "data": {
            "text/plain": [
              "<Figure size 432x288 with 1 Axes>"
            ],
            "image/png": "[encoded data removed]"
          },
          "metadata": {
            "tags": [],
            "needs_background": "light"
          }
        }
      ]
    },
    {
      "cell_type": "code",
      "metadata": {
        "colab_type": "code",
        "outputId": "eeea9a12-d09e-4597-f9e0-984028944c0c",
        "id": "YvJDtg4tGMs6",
        "colab": {
          "base_uri": "https://localhost:8080/",
          "height": 298
        }
      },
      "source": [
        "#check sys and dia distribution in test dataset\n",
        "plt.title(\"Systolic and diastolic distribution in TEST dataset\")\n",
        "plt.hist(test_labels[:,0], label=\"systolic\")\n",
        "plt.hist(test_labels[:,1],label=\"diastolic\")\n",
        "plt.legend()"
      ],
      "execution_count": 12,
      "outputs": [
        {
          "output_type": "execute_result",
          "data": {
            "text/plain": [
              "<matplotlib.legend.Legend at 0x1affe4c6e08>"
            ]
          },
          "metadata": {
            "tags": []
          },
          "execution_count": 12
        },
        {
          "output_type": "display_data",
          "data": {
            "text/plain": [
              "<Figure size 432x288 with 1 Axes>"
            ],
            "image/png": "[encoded data removed]"
          },
          "metadata": {
            "tags": [],
            "needs_background": "light"
          }
        }
      ]
    },
    {
      "cell_type": "markdown",
      "metadata": {
        "colab_type": "text",
        "id": "4u32j5uJGMs8"
      },
      "source": [
        "## 3.2 Extract, Transform and Load data"
      ]
    },
    {
      "cell_type": "markdown",
      "metadata": {
        "colab_type": "text",
        "id": "bG4_EtxRGMs8"
      },
      "source": [
        "###3.2.1 Parallelize Extraction"
      ]
    },
    {
      "cell_type": "code",
      "metadata": {
        "colab_type": "code",
        "id": "U0Mo73K8GMs9",
        "colab": {}
      },
      "source": [
        "#use interleave if more than one file are used\n",
        "train = tf.data.Dataset.from_tensor_slices((train_dataset,train_labels)) "
      ],
      "execution_count": 0,
      "outputs": []
    },
    {
      "cell_type": "code",
      "metadata": {
        "colab_type": "code",
        "id": "GaQyR9mhGMs_",
        "colab": {}
      },
      "source": [
        "validation = tf.data.Dataset.from_tensor_slices((val_dataset,val_labels))"
      ],
      "execution_count": 0,
      "outputs": []
    },
    {
      "cell_type": "markdown",
      "metadata": {
        "colab_type": "text",
        "id": "Ss2nwlA3GMtB"
      },
      "source": [
        "### 3.2.2 Parallelize Transformation\n"
      ]
    },
    {
      "cell_type": "code",
      "metadata": {
        "colab_type": "code",
        "outputId": "988c8f16-7016-45c0-a876-1b741a94dd64",
        "id": "wt9paii8GMtB",
        "colab": {
          "base_uri": "https://localhost:8080/",
          "height": 34
        }
      },
      "source": [
        "#don't need to run this cell, just as a placeholder\n",
        "cores = multiprocessing.cpu_count()\n",
        "print(cores)\n",
        "#dataset = dataset.map(function, num_parallel_calls = cores)"
      ],
      "execution_count": 0,
      "outputs": [
        {
          "output_type": "stream",
          "text": [
            "12\n"
          ],
          "name": "stdout"
        }
      ]
    },
    {
      "cell_type": "markdown",
      "metadata": {
        "colab_type": "text",
        "id": "0PxkcHUtGMtD"
      },
      "source": [
        "### 3.2.3 Parallelize Loading"
      ]
    },
    {
      "cell_type": "code",
      "metadata": {
        "colab_type": "code",
        "id": "0eNX0PYsGMtE",
        "colab": {}
      },
      "source": [
        "batch_size = 32\n",
        "train_dataset = train.cache()\n",
        "train_dataset = train_dataset.shuffle(len(list(train))).repeat().batch(batch_size,drop_remainder=True)\n",
        "train_dataset = train_dataset.prefetch(buffer_size = tf.data.experimental.AUTOTUNE)\n",
        "val_dataset = validation.repeat().batch(batch_size, drop_remainder=True)"
      ],
      "execution_count": 0,
      "outputs": []
    },
    {
      "cell_type": "markdown",
      "metadata": {
        "id": "ikiF9-uDTI-h",
        "colab_type": "text"
      },
      "source": [
        "#4.Train Model"
      ]
    },
    {
      "cell_type": "markdown",
      "metadata": {
        "id": "MeF1mUEJTN60",
        "colab_type": "text"
      },
      "source": [
        "##4.1 CNN + LSTM"
      ]
    },
    {
      "cell_type": "code",
      "metadata": {
        "id": "6gH902sEMO7T",
        "colab_type": "code",
        "outputId": "366c0b1a-6e34-4614-973e-9d9b0d3aa1dc",
        "colab": {
          "base_uri": "https://localhost:8080/",
          "height": 301
        }
      },
      "source": [
        "from tensorflow.keras.layers import BatchNormalization\n",
        "BatchNormalization._USE_V2_BEHAVIOR = False\n",
        "#create CNN layers\n",
        "cnn = tf.keras.Sequential([\n",
        "    #1st Conv1D\n",
        "    tf.keras.layers.Conv1D(8, 1, strides=1, \n",
        "                          activation='relu'),\n",
        "    tf.keras.layers.BatchNormalization(),\n",
        "    tf.keras.layers.MaxPooling1D(pool_size=2,strides=2),\n",
        "    tf.keras.layers.Dropout(0.2),\n",
        "    #2nd Conv1D\n",
        "    tf.keras.layers.Conv1D(16, 3, strides=1,\n",
        "                          activation='relu'),\n",
        "    tf.keras.layers.BatchNormalization(),\n",
        "    tf.keras.layers.MaxPooling1D(pool_size=2,strides=2),\n",
        "    tf.keras.layers.Dropout(0.2),\n",
        "    #3rd Conv1D\n",
        "    tf.keras.layers.Conv1D(32, 3, strides=1,\n",
        "                          activation='relu'),\n",
        "    tf.keras.layers.BatchNormalization(),\n",
        "    tf.keras.layers.MaxPooling1D(pool_size=2,strides=2),\n",
        "    tf.keras.layers.Dropout(0.2),\n",
        "    #4th Conv1D\n",
        "    tf.keras.layers.Conv1D(64, 3, strides=1,\n",
        "                          activation='relu'),\n",
        "    tf.keras.layers.BatchNormalization(),\n",
        "    tf.keras.layers.MaxPooling1D(pool_size=2,strides=2),\n",
        "    tf.keras.layers.Dropout(0.2),\n",
        "    #5th Conv1D\n",
        "    tf.keras.layers.Conv1D(16, 1, strides=1,\n",
        "                          activation='relu'),\n",
        "    tf.keras.layers.BatchNormalization(),\n",
        "    #Full connection layer\n",
        "    tf.keras.layers.Flatten()\n",
        "])\n",
        "\n",
        "#combine with LSTM\n",
        "model = tf.keras.Sequential([\n",
        "        tf.keras.layers.TimeDistributed(cnn,input_shape=(10,750,1)),                   \n",
        "        tf.keras.layers.Bidirectional(tf.keras.layers.LSTM(32,return_sequences=True)),\n",
        "        tf.keras.layers.Bidirectional(tf.keras.layers.LSTM(16)),\n",
        "        tf.keras.layers.Dense(2)\n",
        "])\n",
        "\n",
        "model.summary()"
      ],
      "execution_count": 33,
      "outputs": [
        {
          "output_type": "stream",
          "text": [
            "Model: \"sequential_1\"\n",
            "_________________________________________________________________\n",
            "Layer (type)                 Output Shape              Param #   \n",
            "=================================================================\n",
            "time_distributed (TimeDistri (None, 10, 720)           9776      \n",
            "_________________________________________________________________\n",
            "bidirectional (Bidirectional (None, 10, 64)            192768    \n",
            "_________________________________________________________________\n",
            "bidirectional_1 (Bidirection (None, 32)                10368     \n",
            "_________________________________________________________________\n",
            "dense (Dense)                (None, 2)                 66        \n",
            "=================================================================\n",
            "Total params: 212,978\n",
            "Trainable params: 212,706\n",
            "Non-trainable params: 272\n",
            "_________________________________________________________________\n"
          ],
          "name": "stdout"
        }
      ]
    },
    {
      "cell_type": "markdown",
      "metadata": {
        "id": "iV4AOP5AXh5P",
        "colab_type": "text"
      },
      "source": [
        "##4.2 Define callbacks"
      ]
    },
    {
      "cell_type": "markdown",
      "metadata": {
        "id": "a_1LxToVXqBO",
        "colab_type": "text"
      },
      "source": [
        "###4.2.1 Learning rate scheduler"
      ]
    },
    {
      "cell_type": "code",
      "metadata": {
        "id": "RqkfWOvWXlfE",
        "colab_type": "code",
        "colab": {}
      },
      "source": [
        "def decay(epoch):\n",
        "  if epoch < 50:\n",
        "    return 1e-3\n",
        "  elif epoch >= 50 and epoch < 200:\n",
        "    return 1e-4\n",
        "  else:\n",
        "    return 1e-5"
      ],
      "execution_count": 0,
      "outputs": []
    },
    {
      "cell_type": "code",
      "metadata": {
        "id": "oyV2EoQtXtV-",
        "colab_type": "code",
        "colab": {}
      },
      "source": [
        "#callback: schedule a learning rate incline iteration\n",
        "lr_schedule = tf.keras.callbacks.LearningRateScheduler(decay)"
      ],
      "execution_count": 0,
      "outputs": []
    },
    {
      "cell_type": "markdown",
      "metadata": {
        "id": "vD8quc5CXwa5",
        "colab_type": "text"
      },
      "source": [
        "###4.2.2 Tensorboard"
      ]
    },
    {
      "cell_type": "code",
      "metadata": {
        "id": "T7h_p1YnXz1R",
        "colab_type": "code",
        "colab": {}
      },
      "source": [
        "#callback: tensorboard\n",
        "log_dir=r\"C:\\Users\\57lzhang.US04WW4008\\Desktop\\Blood pressure\\BP data\\logs\\fit\\\\\" + datetime.now().strftime(\"%Y%m%d-%H%M%S\") +\"CNN+LSTM\"\n",
        "tensorboard_callback = TensorBoard(log_dir=log_dir, histogram_freq=1)"
      ],
      "execution_count": 0,
      "outputs": []
    },
    {
      "cell_type": "markdown",
      "metadata": {
        "id": "rcdMgfv1YClx",
        "colab_type": "text"
      },
      "source": [
        "###4.2.4 Checkpoint"
      ]
    },
    {
      "cell_type": "code",
      "metadata": {
        "id": "OSqNrDZ_YKFv",
        "colab_type": "code",
        "colab": {}
      },
      "source": [
        "#callback: checkpoint\n",
        "filepath = r\"C:\\Users\\57lzhang.US04WW4008\\Desktop\\Blood pressure\\BP data\\models\\CNN+LSTM-{epoch:02d}-{loss:.4f}.hdf5\"\n",
        "checkpoint = ModelCheckpoint(filepath, monitor='loss', verbose=1, save_best_only=True, mode='auto')"
      ],
      "execution_count": 0,
      "outputs": []
    },
    {
      "cell_type": "markdown",
      "metadata": {
        "id": "t2ril_S4TVJS",
        "colab_type": "text"
      },
      "source": [
        "##4.3 Train the model "
      ]
    },
    {
      "cell_type": "markdown",
      "metadata": {
        "id": "boYor7DsTcXT",
        "colab_type": "text"
      },
      "source": [
        "### 4.3.1 Start Training"
      ]
    },
    {
      "cell_type": "code",
      "metadata": {
        "id": "-eqeVT1uTeOn",
        "colab_type": "code",
        "colab": {
          "base_uri": "https://localhost:8080/",
          "height": 1000
        },
        "outputId": "ad19aa45-2bb5-4f8e-8dfb-af10fa6b0863"
      },
      "source": [
        "#clear history if necessary\n",
        "tf.keras.backend.clear_session()\n",
        "#strategy = tf.distribute.MirroredStrategy(cross_device_ops=tf.distribute.HierarchicalCopyAllReduce()) ##to overwrite NCCL cross device communication as this is running in Windows\n",
        "#with strategy.scope():\n",
        "\n",
        "model = model\n",
        "\n",
        "model.compile(optimizer=tf.keras.optimizers.Adam(), \n",
        "              loss='mse', \n",
        "              metrics=['mae'])\n",
        "\n",
        "callbacks_list = [tensorboard_callback, checkpoint, lr_schedule]\n",
        "\n",
        "#start training\n",
        "model.fit(train_dataset,\n",
        "          epochs=300,\n",
        "          steps_per_epoch = len(list(train))/batch_size,\n",
        "          verbose=1,\n",
        "          validation_data=val_dataset,\n",
        "          validation_steps = len(list(validation))/batch_size,\n",
        "          callbacks=callbacks_list\n",
        "          )"
      ],
      "execution_count": 38,
      "outputs": [
        {
          "output_type": "stream",
          "text": [
            "Train for 243.15625 steps, validate for 27.03125 steps\n",
            "Epoch 1/300\n",
            "243/243 [============================>.] - ETA: 0s - loss: 8371.9828 - mae: 85.1020\n",
            "Epoch 00001: loss improved from inf to 8367.41581, saving model to C:\\Users\\57lzhang.US04WW4008\\Desktop\\Blood pressure\\BP data\\models\\CNN+LSTM-01-8367.4158.hdf5\n",
            "244/243 [==============================] - 23s 93ms/step - loss: 8367.4158 - mae: 85.0785 - val_loss: 7659.1064 - val_mae: 79.5240\n",
            "Epoch 2/300\n",
            "243/243 [============================>.] - ETA: 0s - loss: 6841.6644 - mae: 75.7857\n",
            "Epoch 00002: loss improved from 8367.41581 to 6838.55112, saving model to C:\\Users\\57lzhang.US04WW4008\\Desktop\\Blood pressure\\BP data\\models\\CNN+LSTM-02-6838.5511.hdf5\n",
            "244/243 [==============================] - 17s 69ms/step - loss: 6838.5511 - mae: 75.7664 - val_loss: 6409.1527 - val_mae: 71.6227\n",
            "Epoch 3/300\n",
            "243/243 [============================>.] - ETA: 0s - loss: 5740.1992 - mae: 68.2593\n",
            "Epoch 00003: loss improved from 6838.55112 to 5736.30189, saving model to C:\\Users\\57lzhang.US04WW4008\\Desktop\\Blood pressure\\BP data\\models\\CNN+LSTM-03-5736.3019.hdf5\n",
            "244/243 [==============================] - 17s 69ms/step - loss: 5736.3019 - mae: 68.2356 - val_loss: 5364.8529 - val_mae: 64.3651\n",
            "Epoch 4/300\n",
            "243/243 [============================>.] - ETA: 0s - loss: 4802.8401 - mae: 61.2205\n",
            "Epoch 00004: loss improved from 5736.30189 to 4801.93520, saving model to C:\\Users\\57lzhang.US04WW4008\\Desktop\\Blood pressure\\BP data\\models\\CNN+LSTM-04-4801.9352.hdf5\n",
            "244/243 [==============================] - 17s 71ms/step - loss: 4801.9352 - mae: 61.2136 - val_loss: 4480.6246 - val_mae: 57.6145\n",
            "Epoch 5/300\n",
            "243/243 [============================>.] - ETA: 0s - loss: 4014.8500 - mae: 54.7453\n",
            "Epoch 00005: loss improved from 4801.93520 to 4011.45882, saving model to C:\\Users\\57lzhang.US04WW4008\\Desktop\\Blood pressure\\BP data\\models\\CNN+LSTM-05-4011.4588.hdf5\n",
            "244/243 [==============================] - 17s 69ms/step - loss: 4011.4588 - mae: 54.7207 - val_loss: 3729.8878 - val_mae: 51.3183\n",
            "Epoch 6/300\n",
            "243/243 [============================>.] - ETA: 0s - loss: 3340.7440 - mae: 48.6351\n",
            "Epoch 00006: loss improved from 4011.45882 to 3339.01772, saving model to C:\\Users\\57lzhang.US04WW4008\\Desktop\\Blood pressure\\BP data\\models\\CNN+LSTM-06-3339.0177.hdf5\n",
            "244/243 [==============================] - 17s 70ms/step - loss: 3339.0177 - mae: 48.6209 - val_loss: 3094.4378 - val_mae: 45.4802\n",
            "Epoch 7/300\n",
            "243/243 [============================>.] - ETA: 0s - loss: 2774.1383 - mae: 43.0727\n",
            "Epoch 00007: loss improved from 3339.01772 to 2772.44394, saving model to C:\\Users\\57lzhang.US04WW4008\\Desktop\\Blood pressure\\BP data\\models\\CNN+LSTM-07-2772.4439.hdf5\n",
            "244/243 [==============================] - 17s 70ms/step - loss: 2772.4439 - mae: 43.0602 - val_loss: 2558.0103 - val_mae: 40.1232\n",
            "Epoch 8/300\n",
            "243/243 [============================>.] - ETA: 0s - loss: 2289.7475 - mae: 37.9573\n",
            "Epoch 00008: loss improved from 2772.44394 to 2288.19455, saving model to C:\\Users\\57lzhang.US04WW4008\\Desktop\\Blood pressure\\BP data\\models\\CNN+LSTM-08-2288.1946.hdf5\n",
            "244/243 [==============================] - 18s 72ms/step - loss: 2288.1946 - mae: 37.9371 - val_loss: 2106.7771 - val_mae: 35.3253\n",
            "Epoch 9/300\n",
            "243/243 [============================>.] - ETA: 0s - loss: 1892.4146 - mae: 33.5535\n",
            "Epoch 00009: loss improved from 2288.19455 to 1891.15174, saving model to C:\\Users\\57lzhang.US04WW4008\\Desktop\\Blood pressure\\BP data\\models\\CNN+LSTM-09-1891.1517.hdf5\n",
            "244/243 [==============================] - 17s 69ms/step - loss: 1891.1517 - mae: 33.5446 - val_loss: 1728.5908 - val_mae: 31.1584\n",
            "Epoch 10/300\n",
            "243/243 [============================>.] - ETA: 0s - loss: 1553.8133 - mae: 29.7053\n",
            "Epoch 00010: loss improved from 1891.15174 to 1553.82698, saving model to C:\\Users\\57lzhang.US04WW4008\\Desktop\\Blood pressure\\BP data\\models\\CNN+LSTM-10-1553.8270.hdf5\n",
            "244/243 [==============================] - 18s 72ms/step - loss: 1553.8270 - mae: 29.7016 - val_loss: 1413.0995 - val_mae: 27.6017\n",
            "Epoch 11/300\n",
            "243/243 [============================>.] - ETA: 0s - loss: 1269.6802 - mae: 26.3923\n",
            "Epoch 00011: loss improved from 1553.82698 to 1267.51516, saving model to C:\\Users\\57lzhang.US04WW4008\\Desktop\\Blood pressure\\BP data\\models\\CNN+LSTM-11-1267.5152.hdf5\n",
            "244/243 [==============================] - 17s 71ms/step - loss: 1267.5152 - mae: 26.3676 - val_loss: 1151.3362 - val_mae: 24.5832\n",
            "Epoch 12/300\n",
            "243/243 [============================>.] - ETA: 0s - loss: 1036.0382 - mae: 23.5750\n",
            "Epoch 00012: loss improved from 1267.51516 to 1035.78316, saving model to C:\\Users\\57lzhang.US04WW4008\\Desktop\\Blood pressure\\BP data\\models\\CNN+LSTM-12-1035.7832.hdf5\n",
            "244/243 [==============================] - 17s 70ms/step - loss: 1035.7832 - mae: 23.5699 - val_loss: 935.4607 - val_mae: 21.9398\n",
            "Epoch 13/300\n",
            "243/243 [============================>.] - ETA: 0s - loss: 847.1234 - mae: 21.1136\n",
            "Epoch 00013: loss improved from 1035.78316 to 846.29813, saving model to C:\\Users\\57lzhang.US04WW4008\\Desktop\\Blood pressure\\BP data\\models\\CNN+LSTM-13-846.2981.hdf5\n",
            "244/243 [==============================] - 17s 69ms/step - loss: 846.2981 - mae: 21.1008 - val_loss: 759.0100 - val_mae: 19.5823\n",
            "Epoch 14/300\n",
            "243/243 [============================>.] - ETA: 0s - loss: 687.8168 - mae: 18.8667\n",
            "Epoch 00014: loss improved from 846.29813 to 686.86224, saving model to C:\\Users\\57lzhang.US04WW4008\\Desktop\\Blood pressure\\BP data\\models\\CNN+LSTM-14-686.8622.hdf5\n",
            "244/243 [==============================] - 17s 70ms/step - loss: 686.8622 - mae: 18.8564 - val_loss: 617.2877 - val_mae: 17.5051\n",
            "Epoch 15/300\n",
            "243/243 [============================>.] - ETA: 0s - loss: 566.4987 - mae: 16.9541\n",
            "Epoch 00015: loss improved from 686.86224 to 565.73105, saving model to C:\\Users\\57lzhang.US04WW4008\\Desktop\\Blood pressure\\BP data\\models\\CNN+LSTM-15-565.7310.hdf5\n",
            "244/243 [==============================] - 17s 69ms/step - loss: 565.7310 - mae: 16.9436 - val_loss: 505.3589 - val_mae: 15.6951\n",
            "Epoch 16/300\n",
            "242/243 [============================>.] - ETA: 0s - loss: 466.8855 - mae: 15.3192\n",
            "Epoch 00016: loss improved from 565.73105 to 466.93900, saving model to C:\\Users\\57lzhang.US04WW4008\\Desktop\\Blood pressure\\BP data\\models\\CNN+LSTM-16-466.9390.hdf5\n",
            "244/243 [==============================] - 16s 66ms/step - loss: 466.9390 - mae: 15.3248 - val_loss: 419.4150 - val_mae: 14.2608\n",
            "Epoch 17/300\n",
            "243/243 [============================>.] - ETA: 0s - loss: 392.5802 - mae: 14.0512\n",
            "Epoch 00017: loss improved from 466.93900 to 392.31125, saving model to C:\\Users\\57lzhang.US04WW4008\\Desktop\\Blood pressure\\BP data\\models\\CNN+LSTM-17-392.3112.hdf5\n",
            "244/243 [==============================] - 15s 63ms/step - loss: 392.3112 - mae: 14.0444 - val_loss: 355.1213 - val_mae: 13.2352\n",
            "Epoch 18/300\n",
            "243/243 [============================>.] - ETA: 0s - loss: 335.9115 - mae: 13.1419\n",
            "Epoch 00018: loss improved from 392.31125 to 335.59019, saving model to C:\\Users\\57lzhang.US04WW4008\\Desktop\\Blood pressure\\BP data\\models\\CNN+LSTM-18-335.5902.hdf5\n",
            "244/243 [==============================] - 16s 66ms/step - loss: 335.5902 - mae: 13.1362 - val_loss: 309.0923 - val_mae: 12.5238\n",
            "Epoch 19/300\n",
            "242/243 [============================>.] - ETA: 0s - loss: 302.4275 - mae: 12.6218\n",
            "Epoch 00019: loss improved from 335.59019 to 302.04395, saving model to C:\\Users\\57lzhang.US04WW4008\\Desktop\\Blood pressure\\BP data\\models\\CNN+LSTM-19-302.0440.hdf5\n",
            "244/243 [==============================] - 15s 63ms/step - loss: 302.0440 - mae: 12.6161 - val_loss: 277.0723 - val_mae: 12.0562\n",
            "Epoch 20/300\n",
            "243/243 [============================>.] - ETA: 0s - loss: 272.6828 - mae: 12.1608\n",
            "Epoch 00020: loss improved from 302.04395 to 272.98946, saving model to C:\\Users\\57lzhang.US04WW4008\\Desktop\\Blood pressure\\BP data\\models\\CNN+LSTM-20-272.9895.hdf5\n",
            "244/243 [==============================] - 16s 65ms/step - loss: 272.9895 - mae: 12.1699 - val_loss: 256.4526 - val_mae: 11.7683\n",
            "Epoch 21/300\n",
            "243/243 [============================>.] - ETA: 0s - loss: 255.2986 - mae: 11.8877\n",
            "Epoch 00021: loss improved from 272.98946 to 255.36137, saving model to C:\\Users\\57lzhang.US04WW4008\\Desktop\\Blood pressure\\BP data\\models\\CNN+LSTM-21-255.3614.hdf5\n",
            "244/243 [==============================] - 15s 63ms/step - loss: 255.3614 - mae: 11.8900 - val_loss: 243.9808 - val_mae: 11.6046\n",
            "Epoch 22/300\n",
            "243/243 [============================>.] - ETA: 0s - loss: 243.8203 - mae: 11.7478\n",
            "Epoch 00022: loss improved from 255.36137 to 243.60910, saving model to C:\\Users\\57lzhang.US04WW4008\\Desktop\\Blood pressure\\BP data\\models\\CNN+LSTM-22-243.6091.hdf5\n",
            "244/243 [==============================] - 15s 63ms/step - loss: 243.6091 - mae: 11.7448 - val_loss: 236.8889 - val_mae: 11.5316\n",
            "Epoch 23/300\n",
            "242/243 [============================>.] - ETA: 0s - loss: 240.5416 - mae: 11.7284\n",
            "Epoch 00023: loss improved from 243.60910 to 240.32605, saving model to C:\\Users\\57lzhang.US04WW4008\\Desktop\\Blood pressure\\BP data\\models\\CNN+LSTM-23-240.3260.hdf5\n",
            "244/243 [==============================] - 15s 63ms/step - loss: 240.3260 - mae: 11.7217 - val_loss: 233.2935 - val_mae: 11.5092\n",
            "Epoch 24/300\n",
            "243/243 [============================>.] - ETA: 0s - loss: 235.8606 - mae: 11.7130\n",
            "Epoch 00024: loss improved from 240.32605 to 235.91600, saving model to C:\\Users\\57lzhang.US04WW4008\\Desktop\\Blood pressure\\BP data\\models\\CNN+LSTM-24-235.9160.hdf5\n",
            "244/243 [==============================] - 16s 64ms/step - loss: 235.9160 - mae: 11.7153 - val_loss: 231.7950 - val_mae: 11.5045\n",
            "Epoch 25/300\n",
            "243/243 [============================>.] - ETA: 0s - loss: 234.0145 - mae: 11.6498\n",
            "Epoch 00025: loss improved from 235.91600 to 234.15861, saving model to C:\\Users\\57lzhang.US04WW4008\\Desktop\\Blood pressure\\BP data\\models\\CNN+LSTM-25-234.1586.hdf5\n",
            "244/243 [==============================] - 15s 63ms/step - loss: 234.1586 - mae: 11.6516 - val_loss: 5199.8745 - val_mae: 49.1937\n",
            "Epoch 26/300\n",
            "243/243 [============================>.] - ETA: 0s - loss: 235.6995 - mae: 11.7536\n",
            "Epoch 00026: loss did not improve from 234.15861\n",
            "244/243 [==============================] - 15s 62ms/step - loss: 235.8438 - mae: 11.7562 - val_loss: 231.0833 - val_mae: 11.5349\n",
            "Epoch 27/300\n",
            "243/243 [============================>.] - ETA: 0s - loss: 230.1669 - mae: 11.5647\n",
            "Epoch 00027: loss improved from 234.15861 to 229.91696, saving model to C:\\Users\\57lzhang.US04WW4008\\Desktop\\Blood pressure\\BP data\\models\\CNN+LSTM-27-229.9170.hdf5\n",
            "244/243 [==============================] - 16s 65ms/step - loss: 229.9170 - mae: 11.5588 - val_loss: 218.5020 - val_mae: 11.2653\n",
            "Epoch 28/300\n",
            "243/243 [============================>.] - ETA: 0s - loss: 180.4944 - mae: 10.0142\n",
            "Epoch 00028: loss improved from 229.91696 to 180.28446, saving model to C:\\Users\\57lzhang.US04WW4008\\Desktop\\Blood pressure\\BP data\\models\\CNN+LSTM-28-180.2845.hdf5\n",
            "244/243 [==============================] - 16s 65ms/step - loss: 180.2845 - mae: 10.0114 - val_loss: 179.9394 - val_mae: 10.3066\n",
            "Epoch 29/300\n",
            "243/243 [============================>.] - ETA: 0s - loss: 150.5382 - mae: 9.2082\n",
            "Epoch 00029: loss improved from 180.28446 to 150.55611, saving model to C:\\Users\\57lzhang.US04WW4008\\Desktop\\Blood pressure\\BP data\\models\\CNN+LSTM-29-150.5561.hdf5\n",
            "244/243 [==============================] - 16s 64ms/step - loss: 150.5561 - mae: 9.2097 - val_loss: 171.5690 - val_mae: 10.1867\n",
            "Epoch 30/300\n",
            "243/243 [============================>.] - ETA: 0s - loss: 130.7495 - mae: 8.7009\n",
            "Epoch 00030: loss improved from 150.55611 to 130.86995, saving model to C:\\Users\\57lzhang.US04WW4008\\Desktop\\Blood pressure\\BP data\\models\\CNN+LSTM-30-130.8699.hdf5\n",
            "244/243 [==============================] - 16s 64ms/step - loss: 130.8699 - mae: 8.7024 - val_loss: 189.9546 - val_mae: 10.8386\n",
            "Epoch 31/300\n",
            "243/243 [============================>.] - ETA: 0s - loss: 119.4021 - mae: 8.3501\n",
            "Epoch 00031: loss improved from 130.86995 to 119.37464, saving model to C:\\Users\\57lzhang.US04WW4008\\Desktop\\Blood pressure\\BP data\\models\\CNN+LSTM-31-119.3746.hdf5\n",
            "244/243 [==============================] - 16s 64ms/step - loss: 119.3746 - mae: 8.3474 - val_loss: 156.9026 - val_mae: 9.8319\n",
            "Epoch 32/300\n",
            "243/243 [============================>.] - ETA: 0s - loss: 106.7227 - mae: 7.9321\n",
            "Epoch 00032: loss improved from 119.37464 to 106.72051, saving model to C:\\Users\\57lzhang.US04WW4008\\Desktop\\Blood pressure\\BP data\\models\\CNN+LSTM-32-106.7205.hdf5\n",
            "244/243 [==============================] - 15s 63ms/step - loss: 106.7205 - mae: 7.9304 - val_loss: 181.1209 - val_mae: 10.6297\n",
            "Epoch 33/300\n",
            "243/243 [============================>.] - ETA: 0s - loss: 98.5618 - mae: 7.6340\n",
            "Epoch 00033: loss improved from 106.72051 to 98.59030, saving model to C:\\Users\\57lzhang.US04WW4008\\Desktop\\Blood pressure\\BP data\\models\\CNN+LSTM-33-98.5903.hdf5\n",
            "244/243 [==============================] - 16s 64ms/step - loss: 98.5903 - mae: 7.6375 - val_loss: 151.6329 - val_mae: 9.7250\n",
            "Epoch 34/300\n",
            "243/243 [============================>.] - ETA: 0s - loss: 92.0141 - mae: 7.4264\n",
            "Epoch 00034: loss improved from 98.59030 to 92.02232, saving model to C:\\Users\\57lzhang.US04WW4008\\Desktop\\Blood pressure\\BP data\\models\\CNN+LSTM-34-92.0223.hdf5\n",
            "244/243 [==============================] - 15s 63ms/step - loss: 92.0223 - mae: 7.4281 - val_loss: 119.6606 - val_mae: 8.4877\n",
            "Epoch 35/300\n",
            "243/243 [============================>.] - ETA: 0s - loss: 82.2323 - mae: 7.0223\n",
            "Epoch 00035: loss improved from 92.02232 to 82.27303, saving model to C:\\Users\\57lzhang.US04WW4008\\Desktop\\Blood pressure\\BP data\\models\\CNN+LSTM-35-82.2730.hdf5\n",
            "244/243 [==============================] - 15s 63ms/step - loss: 82.2730 - mae: 7.0250 - val_loss: 164.8145 - val_mae: 10.1411\n",
            "Epoch 36/300\n",
            "243/243 [============================>.] - ETA: 0s - loss: 78.6599 - mae: 6.8540\n",
            "Epoch 00036: loss improved from 82.27303 to 78.62620, saving model to C:\\Users\\57lzhang.US04WW4008\\Desktop\\Blood pressure\\BP data\\models\\CNN+LSTM-36-78.6262.hdf5\n",
            "244/243 [==============================] - 16s 64ms/step - loss: 78.6262 - mae: 6.8533 - val_loss: 171.1754 - val_mae: 10.1990\n",
            "Epoch 37/300\n",
            "242/243 [============================>.] - ETA: 0s - loss: 73.3026 - mae: 6.5964\n",
            "Epoch 00037: loss improved from 78.62620 to 73.24282, saving model to C:\\Users\\57lzhang.US04WW4008\\Desktop\\Blood pressure\\BP data\\models\\CNN+LSTM-37-73.2428.hdf5\n",
            "244/243 [==============================] - 16s 65ms/step - loss: 73.2428 - mae: 6.5936 - val_loss: 208.3129 - val_mae: 11.2064\n",
            "Epoch 38/300\n",
            "243/243 [============================>.] - ETA: 0s - loss: 69.4392 - mae: 6.4206\n",
            "Epoch 00038: loss improved from 73.24282 to 69.44291, saving model to C:\\Users\\57lzhang.US04WW4008\\Desktop\\Blood pressure\\BP data\\models\\CNN+LSTM-38-69.4429.hdf5\n",
            "244/243 [==============================] - 16s 65ms/step - loss: 69.4429 - mae: 6.4207 - val_loss: 171.4281 - val_mae: 10.2164\n",
            "Epoch 39/300\n",
            "243/243 [============================>.] - ETA: 0s - loss: 65.6556 - mae: 6.2555\n",
            "Epoch 00039: loss improved from 69.44291 to 65.61791, saving model to C:\\Users\\57lzhang.US04WW4008\\Desktop\\Blood pressure\\BP data\\models\\CNN+LSTM-39-65.6179.hdf5\n",
            "244/243 [==============================] - 16s 65ms/step - loss: 65.6179 - mae: 6.2543 - val_loss: 167.4241 - val_mae: 10.0569\n",
            "Epoch 40/300\n",
            "242/243 [============================>.] - ETA: 0s - loss: 61.8418 - mae: 6.0354\n",
            "Epoch 00040: loss improved from 65.61791 to 61.80187, saving model to C:\\Users\\57lzhang.US04WW4008\\Desktop\\Blood pressure\\BP data\\models\\CNN+LSTM-40-61.8019.hdf5\n",
            "244/243 [==============================] - 16s 64ms/step - loss: 61.8019 - mae: 6.0349 - val_loss: 161.3437 - val_mae: 9.8820\n",
            "Epoch 41/300\n",
            "243/243 [============================>.] - ETA: 0s - loss: 58.0374 - mae: 5.8279\n",
            "Epoch 00041: loss improved from 61.80187 to 58.12421, saving model to C:\\Users\\57lzhang.US04WW4008\\Desktop\\Blood pressure\\BP data\\models\\CNN+LSTM-41-58.1242.hdf5\n",
            "244/243 [==============================] - 16s 65ms/step - loss: 58.1242 - mae: 5.8326 - val_loss: 130.2062 - val_mae: 8.6579\n",
            "Epoch 42/300\n",
            "243/243 [============================>.] - ETA: 0s - loss: 55.3032 - mae: 5.7024\n",
            "Epoch 00042: loss improved from 58.12421 to 55.21359, saving model to C:\\Users\\57lzhang.US04WW4008\\Desktop\\Blood pressure\\BP data\\models\\CNN+LSTM-42-55.2136.hdf5\n",
            "244/243 [==============================] - 16s 64ms/step - loss: 55.2136 - mae: 5.6987 - val_loss: 144.8280 - val_mae: 9.2194\n",
            "Epoch 43/300\n",
            "243/243 [============================>.] - ETA: 0s - loss: 52.3693 - mae: 5.4947\n",
            "Epoch 00043: loss improved from 55.21359 to 52.35392, saving model to C:\\Users\\57lzhang.US04WW4008\\Desktop\\Blood pressure\\BP data\\models\\CNN+LSTM-43-52.3539.hdf5\n",
            "244/243 [==============================] - 16s 64ms/step - loss: 52.3539 - mae: 5.4945 - val_loss: 170.4168 - val_mae: 10.2047\n",
            "Epoch 44/300\n",
            "243/243 [============================>.] - ETA: 0s - loss: 50.0607 - mae: 5.3999\n",
            "Epoch 00044: loss improved from 52.35392 to 50.00823, saving model to C:\\Users\\57lzhang.US04WW4008\\Desktop\\Blood pressure\\BP data\\models\\CNN+LSTM-44-50.0082.hdf5\n",
            "244/243 [==============================] - 16s 65ms/step - loss: 50.0082 - mae: 5.3980 - val_loss: 199.8971 - val_mae: 11.0282\n",
            "Epoch 45/300\n",
            "242/243 [============================>.] - ETA: 0s - loss: 46.2398 - mae: 5.1838\n",
            "Epoch 00045: loss improved from 50.00823 to 46.20908, saving model to C:\\Users\\57lzhang.US04WW4008\\Desktop\\Blood pressure\\BP data\\models\\CNN+LSTM-45-46.2091.hdf5\n",
            "244/243 [==============================] - 16s 65ms/step - loss: 46.2091 - mae: 5.1808 - val_loss: 131.5684 - val_mae: 8.5817\n",
            "Epoch 46/300\n",
            "243/243 [============================>.] - ETA: 0s - loss: 46.0009 - mae: 5.1529\n",
            "Epoch 00046: loss improved from 46.20908 to 45.93793, saving model to C:\\Users\\57lzhang.US04WW4008\\Desktop\\Blood pressure\\BP data\\models\\CNN+LSTM-46-45.9379.hdf5\n",
            "244/243 [==============================] - 16s 65ms/step - loss: 45.9379 - mae: 5.1487 - val_loss: 130.1048 - val_mae: 8.5145\n",
            "Epoch 47/300\n",
            "243/243 [============================>.] - ETA: 0s - loss: 43.1863 - mae: 4.9717\n",
            "Epoch 00047: loss improved from 45.93793 to 43.15902, saving model to C:\\Users\\57lzhang.US04WW4008\\Desktop\\Blood pressure\\BP data\\models\\CNN+LSTM-47-43.1590.hdf5\n",
            "244/243 [==============================] - 16s 64ms/step - loss: 43.1590 - mae: 4.9700 - val_loss: 115.4483 - val_mae: 8.0604\n",
            "Epoch 48/300\n",
            "243/243 [============================>.] - ETA: 0s - loss: 41.8138 - mae: 4.8863\n",
            "Epoch 00048: loss improved from 43.15902 to 41.71346, saving model to C:\\Users\\57lzhang.US04WW4008\\Desktop\\Blood pressure\\BP data\\models\\CNN+LSTM-48-41.7135.hdf5\n",
            "244/243 [==============================] - 15s 63ms/step - loss: 41.7135 - mae: 4.8797 - val_loss: 211.1758 - val_mae: 11.1035\n",
            "Epoch 49/300\n",
            "242/243 [============================>.] - ETA: 0s - loss: 38.7991 - mae: 4.7022\n",
            "Epoch 00049: loss improved from 41.71346 to 38.77442, saving model to C:\\Users\\57lzhang.US04WW4008\\Desktop\\Blood pressure\\BP data\\models\\CNN+LSTM-49-38.7744.hdf5\n",
            "244/243 [==============================] - 16s 64ms/step - loss: 38.7744 - mae: 4.7030 - val_loss: 149.7159 - val_mae: 9.2547\n",
            "Epoch 50/300\n",
            "243/243 [============================>.] - ETA: 0s - loss: 37.5321 - mae: 4.6157\n",
            "Epoch 00050: loss improved from 38.77442 to 37.47209, saving model to C:\\Users\\57lzhang.US04WW4008\\Desktop\\Blood pressure\\BP data\\models\\CNN+LSTM-50-37.4721.hdf5\n",
            "244/243 [==============================] - 16s 64ms/step - loss: 37.4721 - mae: 4.6123 - val_loss: 123.7996 - val_mae: 8.3350\n",
            "Epoch 51/300\n",
            "243/243 [============================>.] - ETA: 0s - loss: 33.7449 - mae: 4.3842\n",
            "Epoch 00051: loss improved from 37.47209 to 33.82842, saving model to C:\\Users\\57lzhang.US04WW4008\\Desktop\\Blood pressure\\BP data\\models\\CNN+LSTM-51-33.8284.hdf5\n",
            "244/243 [==============================] - 16s 65ms/step - loss: 33.8284 - mae: 4.3862 - val_loss: 129.3405 - val_mae: 8.5258\n",
            "Epoch 52/300\n",
            "243/243 [============================>.] - ETA: 0s - loss: 31.9655 - mae: 4.2277\n",
            "Epoch 00052: loss improved from 33.82842 to 31.91752, saving model to C:\\Users\\57lzhang.US04WW4008\\Desktop\\Blood pressure\\BP data\\models\\CNN+LSTM-52-31.9175.hdf5\n",
            "244/243 [==============================] - 16s 65ms/step - loss: 31.9175 - mae: 4.2258 - val_loss: 130.9718 - val_mae: 8.5805\n",
            "Epoch 53/300\n",
            "243/243 [============================>.] - ETA: 0s - loss: 31.1168 - mae: 4.1900\n",
            "Epoch 00053: loss improved from 31.91752 to 31.08565, saving model to C:\\Users\\57lzhang.US04WW4008\\Desktop\\Blood pressure\\BP data\\models\\CNN+LSTM-53-31.0856.hdf5\n",
            "244/243 [==============================] - 16s 64ms/step - loss: 31.0856 - mae: 4.1885 - val_loss: 140.0821 - val_mae: 8.8932\n",
            "Epoch 54/300\n",
            "243/243 [============================>.] - ETA: 0s - loss: 30.4268 - mae: 4.1385\n",
            "Epoch 00054: loss improved from 31.08565 to 30.44096, saving model to C:\\Users\\57lzhang.US04WW4008\\Desktop\\Blood pressure\\BP data\\models\\CNN+LSTM-54-30.4410.hdf5\n",
            "244/243 [==============================] - 16s 64ms/step - loss: 30.4410 - mae: 4.1402 - val_loss: 131.2623 - val_mae: 8.4900\n",
            "Epoch 55/300\n",
            "243/243 [============================>.] - ETA: 0s - loss: 30.2431 - mae: 4.1115\n",
            "Epoch 00055: loss improved from 30.44096 to 30.27997, saving model to C:\\Users\\57lzhang.US04WW4008\\Desktop\\Blood pressure\\BP data\\models\\CNN+LSTM-55-30.2800.hdf5\n",
            "244/243 [==============================] - 16s 65ms/step - loss: 30.2800 - mae: 4.1132 - val_loss: 128.7882 - val_mae: 8.4791\n",
            "Epoch 56/300\n",
            "243/243 [============================>.] - ETA: 0s - loss: 29.6163 - mae: 4.0806\n",
            "Epoch 00056: loss improved from 30.27997 to 29.60245, saving model to C:\\Users\\57lzhang.US04WW4008\\Desktop\\Blood pressure\\BP data\\models\\CNN+LSTM-56-29.6025.hdf5\n",
            "244/243 [==============================] - 15s 62ms/step - loss: 29.6025 - mae: 4.0811 - val_loss: 134.9751 - val_mae: 8.6764\n",
            "Epoch 57/300\n",
            "243/243 [============================>.] - ETA: 0s - loss: 28.1929 - mae: 4.0006\n",
            "Epoch 00057: loss improved from 29.60245 to 28.15409, saving model to C:\\Users\\57lzhang.US04WW4008\\Desktop\\Blood pressure\\BP data\\models\\CNN+LSTM-57-28.1541.hdf5\n",
            "244/243 [==============================] - 15s 61ms/step - loss: 28.1541 - mae: 3.9978 - val_loss: 128.4841 - val_mae: 8.4442\n",
            "Epoch 58/300\n",
            "243/243 [============================>.] - ETA: 0s - loss: 29.5714 - mae: 4.0578\n",
            "Epoch 00058: loss did not improve from 28.15409\n",
            "244/243 [==============================] - 15s 60ms/step - loss: 29.5416 - mae: 4.0560 - val_loss: 133.8720 - val_mae: 8.6107\n",
            "Epoch 59/300\n",
            "243/243 [============================>.] - ETA: 0s - loss: 28.5902 - mae: 3.9903\n",
            "Epoch 00059: loss did not improve from 28.15409\n",
            "244/243 [==============================] - 14s 58ms/step - loss: 28.6082 - mae: 3.9922 - val_loss: 139.2634 - val_mae: 8.8388\n",
            "Epoch 60/300\n",
            "243/243 [============================>.] - ETA: 0s - loss: 27.9798 - mae: 3.9402\n",
            "Epoch 00060: loss improved from 28.15409 to 28.00506, saving model to C:\\Users\\57lzhang.US04WW4008\\Desktop\\Blood pressure\\BP data\\models\\CNN+LSTM-60-28.0051.hdf5\n",
            "244/243 [==============================] - 15s 62ms/step - loss: 28.0051 - mae: 3.9427 - val_loss: 130.6231 - val_mae: 8.5114\n",
            "Epoch 61/300\n",
            "243/243 [============================>.] - ETA: 0s - loss: 27.3474 - mae: 3.9344\n",
            "Epoch 00061: loss improved from 28.00506 to 27.32521, saving model to C:\\Users\\57lzhang.US04WW4008\\Desktop\\Blood pressure\\BP data\\models\\CNN+LSTM-61-27.3252.hdf5\n",
            "244/243 [==============================] - 14s 58ms/step - loss: 27.3252 - mae: 3.9335 - val_loss: 137.9658 - val_mae: 8.7110\n",
            "Epoch 62/300\n",
            "242/243 [============================>.] - ETA: 0s - loss: 27.3073 - mae: 3.9264\n",
            "Epoch 00062: loss did not improve from 27.32521\n",
            "244/243 [==============================] - 14s 55ms/step - loss: 27.3629 - mae: 3.9310 - val_loss: 132.7144 - val_mae: 8.5520\n",
            "Epoch 63/300\n",
            "243/243 [============================>.] - ETA: 0s - loss: 27.2779 - mae: 3.8884\n",
            "Epoch 00063: loss improved from 27.32521 to 27.25818, saving model to C:\\Users\\57lzhang.US04WW4008\\Desktop\\Blood pressure\\BP data\\models\\CNN+LSTM-63-27.2582.hdf5\n",
            "244/243 [==============================] - 15s 60ms/step - loss: 27.2582 - mae: 3.8868 - val_loss: 138.0069 - val_mae: 8.7358\n",
            "Epoch 64/300\n",
            "242/243 [============================>.] - ETA: 0s - loss: 26.8653 - mae: 3.8717\n",
            "Epoch 00064: loss improved from 27.25818 to 26.93578, saving model to C:\\Users\\57lzhang.US04WW4008\\Desktop\\Blood pressure\\BP data\\models\\CNN+LSTM-64-26.9358.hdf5\n",
            "244/243 [==============================] - 14s 57ms/step - loss: 26.9358 - mae: 3.8760 - val_loss: 134.8197 - val_mae: 8.5943\n",
            "Epoch 65/300\n",
            "243/243 [============================>.] - ETA: 0s - loss: 26.3655 - mae: 3.8362\n",
            "Epoch 00065: loss improved from 26.93578 to 26.35473, saving model to C:\\Users\\57lzhang.US04WW4008\\Desktop\\Blood pressure\\BP data\\models\\CNN+LSTM-65-26.3547.hdf5\n",
            "244/243 [==============================] - 15s 60ms/step - loss: 26.3547 - mae: 3.8361 - val_loss: 131.7182 - val_mae: 8.5229\n",
            "Epoch 66/300\n",
            "243/243 [============================>.] - ETA: 0s - loss: 26.3324 - mae: 3.8387\n",
            "Epoch 00066: loss did not improve from 26.35473\n",
            "244/243 [==============================] - 14s 58ms/step - loss: 26.4481 - mae: 3.8421 - val_loss: 128.3560 - val_mae: 8.3958\n",
            "Epoch 67/300\n",
            "243/243 [============================>.] - ETA: 0s - loss: 26.7939 - mae: 3.8543\n",
            "Epoch 00067: loss did not improve from 26.35473\n",
            "244/243 [==============================] - 13s 55ms/step - loss: 26.8183 - mae: 3.8568 - val_loss: 144.3472 - val_mae: 8.9734\n",
            "Epoch 68/300\n",
            "243/243 [============================>.] - ETA: 0s - loss: 25.7590 - mae: 3.7814\n",
            "Epoch 00068: loss improved from 26.35473 to 25.76020, saving model to C:\\Users\\57lzhang.US04WW4008\\Desktop\\Blood pressure\\BP data\\models\\CNN+LSTM-68-25.7602.hdf5\n",
            "244/243 [==============================] - 14s 58ms/step - loss: 25.7602 - mae: 3.7815 - val_loss: 137.1679 - val_mae: 8.7068\n",
            "Epoch 69/300\n",
            "242/243 [============================>.] - ETA: 0s - loss: 25.6004 - mae: 3.7703\n",
            "Epoch 00069: loss improved from 25.76020 to 25.59332, saving model to C:\\Users\\57lzhang.US04WW4008\\Desktop\\Blood pressure\\BP data\\models\\CNN+LSTM-69-25.5933.hdf5\n",
            "244/243 [==============================] - 14s 58ms/step - loss: 25.5933 - mae: 3.7714 - val_loss: 135.2174 - val_mae: 8.6050\n",
            "Epoch 70/300\n",
            "243/243 [============================>.] - ETA: 0s - loss: 25.5054 - mae: 3.7547\n",
            "Epoch 00070: loss improved from 25.59332 to 25.47143, saving model to C:\\Users\\57lzhang.US04WW4008\\Desktop\\Blood pressure\\BP data\\models\\CNN+LSTM-70-25.4714.hdf5\n",
            "244/243 [==============================] - 14s 58ms/step - loss: 25.4714 - mae: 3.7525 - val_loss: 134.7261 - val_mae: 8.6172\n",
            "Epoch 71/300\n",
            "243/243 [============================>.] - ETA: 0s - loss: 25.4168 - mae: 3.7722\n",
            "Epoch 00071: loss improved from 25.47143 to 25.40015, saving model to C:\\Users\\57lzhang.US04WW4008\\Desktop\\Blood pressure\\BP data\\models\\CNN+LSTM-71-25.4001.hdf5\n",
            "244/243 [==============================] - 14s 59ms/step - loss: 25.4001 - mae: 3.7727 - val_loss: 134.2375 - val_mae: 8.5775\n",
            "Epoch 72/300\n",
            "243/243 [============================>.] - ETA: 0s - loss: 24.7233 - mae: 3.7168\n",
            "Epoch 00072: loss improved from 25.40015 to 24.69281, saving model to C:\\Users\\57lzhang.US04WW4008\\Desktop\\Blood pressure\\BP data\\models\\CNN+LSTM-72-24.6928.hdf5\n",
            "244/243 [==============================] - 14s 58ms/step - loss: 24.6928 - mae: 3.7148 - val_loss: 139.0134 - val_mae: 8.7789\n",
            "Epoch 73/300\n",
            "242/243 [============================>.] - ETA: 0s - loss: 24.2955 - mae: 3.6813\n",
            "Epoch 00073: loss improved from 24.69281 to 24.28143, saving model to C:\\Users\\57lzhang.US04WW4008\\Desktop\\Blood pressure\\BP data\\models\\CNN+LSTM-73-24.2814.hdf5\n",
            "244/243 [==============================] - 14s 58ms/step - loss: 24.2814 - mae: 3.6819 - val_loss: 137.6135 - val_mae: 8.7419\n",
            "Epoch 74/300\n",
            "243/243 [============================>.] - ETA: 0s - loss: 24.4247 - mae: 3.6746\n",
            "Epoch 00074: loss did not improve from 24.28143\n",
            "244/243 [==============================] - 14s 58ms/step - loss: 24.4049 - mae: 3.6740 - val_loss: 137.6968 - val_mae: 8.7383\n",
            "Epoch 75/300\n",
            "243/243 [============================>.] - ETA: 0s - loss: 24.7693 - mae: 3.6980\n",
            "Epoch 00075: loss did not improve from 24.28143\n",
            "244/243 [==============================] - 14s 58ms/step - loss: 24.7784 - mae: 3.6986 - val_loss: 136.3100 - val_mae: 8.6816\n",
            "Epoch 76/300\n",
            "243/243 [============================>.] - ETA: 0s - loss: 24.0229 - mae: 3.6631\n",
            "Epoch 00076: loss improved from 24.28143 to 24.01744, saving model to C:\\Users\\57lzhang.US04WW4008\\Desktop\\Blood pressure\\BP data\\models\\CNN+LSTM-76-24.0174.hdf5\n",
            "244/243 [==============================] - 14s 57ms/step - loss: 24.0174 - mae: 3.6640 - val_loss: 131.3662 - val_mae: 8.5426\n",
            "Epoch 77/300\n",
            "243/243 [============================>.] - ETA: 0s - loss: 23.9182 - mae: 3.6475\n",
            "Epoch 00077: loss improved from 24.01744 to 23.88666, saving model to C:\\Users\\57lzhang.US04WW4008\\Desktop\\Blood pressure\\BP data\\models\\CNN+LSTM-77-23.8867.hdf5\n",
            "244/243 [==============================] - 14s 56ms/step - loss: 23.8867 - mae: 3.6457 - val_loss: 136.6140 - val_mae: 8.6943\n",
            "Epoch 78/300\n",
            "243/243 [============================>.] - ETA: 0s - loss: 23.5905 - mae: 3.6163\n",
            "Epoch 00078: loss improved from 23.88666 to 23.59194, saving model to C:\\Users\\57lzhang.US04WW4008\\Desktop\\Blood pressure\\BP data\\models\\CNN+LSTM-78-23.5919.hdf5\n",
            "244/243 [==============================] - 14s 58ms/step - loss: 23.5919 - mae: 3.6174 - val_loss: 136.2622 - val_mae: 8.6888\n",
            "Epoch 79/300\n",
            "243/243 [============================>.] - ETA: 0s - loss: 23.0189 - mae: 3.5926\n",
            "Epoch 00079: loss improved from 23.59194 to 22.99861, saving model to C:\\Users\\57lzhang.US04WW4008\\Desktop\\Blood pressure\\BP data\\models\\CNN+LSTM-79-22.9986.hdf5\n",
            "244/243 [==============================] - 15s 60ms/step - loss: 22.9986 - mae: 3.5912 - val_loss: 129.4984 - val_mae: 8.4701\n",
            "Epoch 80/300\n",
            "243/243 [============================>.] - ETA: 0s - loss: 23.8113 - mae: 3.6109\n",
            "Epoch 00080: loss did not improve from 22.99861\n",
            "244/243 [==============================] - 14s 57ms/step - loss: 23.8036 - mae: 3.6117 - val_loss: 128.1766 - val_mae: 8.4570\n",
            "Epoch 81/300\n",
            "243/243 [============================>.] - ETA: 0s - loss: 22.7551 - mae: 3.5606\n",
            "Epoch 00081: loss improved from 22.99861 to 22.70530, saving model to C:\\Users\\57lzhang.US04WW4008\\Desktop\\Blood pressure\\BP data\\models\\CNN+LSTM-81-22.7053.hdf5\n",
            "244/243 [==============================] - 14s 59ms/step - loss: 22.7053 - mae: 3.5561 - val_loss: 137.8731 - val_mae: 8.7905\n",
            "Epoch 82/300\n",
            "243/243 [============================>.] - ETA: 0s - loss: 22.6038 - mae: 3.5551\n",
            "Epoch 00082: loss improved from 22.70530 to 22.57047, saving model to C:\\Users\\57lzhang.US04WW4008\\Desktop\\Blood pressure\\BP data\\models\\CNN+LSTM-82-22.5705.hdf5\n",
            "244/243 [==============================] - 14s 57ms/step - loss: 22.5705 - mae: 3.5532 - val_loss: 130.5468 - val_mae: 8.5001\n",
            "Epoch 83/300\n",
            "243/243 [============================>.] - ETA: 0s - loss: 23.7988 - mae: 3.5993\n",
            "Epoch 00083: loss did not improve from 22.57047\n",
            "244/243 [==============================] - 14s 59ms/step - loss: 23.7696 - mae: 3.5978 - val_loss: 138.4828 - val_mae: 8.8249\n",
            "Epoch 84/300\n",
            "243/243 [============================>.] - ETA: 0s - loss: 21.9843 - mae: 3.5061\n",
            "Epoch 00084: loss improved from 22.57047 to 21.98043, saving model to C:\\Users\\57lzhang.US04WW4008\\Desktop\\Blood pressure\\BP data\\models\\CNN+LSTM-84-21.9804.hdf5\n",
            "244/243 [==============================] - 14s 58ms/step - loss: 21.9804 - mae: 3.5059 - val_loss: 130.1640 - val_mae: 8.4894\n",
            "Epoch 85/300\n",
            "242/243 [============================>.] - ETA: 0s - loss: 22.8446 - mae: 3.5413\n",
            "Epoch 00085: loss did not improve from 21.98043\n",
            "244/243 [==============================] - 14s 57ms/step - loss: 22.9508 - mae: 3.5427 - val_loss: 133.4759 - val_mae: 8.6271\n",
            "Epoch 86/300\n",
            "242/243 [============================>.] - ETA: 0s - loss: 21.8218 - mae: 3.4860\n",
            "Epoch 00086: loss improved from 21.98043 to 21.78028, saving model to C:\\Users\\57lzhang.US04WW4008\\Desktop\\Blood pressure\\BP data\\models\\CNN+LSTM-86-21.7803.hdf5\n",
            "244/243 [==============================] - 14s 58ms/step - loss: 21.7803 - mae: 3.4835 - val_loss: 130.3781 - val_mae: 8.5226\n",
            "Epoch 87/300\n",
            "243/243 [============================>.] - ETA: 0s - loss: 22.3891 - mae: 3.5019\n",
            "Epoch 00087: loss did not improve from 21.78028\n",
            "244/243 [==============================] - 14s 57ms/step - loss: 22.3513 - mae: 3.4991 - val_loss: 134.5274 - val_mae: 8.6634\n",
            "Epoch 88/300\n",
            "242/243 [============================>.] - ETA: 0s - loss: 21.5508 - mae: 3.4581\n",
            "Epoch 00088: loss improved from 21.78028 to 21.50412, saving model to C:\\Users\\57lzhang.US04WW4008\\Desktop\\Blood pressure\\BP data\\models\\CNN+LSTM-88-21.5041.hdf5\n",
            "244/243 [==============================] - 14s 55ms/step - loss: 21.5041 - mae: 3.4565 - val_loss: 133.8675 - val_mae: 8.6436\n",
            "Epoch 89/300\n",
            "243/243 [============================>.] - ETA: 0s - loss: 21.7793 - mae: 3.4691\n",
            "Epoch 00089: loss did not improve from 21.50412\n",
            "244/243 [==============================] - 14s 56ms/step - loss: 21.7747 - mae: 3.4695 - val_loss: 132.8553 - val_mae: 8.6292\n",
            "Epoch 90/300\n",
            "243/243 [============================>.] - ETA: 0s - loss: 21.5459 - mae: 3.4679\n",
            "Epoch 00090: loss did not improve from 21.50412\n",
            "244/243 [==============================] - 14s 57ms/step - loss: 21.5532 - mae: 3.4687 - val_loss: 129.6046 - val_mae: 8.4926\n",
            "Epoch 91/300\n",
            "243/243 [============================>.] - ETA: 0s - loss: 21.3560 - mae: 3.4388\n",
            "Epoch 00091: loss improved from 21.50412 to 21.33787, saving model to C:\\Users\\57lzhang.US04WW4008\\Desktop\\Blood pressure\\BP data\\models\\CNN+LSTM-91-21.3379.hdf5\n",
            "244/243 [==============================] - 14s 58ms/step - loss: 21.3379 - mae: 3.4384 - val_loss: 133.0164 - val_mae: 8.6071\n",
            "Epoch 92/300\n",
            "243/243 [============================>.] - ETA: 0s - loss: 20.9358 - mae: 3.4102\n",
            "Epoch 00092: loss improved from 21.33787 to 20.92436, saving model to C:\\Users\\57lzhang.US04WW4008\\Desktop\\Blood pressure\\BP data\\models\\CNN+LSTM-92-20.9244.hdf5\n",
            "244/243 [==============================] - 14s 57ms/step - loss: 20.9244 - mae: 3.4100 - val_loss: 130.2544 - val_mae: 8.5084\n",
            "Epoch 93/300\n",
            "243/243 [============================>.] - ETA: 0s - loss: 21.0364 - mae: 3.3909\n",
            "Epoch 00093: loss did not improve from 20.92436\n",
            "244/243 [==============================] - 14s 56ms/step - loss: 21.0143 - mae: 3.3900 - val_loss: 137.0747 - val_mae: 8.7594\n",
            "Epoch 94/300\n",
            "243/243 [============================>.] - ETA: 0s - loss: 21.0933 - mae: 3.4244\n",
            "Epoch 00094: loss did not improve from 20.92436\n",
            "244/243 [==============================] - 14s 56ms/step - loss: 21.1005 - mae: 3.4249 - val_loss: 132.3814 - val_mae: 8.5894\n",
            "Epoch 95/300\n",
            "243/243 [============================>.] - ETA: 0s - loss: 20.9756 - mae: 3.3980\n",
            "Epoch 00095: loss did not improve from 20.92436\n",
            "244/243 [==============================] - 14s 56ms/step - loss: 20.9554 - mae: 3.3970 - val_loss: 133.6109 - val_mae: 8.6123\n",
            "Epoch 96/300\n",
            "243/243 [============================>.] - ETA: 0s - loss: 20.7040 - mae: 3.3744\n",
            "Epoch 00096: loss improved from 20.92436 to 20.73352, saving model to C:\\Users\\57lzhang.US04WW4008\\Desktop\\Blood pressure\\BP data\\models\\CNN+LSTM-96-20.7335.hdf5\n",
            "244/243 [==============================] - 15s 62ms/step - loss: 20.7335 - mae: 3.3760 - val_loss: 134.1657 - val_mae: 8.6380\n",
            "Epoch 97/300\n",
            "242/243 [============================>.] - ETA: 0s - loss: 20.0591 - mae: 3.3392\n",
            "Epoch 00097: loss improved from 20.73352 to 20.02421, saving model to C:\\Users\\57lzhang.US04WW4008\\Desktop\\Blood pressure\\BP data\\models\\CNN+LSTM-97-20.0242.hdf5\n",
            "244/243 [==============================] - 16s 64ms/step - loss: 20.0242 - mae: 3.3376 - val_loss: 140.4018 - val_mae: 8.8745\n",
            "Epoch 98/300\n",
            "243/243 [============================>.] - ETA: 0s - loss: 20.2600 - mae: 3.3488\n",
            "Epoch 00098: loss did not improve from 20.02421\n",
            "244/243 [==============================] - 15s 63ms/step - loss: 20.2313 - mae: 3.3476 - val_loss: 129.8417 - val_mae: 8.4966\n",
            "Epoch 99/300\n",
            "242/243 [============================>.] - ETA: 0s - loss: 20.0687 - mae: 3.3265\n",
            "Epoch 00099: loss did not improve from 20.02421\n",
            "244/243 [==============================] - 16s 64ms/step - loss: 20.0270 - mae: 3.3247 - val_loss: 127.9542 - val_mae: 8.4153\n",
            "Epoch 100/300\n",
            "243/243 [============================>.] - ETA: 0s - loss: 20.2106 - mae: 3.3431\n",
            "Epoch 00100: loss did not improve from 20.02421\n",
            "244/243 [==============================] - 15s 63ms/step - loss: 20.2465 - mae: 3.3461 - val_loss: 128.0303 - val_mae: 8.4378\n",
            "Epoch 101/300\n",
            "242/243 [============================>.] - ETA: 0s - loss: 19.4247 - mae: 3.2791\n",
            "Epoch 00101: loss improved from 20.02421 to 19.42596, saving model to C:\\Users\\57lzhang.US04WW4008\\Desktop\\Blood pressure\\BP data\\models\\CNN+LSTM-101-19.4260.hdf5\n",
            "244/243 [==============================] - 16s 64ms/step - loss: 19.4260 - mae: 3.2802 - val_loss: 136.6033 - val_mae: 8.7146\n",
            "Epoch 102/300\n",
            "243/243 [============================>.] - ETA: 0s - loss: 20.4680 - mae: 3.3501\n",
            "Epoch 00102: loss did not improve from 19.42596\n",
            "244/243 [==============================] - 16s 64ms/step - loss: 20.4898 - mae: 3.3514 - val_loss: 124.8576 - val_mae: 8.3321\n",
            "Epoch 103/300\n",
            "243/243 [============================>.] - ETA: 0s - loss: 19.9334 - mae: 3.3005\n",
            "Epoch 00103: loss did not improve from 19.42596\n",
            "244/243 [==============================] - 16s 64ms/step - loss: 19.9199 - mae: 3.2997 - val_loss: 131.9272 - val_mae: 8.6273\n",
            "Epoch 104/300\n",
            "243/243 [============================>.] - ETA: 0s - loss: 18.8153 - mae: 3.2403\n",
            "Epoch 00104: loss improved from 19.42596 to 18.81596, saving model to C:\\Users\\57lzhang.US04WW4008\\Desktop\\Blood pressure\\BP data\\models\\CNN+LSTM-104-18.8160.hdf5\n",
            "244/243 [==============================] - 15s 63ms/step - loss: 18.8160 - mae: 3.2411 - val_loss: 127.1101 - val_mae: 8.4175\n",
            "Epoch 105/300\n",
            "243/243 [============================>.] - ETA: 0s - loss: 19.4696 - mae: 3.2679\n",
            "Epoch 00105: loss did not improve from 18.81596\n",
            "244/243 [==============================] - 15s 63ms/step - loss: 19.4594 - mae: 3.2684 - val_loss: 127.4400 - val_mae: 8.4267\n",
            "Epoch 106/300\n",
            "243/243 [============================>.] - ETA: 0s - loss: 18.6241 - mae: 3.2204\n",
            "Epoch 00106: loss improved from 18.81596 to 18.59288, saving model to C:\\Users\\57lzhang.US04WW4008\\Desktop\\Blood pressure\\BP data\\models\\CNN+LSTM-106-18.5929.hdf5\n",
            "244/243 [==============================] - 16s 64ms/step - loss: 18.5929 - mae: 3.2175 - val_loss: 126.3136 - val_mae: 8.3843\n",
            "Epoch 107/300\n",
            "243/243 [============================>.] - ETA: 0s - loss: 18.9655 - mae: 3.2288\n",
            "Epoch 00107: loss did not improve from 18.59288\n",
            "244/243 [==============================] - 15s 63ms/step - loss: 19.0100 - mae: 3.2297 - val_loss: 127.7591 - val_mae: 8.4149\n",
            "Epoch 108/300\n",
            "243/243 [============================>.] - ETA: 0s - loss: 18.6307 - mae: 3.2021\n",
            "Epoch 00108: loss did not improve from 18.59288\n",
            "244/243 [==============================] - 15s 63ms/step - loss: 18.6257 - mae: 3.2018 - val_loss: 127.5026 - val_mae: 8.3982\n",
            "Epoch 109/300\n",
            "243/243 [============================>.] - ETA: 0s - loss: 18.6122 - mae: 3.1814\n",
            "Epoch 00109: loss did not improve from 18.59288\n",
            "244/243 [==============================] - 16s 64ms/step - loss: 18.6286 - mae: 3.1827 - val_loss: 128.0285 - val_mae: 8.4535\n",
            "Epoch 110/300\n",
            "243/243 [============================>.] - ETA: 0s - loss: 18.3924 - mae: 3.2115\n",
            "Epoch 00110: loss improved from 18.59288 to 18.37345, saving model to C:\\Users\\57lzhang.US04WW4008\\Desktop\\Blood pressure\\BP data\\models\\CNN+LSTM-110-18.3735.hdf5\n",
            "244/243 [==============================] - 16s 64ms/step - loss: 18.3735 - mae: 3.2099 - val_loss: 127.2875 - val_mae: 8.3831\n",
            "Epoch 111/300\n",
            "243/243 [============================>.] - ETA: 0s - loss: 18.3718 - mae: 3.1883\n",
            "Epoch 00111: loss did not improve from 18.37345\n",
            "244/243 [==============================] - 16s 64ms/step - loss: 18.3805 - mae: 3.1884 - val_loss: 128.5791 - val_mae: 8.4544\n",
            "Epoch 112/300\n",
            "243/243 [============================>.] - ETA: 0s - loss: 18.2418 - mae: 3.1650\n",
            "Epoch 00112: loss improved from 18.37345 to 18.21441, saving model to C:\\Users\\57lzhang.US04WW4008\\Desktop\\Blood pressure\\BP data\\models\\CNN+LSTM-112-18.2144.hdf5\n",
            "244/243 [==============================] - 15s 63ms/step - loss: 18.2144 - mae: 3.1619 - val_loss: 127.8763 - val_mae: 8.4327\n",
            "Epoch 113/300\n",
            "243/243 [============================>.] - ETA: 0s - loss: 18.7517 - mae: 3.1947\n",
            "Epoch 00113: loss did not improve from 18.21441\n",
            "244/243 [==============================] - 15s 63ms/step - loss: 18.7316 - mae: 3.1935 - val_loss: 133.9216 - val_mae: 8.6532\n",
            "Epoch 114/300\n",
            "243/243 [============================>.] - ETA: 0s - loss: 17.4555 - mae: 3.1301\n",
            "Epoch 00114: loss improved from 18.21441 to 17.63286, saving model to C:\\Users\\57lzhang.US04WW4008\\Desktop\\Blood pressure\\BP data\\models\\CNN+LSTM-114-17.6329.hdf5\n",
            "244/243 [==============================] - 16s 64ms/step - loss: 17.6329 - mae: 3.1359 - val_loss: 128.2689 - val_mae: 8.4655\n",
            "Epoch 115/300\n",
            "242/243 [============================>.] - ETA: 0s - loss: 17.8338 - mae: 3.1466\n",
            "Epoch 00115: loss did not improve from 17.63286\n",
            "244/243 [==============================] - 16s 65ms/step - loss: 17.8648 - mae: 3.1492 - val_loss: 128.9896 - val_mae: 8.4745\n",
            "Epoch 116/300\n",
            "243/243 [============================>.] - ETA: 0s - loss: 18.2440 - mae: 3.1699\n",
            "Epoch 00116: loss did not improve from 17.63286\n",
            "244/243 [==============================] - 16s 64ms/step - loss: 18.2249 - mae: 3.1682 - val_loss: 121.9948 - val_mae: 8.2260\n",
            "Epoch 117/300\n",
            "243/243 [============================>.] - ETA: 0s - loss: 17.5296 - mae: 3.1164\n",
            "Epoch 00117: loss improved from 17.63286 to 17.53498, saving model to C:\\Users\\57lzhang.US04WW4008\\Desktop\\Blood pressure\\BP data\\models\\CNN+LSTM-117-17.5350.hdf5\n",
            "244/243 [==============================] - 16s 65ms/step - loss: 17.5350 - mae: 3.1171 - val_loss: 128.6366 - val_mae: 8.4607\n",
            "Epoch 118/300\n",
            "243/243 [============================>.] - ETA: 0s - loss: 17.3876 - mae: 3.1226\n",
            "Epoch 00118: loss improved from 17.53498 to 17.38187, saving model to C:\\Users\\57lzhang.US04WW4008\\Desktop\\Blood pressure\\BP data\\models\\CNN+LSTM-118-17.3819.hdf5\n",
            "244/243 [==============================] - 16s 64ms/step - loss: 17.3819 - mae: 3.1214 - val_loss: 129.6274 - val_mae: 8.4741\n",
            "Epoch 119/300\n",
            "243/243 [============================>.] - ETA: 0s - loss: 17.7525 - mae: 3.1162\n",
            "Epoch 00119: loss did not improve from 17.38187\n",
            "244/243 [==============================] - 15s 63ms/step - loss: 17.7451 - mae: 3.1155 - val_loss: 132.5598 - val_mae: 8.6103\n",
            "Epoch 120/300\n",
            "243/243 [============================>.] - ETA: 0s - loss: 17.4944 - mae: 3.1125\n",
            "Epoch 00120: loss did not improve from 17.38187\n",
            "244/243 [==============================] - 15s 63ms/step - loss: 17.4851 - mae: 3.1113 - val_loss: 127.8103 - val_mae: 8.4376\n",
            "Epoch 121/300\n",
            "243/243 [============================>.] - ETA: 0s - loss: 17.3010 - mae: 3.1001\n",
            "Epoch 00121: loss improved from 17.38187 to 17.34763, saving model to C:\\Users\\57lzhang.US04WW4008\\Desktop\\Blood pressure\\BP data\\models\\CNN+LSTM-121-17.3476.hdf5\n",
            "244/243 [==============================] - 16s 65ms/step - loss: 17.3476 - mae: 3.1047 - val_loss: 134.7399 - val_mae: 8.6749\n",
            "Epoch 122/300\n",
            "243/243 [============================>.] - ETA: 0s - loss: 16.6067 - mae: 3.0213\n",
            "Epoch 00122: loss improved from 17.34763 to 16.60938, saving model to C:\\Users\\57lzhang.US04WW4008\\Desktop\\Blood pressure\\BP data\\models\\CNN+LSTM-122-16.6094.hdf5\n",
            "244/243 [==============================] - 15s 63ms/step - loss: 16.6094 - mae: 3.0224 - val_loss: 133.5386 - val_mae: 8.6574\n",
            "Epoch 123/300\n",
            "243/243 [============================>.] - ETA: 0s - loss: 17.2541 - mae: 3.0929\n",
            "Epoch 00123: loss did not improve from 16.60938\n",
            "244/243 [==============================] - 15s 63ms/step - loss: 17.2463 - mae: 3.0926 - val_loss: 131.9451 - val_mae: 8.5926\n",
            "Epoch 124/300\n",
            "242/243 [============================>.] - ETA: 0s - loss: 17.1590 - mae: 3.0789\n",
            "Epoch 00124: loss did not improve from 16.60938\n",
            "244/243 [==============================] - 16s 65ms/step - loss: 17.1170 - mae: 3.0759 - val_loss: 129.1319 - val_mae: 8.4753\n",
            "Epoch 125/300\n",
            "242/243 [============================>.] - ETA: 0s - loss: 16.4598 - mae: 3.0294\n",
            "Epoch 00125: loss improved from 16.60938 to 16.51270, saving model to C:\\Users\\57lzhang.US04WW4008\\Desktop\\Blood pressure\\BP data\\models\\CNN+LSTM-125-16.5127.hdf5\n",
            "244/243 [==============================] - 17s 71ms/step - loss: 16.5127 - mae: 3.0314 - val_loss: 131.0860 - val_mae: 8.5555\n",
            "Epoch 126/300\n",
            "242/243 [============================>.] - ETA: 0s - loss: 16.7257 - mae: 3.0232\n",
            "Epoch 00126: loss did not improve from 16.51270\n",
            "244/243 [==============================] - 15s 63ms/step - loss: 16.7032 - mae: 3.0232 - val_loss: 127.5399 - val_mae: 8.4163\n",
            "Epoch 127/300\n",
            "243/243 [============================>.] - ETA: 0s - loss: 16.3731 - mae: 3.0106\n",
            "Epoch 00127: loss improved from 16.51270 to 16.36194, saving model to C:\\Users\\57lzhang.US04WW4008\\Desktop\\Blood pressure\\BP data\\models\\CNN+LSTM-127-16.3619.hdf5\n",
            "244/243 [==============================] - 15s 63ms/step - loss: 16.3619 - mae: 3.0103 - val_loss: 129.8254 - val_mae: 8.4867\n",
            "Epoch 128/300\n",
            "242/243 [============================>.] - ETA: 0s - loss: 16.7272 - mae: 3.0269\n",
            "Epoch 00128: loss did not improve from 16.36194\n",
            "244/243 [==============================] - 16s 64ms/step - loss: 16.7255 - mae: 3.0277 - val_loss: 125.9445 - val_mae: 8.3413\n",
            "Epoch 129/300\n",
            "243/243 [============================>.] - ETA: 0s - loss: 16.2483 - mae: 3.0090\n",
            "Epoch 00129: loss improved from 16.36194 to 16.28821, saving model to C:\\Users\\57lzhang.US04WW4008\\Desktop\\Blood pressure\\BP data\\models\\CNN+LSTM-129-16.2882.hdf5\n",
            "244/243 [==============================] - 16s 64ms/step - loss: 16.2882 - mae: 3.0101 - val_loss: 134.6083 - val_mae: 8.6490\n",
            "Epoch 130/300\n",
            "243/243 [============================>.] - ETA: 0s - loss: 16.3380 - mae: 3.0300\n",
            "Epoch 00130: loss did not improve from 16.28821\n",
            "244/243 [==============================] - 15s 63ms/step - loss: 16.3491 - mae: 3.0315 - val_loss: 129.0923 - val_mae: 8.4798\n",
            "Epoch 131/300\n",
            "242/243 [============================>.] - ETA: 0s - loss: 16.2203 - mae: 2.9977\n",
            "Epoch 00131: loss improved from 16.28821 to 16.20255, saving model to C:\\Users\\57lzhang.US04WW4008\\Desktop\\Blood pressure\\BP data\\models\\CNN+LSTM-131-16.2026.hdf5\n",
            "244/243 [==============================] - 16s 65ms/step - loss: 16.2026 - mae: 2.9963 - val_loss: 128.0338 - val_mae: 8.4233\n",
            "Epoch 132/300\n",
            "243/243 [============================>.] - ETA: 0s - loss: 16.5659 - mae: 2.9978\n",
            "Epoch 00132: loss did not improve from 16.20255\n",
            "244/243 [==============================] - 15s 62ms/step - loss: 16.5633 - mae: 2.9972 - val_loss: 129.3023 - val_mae: 8.4722\n",
            "Epoch 133/300\n",
            "243/243 [============================>.] - ETA: 0s - loss: 15.9152 - mae: 2.9757\n",
            "Epoch 00133: loss improved from 16.20255 to 15.92862, saving model to C:\\Users\\57lzhang.US04WW4008\\Desktop\\Blood pressure\\BP data\\models\\CNN+LSTM-133-15.9286.hdf5\n",
            "244/243 [==============================] - 15s 63ms/step - loss: 15.9286 - mae: 2.9777 - val_loss: 130.9354 - val_mae: 8.5428\n",
            "Epoch 134/300\n",
            "243/243 [============================>.] - ETA: 0s - loss: 15.7370 - mae: 2.9520\n",
            "Epoch 00134: loss improved from 15.92862 to 15.71298, saving model to C:\\Users\\57lzhang.US04WW4008\\Desktop\\Blood pressure\\BP data\\models\\CNN+LSTM-134-15.7130.hdf5\n",
            "244/243 [==============================] - 16s 66ms/step - loss: 15.7130 - mae: 2.9503 - val_loss: 129.9327 - val_mae: 8.5117\n",
            "Epoch 135/300\n",
            "243/243 [============================>.] - ETA: 0s - loss: 15.7324 - mae: 2.9459\n",
            "Epoch 00135: loss did not improve from 15.71298\n",
            "244/243 [==============================] - 16s 65ms/step - loss: 15.7774 - mae: 2.9479 - val_loss: 129.3902 - val_mae: 8.4927\n",
            "Epoch 136/300\n",
            "243/243 [============================>.] - ETA: 0s - loss: 16.0611 - mae: 2.9772\n",
            "Epoch 00136: loss did not improve from 15.71298\n",
            "244/243 [==============================] - 16s 64ms/step - loss: 16.0518 - mae: 2.9778 - val_loss: 125.6955 - val_mae: 8.3621\n",
            "Epoch 137/300\n",
            "243/243 [============================>.] - ETA: 0s - loss: 15.1164 - mae: 2.9110\n",
            "Epoch 00137: loss improved from 15.71298 to 15.16861, saving model to C:\\Users\\57lzhang.US04WW4008\\Desktop\\Blood pressure\\BP data\\models\\CNN+LSTM-137-15.1686.hdf5\n",
            "244/243 [==============================] - 16s 64ms/step - loss: 15.1686 - mae: 2.9139 - val_loss: 125.2833 - val_mae: 8.3308\n",
            "Epoch 138/300\n",
            "243/243 [============================>.] - ETA: 0s - loss: 15.6890 - mae: 2.9349\n",
            "Epoch 00138: loss did not improve from 15.16861\n",
            "244/243 [==============================] - 16s 65ms/step - loss: 15.6717 - mae: 2.9332 - val_loss: 127.8858 - val_mae: 8.4246\n",
            "Epoch 139/300\n",
            "242/243 [============================>.] - ETA: 0s - loss: 16.0622 - mae: 2.9693\n",
            "Epoch 00139: loss did not improve from 15.16861\n",
            "244/243 [==============================] - 16s 65ms/step - loss: 16.0369 - mae: 2.9675 - val_loss: 128.0322 - val_mae: 8.4208\n",
            "Epoch 140/300\n",
            "243/243 [============================>.] - ETA: 0s - loss: 15.5341 - mae: 2.9166\n",
            "Epoch 00140: loss did not improve from 15.16861\n",
            "244/243 [==============================] - 15s 62ms/step - loss: 15.5327 - mae: 2.9167 - val_loss: 127.4630 - val_mae: 8.3928\n",
            "Epoch 141/300\n",
            "243/243 [============================>.] - ETA: 0s - loss: 14.5532 - mae: 2.8698\n",
            "Epoch 00141: loss improved from 15.16861 to 14.55851, saving model to C:\\Users\\57lzhang.US04WW4008\\Desktop\\Blood pressure\\BP data\\models\\CNN+LSTM-141-14.5585.hdf5\n",
            "244/243 [==============================] - 15s 63ms/step - loss: 14.5585 - mae: 2.8703 - val_loss: 125.7917 - val_mae: 8.3450\n",
            "Epoch 142/300\n",
            "243/243 [============================>.] - ETA: 0s - loss: 15.1345 - mae: 2.8678\n",
            "Epoch 00142: loss did not improve from 14.55851\n",
            "244/243 [==============================] - 15s 63ms/step - loss: 15.1461 - mae: 2.8700 - val_loss: 124.9884 - val_mae: 8.3024\n",
            "Epoch 143/300\n",
            "243/243 [============================>.] - ETA: 0s - loss: 15.6173 - mae: 2.9211\n",
            "Epoch 00143: loss did not improve from 14.55851\n",
            "244/243 [==============================] - 16s 64ms/step - loss: 15.6058 - mae: 2.9205 - val_loss: 129.5791 - val_mae: 8.4882\n",
            "Epoch 144/300\n",
            "243/243 [============================>.] - ETA: 0s - loss: 14.6199 - mae: 2.8626\n",
            "Epoch 00144: loss did not improve from 14.55851\n",
            "244/243 [==============================] - 16s 64ms/step - loss: 14.6007 - mae: 2.8610 - val_loss: 127.3021 - val_mae: 8.4176\n",
            "Epoch 145/300\n",
            "243/243 [============================>.] - ETA: 0s - loss: 15.1361 - mae: 2.8805\n",
            "Epoch 00145: loss did not improve from 14.55851\n",
            "244/243 [==============================] - 16s 64ms/step - loss: 15.1526 - mae: 2.8825 - val_loss: 126.8755 - val_mae: 8.3789\n",
            "Epoch 146/300\n",
            "243/243 [============================>.] - ETA: 0s - loss: 14.7604 - mae: 2.8534\n",
            "Epoch 00146: loss did not improve from 14.55851\n",
            "244/243 [==============================] - 15s 63ms/step - loss: 14.7377 - mae: 2.8512 - val_loss: 128.6717 - val_mae: 8.4527\n",
            "Epoch 147/300\n",
            "243/243 [============================>.] - ETA: 0s - loss: 14.6452 - mae: 2.8479\n",
            "Epoch 00147: loss did not improve from 14.55851\n",
            "244/243 [==============================] - 15s 63ms/step - loss: 14.6328 - mae: 2.8470 - val_loss: 124.2260 - val_mae: 8.2917\n",
            "Epoch 148/300\n",
            "243/243 [============================>.] - ETA: 0s - loss: 15.0277 - mae: 2.8710\n",
            "Epoch 00148: loss did not improve from 14.55851\n",
            "244/243 [==============================] - 16s 64ms/step - loss: 15.0159 - mae: 2.8702 - val_loss: 128.5122 - val_mae: 8.4391\n",
            "Epoch 149/300\n",
            "243/243 [============================>.] - ETA: 0s - loss: 14.6469 - mae: 2.8248\n",
            "Epoch 00149: loss did not improve from 14.55851\n",
            "244/243 [==============================] - 16s 64ms/step - loss: 14.6251 - mae: 2.8227 - val_loss: 123.7015 - val_mae: 8.2825\n",
            "Epoch 150/300\n",
            "243/243 [============================>.] - ETA: 0s - loss: 14.7290 - mae: 2.8233\n",
            "Epoch 00150: loss did not improve from 14.55851\n",
            "244/243 [==============================] - 15s 61ms/step - loss: 14.7019 - mae: 2.8214 - val_loss: 135.0432 - val_mae: 8.7110\n",
            "Epoch 151/300\n",
            "243/243 [============================>.] - ETA: 0s - loss: 14.3599 - mae: 2.8372\n",
            "Epoch 00151: loss improved from 14.55851 to 14.36504, saving model to C:\\Users\\57lzhang.US04WW4008\\Desktop\\Blood pressure\\BP data\\models\\CNN+LSTM-151-14.3650.hdf5\n",
            "244/243 [==============================] - 16s 66ms/step - loss: 14.3650 - mae: 2.8380 - val_loss: 128.3517 - val_mae: 8.4460\n",
            "Epoch 152/300\n",
            "243/243 [============================>.] - ETA: 0s - loss: 14.4345 - mae: 2.8174\n",
            "Epoch 00152: loss did not improve from 14.36504\n",
            "244/243 [==============================] - 16s 65ms/step - loss: 14.4087 - mae: 2.8149 - val_loss: 126.3236 - val_mae: 8.3668\n",
            "Epoch 153/300\n",
            "243/243 [============================>.] - ETA: 0s - loss: 14.3557 - mae: 2.7990\n",
            "Epoch 00153: loss improved from 14.36504 to 14.32483, saving model to C:\\Users\\57lzhang.US04WW4008\\Desktop\\Blood pressure\\BP data\\models\\CNN+LSTM-153-14.3248.hdf5\n",
            "244/243 [==============================] - 16s 64ms/step - loss: 14.3248 - mae: 2.7956 - val_loss: 128.9232 - val_mae: 8.4559\n",
            "Epoch 154/300\n",
            "243/243 [============================>.] - ETA: 0s - loss: 14.4819 - mae: 2.8164\n",
            "Epoch 00154: loss did not improve from 14.32483\n",
            "244/243 [==============================] - 15s 63ms/step - loss: 14.4715 - mae: 2.8158 - val_loss: 124.3322 - val_mae: 8.2652\n",
            "Epoch 155/300\n",
            "243/243 [============================>.] - ETA: 0s - loss: 14.0765 - mae: 2.7964\n",
            "Epoch 00155: loss improved from 14.32483 to 14.09164, saving model to C:\\Users\\57lzhang.US04WW4008\\Desktop\\Blood pressure\\BP data\\models\\CNN+LSTM-155-14.0916.hdf5\n",
            "244/243 [==============================] - 16s 65ms/step - loss: 14.0916 - mae: 2.7981 - val_loss: 125.0976 - val_mae: 8.3269\n",
            "Epoch 156/300\n",
            "242/243 [============================>.] - ETA: 0s - loss: 14.5788 - mae: 2.8156\n",
            "Epoch 00156: loss did not improve from 14.09164\n",
            "244/243 [==============================] - 15s 63ms/step - loss: 14.5727 - mae: 2.8154 - val_loss: 123.2501 - val_mae: 8.2495\n",
            "Epoch 157/300\n",
            "243/243 [============================>.] - ETA: 0s - loss: 13.7330 - mae: 2.7479\n",
            "Epoch 00157: loss improved from 14.09164 to 13.71460, saving model to C:\\Users\\57lzhang.US04WW4008\\Desktop\\Blood pressure\\BP data\\models\\CNN+LSTM-157-13.7146.hdf5\n",
            "244/243 [==============================] - 16s 64ms/step - loss: 13.7146 - mae: 2.7462 - val_loss: 125.8361 - val_mae: 8.3501\n",
            "Epoch 158/300\n",
            "243/243 [============================>.] - ETA: 0s - loss: 14.0702 - mae: 2.7882\n",
            "Epoch 00158: loss did not improve from 13.71460\n",
            "244/243 [==============================] - 15s 63ms/step - loss: 14.0401 - mae: 2.7856 - val_loss: 127.5547 - val_mae: 8.4193\n",
            "Epoch 159/300\n",
            "242/243 [============================>.] - ETA: 0s - loss: 14.1484 - mae: 2.7948\n",
            "Epoch 00159: loss did not improve from 13.71460\n",
            "244/243 [==============================] - 16s 64ms/step - loss: 14.1352 - mae: 2.7946 - val_loss: 125.5013 - val_mae: 8.3186\n",
            "Epoch 160/300\n",
            "243/243 [============================>.] - ETA: 0s - loss: 14.2249 - mae: 2.7774\n",
            "Epoch 00160: loss did not improve from 13.71460\n",
            "244/243 [==============================] - 16s 66ms/step - loss: 14.2048 - mae: 2.7759 - val_loss: 129.5547 - val_mae: 8.4573\n",
            "Epoch 161/300\n",
            "242/243 [============================>.] - ETA: 0s - loss: 13.4933 - mae: 2.7286\n",
            "Epoch 00161: loss improved from 13.71460 to 13.51497, saving model to C:\\Users\\57lzhang.US04WW4008\\Desktop\\Blood pressure\\BP data\\models\\CNN+LSTM-161-13.5150.hdf5\n",
            "244/243 [==============================] - 16s 64ms/step - loss: 13.5150 - mae: 2.7301 - val_loss: 124.9353 - val_mae: 8.3123\n",
            "Epoch 162/300\n",
            "242/243 [============================>.] - ETA: 0s - loss: 13.1344 - mae: 2.7060\n",
            "Epoch 00162: loss improved from 13.51497 to 13.22707, saving model to C:\\Users\\57lzhang.US04WW4008\\Desktop\\Blood pressure\\BP data\\models\\CNN+LSTM-162-13.2271.hdf5\n",
            "244/243 [==============================] - 16s 65ms/step - loss: 13.2271 - mae: 2.7111 - val_loss: 120.3292 - val_mae: 8.1236\n",
            "Epoch 163/300\n",
            "243/243 [============================>.] - ETA: 0s - loss: 13.4646 - mae: 2.7288\n",
            "Epoch 00163: loss did not improve from 13.22707\n",
            "244/243 [==============================] - 16s 64ms/step - loss: 13.4622 - mae: 2.7288 - val_loss: 124.6305 - val_mae: 8.3157\n",
            "Epoch 164/300\n",
            "243/243 [============================>.] - ETA: 0s - loss: 14.0213 - mae: 2.7482\n",
            "Epoch 00164: loss did not improve from 13.22707\n",
            "244/243 [==============================] - 16s 65ms/step - loss: 14.0014 - mae: 2.7467 - val_loss: 128.0573 - val_mae: 8.3998\n",
            "Epoch 165/300\n",
            "243/243 [============================>.] - ETA: 0s - loss: 13.4552 - mae: 2.7207\n",
            "Epoch 00165: loss did not improve from 13.22707\n",
            "244/243 [==============================] - 16s 64ms/step - loss: 13.4320 - mae: 2.7183 - val_loss: 127.0412 - val_mae: 8.3842\n",
            "Epoch 166/300\n",
            "243/243 [============================>.] - ETA: 0s - loss: 13.4569 - mae: 2.7163\n",
            "Epoch 00166: loss did not improve from 13.22707\n",
            "244/243 [==============================] - 15s 63ms/step - loss: 13.4711 - mae: 2.7186 - val_loss: 131.3524 - val_mae: 8.5255\n",
            "Epoch 167/300\n",
            "243/243 [============================>.] - ETA: 0s - loss: 13.5726 - mae: 2.7210\n",
            "Epoch 00167: loss did not improve from 13.22707\n",
            "244/243 [==============================] - 16s 66ms/step - loss: 13.5489 - mae: 2.7189 - val_loss: 122.9996 - val_mae: 8.2089\n",
            "Epoch 168/300\n",
            "243/243 [============================>.] - ETA: 0s - loss: 12.8164 - mae: 2.6708\n",
            "Epoch 00168: loss improved from 13.22707 to 12.80763, saving model to C:\\Users\\57lzhang.US04WW4008\\Desktop\\Blood pressure\\BP data\\models\\CNN+LSTM-168-12.8076.hdf5\n",
            "244/243 [==============================] - 16s 65ms/step - loss: 12.8076 - mae: 2.6705 - val_loss: 130.5610 - val_mae: 8.4919\n",
            "Epoch 169/300\n",
            "243/243 [============================>.] - ETA: 0s - loss: 13.1053 - mae: 2.6817\n",
            "Epoch 00169: loss did not improve from 12.80763\n",
            "244/243 [==============================] - 15s 63ms/step - loss: 13.0907 - mae: 2.6806 - val_loss: 125.1642 - val_mae: 8.3120\n",
            "Epoch 170/300\n",
            "243/243 [============================>.] - ETA: 0s - loss: 13.2654 - mae: 2.6971\n",
            "Epoch 00170: loss did not improve from 12.80763\n",
            "244/243 [==============================] - 16s 65ms/step - loss: 13.2383 - mae: 2.6943 - val_loss: 129.4196 - val_mae: 8.4683\n",
            "Epoch 171/300\n",
            "243/243 [============================>.] - ETA: 0s - loss: 12.6720 - mae: 2.6638\n",
            "Epoch 00171: loss improved from 12.80763 to 12.71044, saving model to C:\\Users\\57lzhang.US04WW4008\\Desktop\\Blood pressure\\BP data\\models\\CNN+LSTM-171-12.7104.hdf5\n",
            "244/243 [==============================] - 16s 66ms/step - loss: 12.7104 - mae: 2.6653 - val_loss: 126.2945 - val_mae: 8.3561\n",
            "Epoch 172/300\n",
            "243/243 [============================>.] - ETA: 0s - loss: 13.1223 - mae: 2.6778\n",
            "Epoch 00172: loss did not improve from 12.71044\n",
            "244/243 [==============================] - 16s 64ms/step - loss: 13.1336 - mae: 2.6790 - val_loss: 130.7377 - val_mae: 8.5197\n",
            "Epoch 173/300\n",
            "243/243 [============================>.] - ETA: 0s - loss: 12.7393 - mae: 2.6574\n",
            "Epoch 00173: loss did not improve from 12.71044\n",
            "244/243 [==============================] - 16s 66ms/step - loss: 12.7279 - mae: 2.6563 - val_loss: 123.8860 - val_mae: 8.2651\n",
            "Epoch 174/300\n",
            "242/243 [============================>.] - ETA: 0s - loss: 12.7103 - mae: 2.6297\n",
            "Epoch 00174: loss did not improve from 12.71044\n",
            "244/243 [==============================] - 16s 64ms/step - loss: 12.7494 - mae: 2.6339 - val_loss: 134.2845 - val_mae: 8.6524\n",
            "Epoch 175/300\n",
            "243/243 [============================>.] - ETA: 0s - loss: 13.1023 - mae: 2.6601\n",
            "Epoch 00175: loss did not improve from 12.71044\n",
            "244/243 [==============================] - 16s 65ms/step - loss: 13.0973 - mae: 2.6599 - val_loss: 120.0044 - val_mae: 8.1306\n",
            "Epoch 176/300\n",
            "243/243 [============================>.] - ETA: 0s - loss: 12.5619 - mae: 2.6436\n",
            "Epoch 00176: loss improved from 12.71044 to 12.57505, saving model to C:\\Users\\57lzhang.US04WW4008\\Desktop\\Blood pressure\\BP data\\models\\CNN+LSTM-176-12.5750.hdf5\n",
            "244/243 [==============================] - 16s 67ms/step - loss: 12.5750 - mae: 2.6449 - val_loss: 127.6480 - val_mae: 8.4078\n",
            "Epoch 177/300\n",
            "243/243 [============================>.] - ETA: 0s - loss: 12.7704 - mae: 2.6281\n",
            "Epoch 00177: loss did not improve from 12.57505\n",
            "244/243 [==============================] - 16s 66ms/step - loss: 12.7862 - mae: 2.6301 - val_loss: 125.3669 - val_mae: 8.3108\n",
            "Epoch 178/300\n",
            "243/243 [============================>.] - ETA: 0s - loss: 13.0096 - mae: 2.6520\n",
            "Epoch 00178: loss did not improve from 12.57505\n",
            "244/243 [==============================] - 16s 66ms/step - loss: 12.9903 - mae: 2.6507 - val_loss: 125.3062 - val_mae: 8.3396\n",
            "Epoch 179/300\n",
            "243/243 [============================>.] - ETA: 0s - loss: 12.1276 - mae: 2.6013\n",
            "Epoch 00179: loss improved from 12.57505 to 12.16405, saving model to C:\\Users\\57lzhang.US04WW4008\\Desktop\\Blood pressure\\BP data\\models\\CNN+LSTM-179-12.1641.hdf5\n",
            "244/243 [==============================] - 16s 65ms/step - loss: 12.1641 - mae: 2.6033 - val_loss: 128.8292 - val_mae: 8.4983\n",
            "Epoch 180/300\n",
            "242/243 [============================>.] - ETA: 0s - loss: 12.3561 - mae: 2.6054\n",
            "Epoch 00180: loss did not improve from 12.16405\n",
            "244/243 [==============================] - 16s 64ms/step - loss: 12.3226 - mae: 2.6032 - val_loss: 122.6851 - val_mae: 8.2420\n",
            "Epoch 181/300\n",
            "242/243 [============================>.] - ETA: 0s - loss: 12.7229 - mae: 2.6232\n",
            "Epoch 00181: loss did not improve from 12.16405\n",
            "244/243 [==============================] - 16s 65ms/step - loss: 12.7068 - mae: 2.6229 - val_loss: 124.3584 - val_mae: 8.2986\n",
            "Epoch 182/300\n",
            "242/243 [============================>.] - ETA: 0s - loss: 12.3950 - mae: 2.6006\n",
            "Epoch 00182: loss did not improve from 12.16405\n",
            "244/243 [==============================] - 16s 67ms/step - loss: 12.3788 - mae: 2.6008 - val_loss: 130.4076 - val_mae: 8.5088\n",
            "Epoch 183/300\n",
            "243/243 [============================>.] - ETA: 0s - loss: 11.9962 - mae: 2.5700\n",
            "Epoch 00183: loss improved from 12.16405 to 11.97169, saving model to C:\\Users\\57lzhang.US04WW4008\\Desktop\\Blood pressure\\BP data\\models\\CNN+LSTM-183-11.9717.hdf5\n",
            "244/243 [==============================] - 16s 65ms/step - loss: 11.9717 - mae: 2.5671 - val_loss: 130.0923 - val_mae: 8.4597\n",
            "Epoch 184/300\n",
            "243/243 [============================>.] - ETA: 0s - loss: 12.1408 - mae: 2.5802\n",
            "Epoch 00184: loss did not improve from 11.97169\n",
            "244/243 [==============================] - 16s 65ms/step - loss: 12.1314 - mae: 2.5795 - val_loss: 125.2365 - val_mae: 8.2933\n",
            "Epoch 185/300\n",
            "243/243 [============================>.] - ETA: 0s - loss: 12.4490 - mae: 2.5874\n",
            "Epoch 00185: loss did not improve from 11.97169\n",
            "244/243 [==============================] - 16s 64ms/step - loss: 12.4419 - mae: 2.5873 - val_loss: 124.3856 - val_mae: 8.2799\n",
            "Epoch 186/300\n",
            "243/243 [============================>.] - ETA: 0s - loss: 12.1361 - mae: 2.5650\n",
            "Epoch 00186: loss did not improve from 11.97169\n",
            "244/243 [==============================] - 16s 64ms/step - loss: 12.1370 - mae: 2.5643 - val_loss: 124.0781 - val_mae: 8.2687\n",
            "Epoch 187/300\n",
            "243/243 [============================>.] - ETA: 0s - loss: 12.3977 - mae: 2.6065\n",
            "Epoch 00187: loss did not improve from 11.97169\n",
            "244/243 [==============================] - 16s 64ms/step - loss: 12.3821 - mae: 2.6055 - val_loss: 128.5415 - val_mae: 8.4127\n",
            "Epoch 188/300\n",
            "243/243 [============================>.] - ETA: 0s - loss: 11.9392 - mae: 2.5578\n",
            "Epoch 00188: loss improved from 11.97169 to 11.94107, saving model to C:\\Users\\57lzhang.US04WW4008\\Desktop\\Blood pressure\\BP data\\models\\CNN+LSTM-188-11.9411.hdf5\n",
            "244/243 [==============================] - 16s 67ms/step - loss: 11.9411 - mae: 2.5586 - val_loss: 124.7499 - val_mae: 8.2763\n",
            "Epoch 189/300\n",
            "243/243 [============================>.] - ETA: 0s - loss: 11.7821 - mae: 2.5580\n",
            "Epoch 00189: loss improved from 11.94107 to 11.76702, saving model to C:\\Users\\57lzhang.US04WW4008\\Desktop\\Blood pressure\\BP data\\models\\CNN+LSTM-189-11.7670.hdf5\n",
            "244/243 [==============================] - 16s 65ms/step - loss: 11.7670 - mae: 2.5564 - val_loss: 127.0731 - val_mae: 8.3713\n",
            "Epoch 190/300\n",
            "243/243 [============================>.] - ETA: 0s - loss: 12.0678 - mae: 2.5542\n",
            "Epoch 00190: loss did not improve from 11.76702\n",
            "244/243 [==============================] - 16s 64ms/step - loss: 12.0585 - mae: 2.5535 - val_loss: 128.5854 - val_mae: 8.4064\n",
            "Epoch 191/300\n",
            "243/243 [============================>.] - ETA: 0s - loss: 11.8699 - mae: 2.5534\n",
            "Epoch 00191: loss did not improve from 11.76702\n",
            "244/243 [==============================] - 16s 66ms/step - loss: 11.8541 - mae: 2.5520 - val_loss: 128.1929 - val_mae: 8.4007\n",
            "Epoch 192/300\n",
            "243/243 [============================>.] - ETA: 0s - loss: 11.9716 - mae: 2.5378\n",
            "Epoch 00192: loss did not improve from 11.76702\n",
            "244/243 [==============================] - 16s 64ms/step - loss: 11.9586 - mae: 2.5370 - val_loss: 128.3279 - val_mae: 8.4011\n",
            "Epoch 193/300\n",
            "242/243 [============================>.] - ETA: 0s - loss: 11.6588 - mae: 2.5299\n",
            "Epoch 00193: loss improved from 11.76702 to 11.63472, saving model to C:\\Users\\57lzhang.US04WW4008\\Desktop\\Blood pressure\\BP data\\models\\CNN+LSTM-193-11.6347.hdf5\n",
            "244/243 [==============================] - 16s 64ms/step - loss: 11.6347 - mae: 2.5277 - val_loss: 125.1351 - val_mae: 8.3037\n",
            "Epoch 194/300\n",
            "243/243 [============================>.] - ETA: 0s - loss: 11.6842 - mae: 2.5182\n",
            "Epoch 00194: loss did not improve from 11.63472\n",
            "244/243 [==============================] - 16s 65ms/step - loss: 11.6769 - mae: 2.5179 - val_loss: 122.4825 - val_mae: 8.1849\n",
            "Epoch 195/300\n",
            "242/243 [============================>.] - ETA: 0s - loss: 11.4422 - mae: 2.4991\n",
            "Epoch 00195: loss improved from 11.63472 to 11.47137, saving model to C:\\Users\\57lzhang.US04WW4008\\Desktop\\Blood pressure\\BP data\\models\\CNN+LSTM-195-11.4714.hdf5\n",
            "244/243 [==============================] - 15s 63ms/step - loss: 11.4714 - mae: 2.5030 - val_loss: 132.9772 - val_mae: 8.6210\n",
            "Epoch 196/300\n",
            "243/243 [============================>.] - ETA: 0s - loss: 11.5828 - mae: 2.4950\n",
            "Epoch 00196: loss did not improve from 11.47137\n",
            "244/243 [==============================] - 16s 64ms/step - loss: 11.5820 - mae: 2.4942 - val_loss: 123.3443 - val_mae: 8.2305\n",
            "Epoch 197/300\n",
            "243/243 [============================>.] - ETA: 0s - loss: 11.6072 - mae: 2.5196\n",
            "Epoch 00197: loss did not improve from 11.47137\n",
            "244/243 [==============================] - 15s 62ms/step - loss: 11.5937 - mae: 2.5187 - val_loss: 127.6309 - val_mae: 8.4152\n",
            "Epoch 198/300\n",
            "242/243 [============================>.] - ETA: 0s - loss: 11.3512 - mae: 2.4873\n",
            "Epoch 00198: loss improved from 11.47137 to 11.35925, saving model to C:\\Users\\57lzhang.US04WW4008\\Desktop\\Blood pressure\\BP data\\models\\CNN+LSTM-198-11.3592.hdf5\n",
            "244/243 [==============================] - 16s 65ms/step - loss: 11.3592 - mae: 2.4883 - val_loss: 129.3516 - val_mae: 8.4562\n",
            "Epoch 199/300\n",
            "243/243 [============================>.] - ETA: 0s - loss: 11.3453 - mae: 2.4870\n",
            "Epoch 00199: loss improved from 11.35925 to 11.33547, saving model to C:\\Users\\57lzhang.US04WW4008\\Desktop\\Blood pressure\\BP data\\models\\CNN+LSTM-199-11.3355.hdf5\n",
            "244/243 [==============================] - 15s 63ms/step - loss: 11.3355 - mae: 2.4870 - val_loss: 126.0095 - val_mae: 8.3391\n",
            "Epoch 200/300\n",
            "243/243 [============================>.] - ETA: 0s - loss: 11.1752 - mae: 2.4930\n",
            "Epoch 00200: loss improved from 11.33547 to 11.16618, saving model to C:\\Users\\57lzhang.US04WW4008\\Desktop\\Blood pressure\\BP data\\models\\CNN+LSTM-200-11.1662.hdf5\n",
            "244/243 [==============================] - 16s 64ms/step - loss: 11.1662 - mae: 2.4922 - val_loss: 124.9139 - val_mae: 8.2881\n",
            "Epoch 201/300\n",
            "242/243 [============================>.] - ETA: 0s - loss: 11.3887 - mae: 2.4854\n",
            "Epoch 00201: loss did not improve from 11.16618\n",
            "244/243 [==============================] - 15s 62ms/step - loss: 11.3989 - mae: 2.4875 - val_loss: 126.7447 - val_mae: 8.3505\n",
            "Epoch 202/300\n",
            "243/243 [============================>.] - ETA: 0s - loss: 11.1369 - mae: 2.4378\n",
            "Epoch 00202: loss improved from 11.16618 to 11.13817, saving model to C:\\Users\\57lzhang.US04WW4008\\Desktop\\Blood pressure\\BP data\\models\\CNN+LSTM-202-11.1382.hdf5\n",
            "244/243 [==============================] - 16s 65ms/step - loss: 11.1382 - mae: 2.4391 - val_loss: 125.2984 - val_mae: 8.3055\n",
            "Epoch 203/300\n",
            "243/243 [============================>.] - ETA: 0s - loss: 11.0885 - mae: 2.4407\n",
            "Epoch 00203: loss improved from 11.13817 to 11.09238, saving model to C:\\Users\\57lzhang.US04WW4008\\Desktop\\Blood pressure\\BP data\\models\\CNN+LSTM-203-11.0924.hdf5\n",
            "244/243 [==============================] - 16s 64ms/step - loss: 11.0924 - mae: 2.4410 - val_loss: 125.7610 - val_mae: 8.3145\n",
            "Epoch 204/300\n",
            "242/243 [============================>.] - ETA: 0s - loss: 10.8345 - mae: 2.4342\n",
            "Epoch 00204: loss improved from 11.09238 to 10.83170, saving model to C:\\Users\\57lzhang.US04WW4008\\Desktop\\Blood pressure\\BP data\\models\\CNN+LSTM-204-10.8317.hdf5\n",
            "244/243 [==============================] - 16s 64ms/step - loss: 10.8317 - mae: 2.4332 - val_loss: 126.2482 - val_mae: 8.3322\n",
            "Epoch 205/300\n",
            "243/243 [============================>.] - ETA: 0s - loss: 11.1843 - mae: 2.4508\n",
            "Epoch 00205: loss did not improve from 10.83170\n",
            "244/243 [==============================] - 15s 63ms/step - loss: 11.1793 - mae: 2.4511 - val_loss: 126.5933 - val_mae: 8.3423\n",
            "Epoch 206/300\n",
            "243/243 [============================>.] - ETA: 0s - loss: 10.9683 - mae: 2.4427\n",
            "Epoch 00206: loss did not improve from 10.83170\n",
            "244/243 [==============================] - 15s 62ms/step - loss: 10.9971 - mae: 2.4432 - val_loss: 125.8447 - val_mae: 8.3190\n",
            "Epoch 207/300\n",
            "243/243 [============================>.] - ETA: 0s - loss: 11.0174 - mae: 2.4405\n",
            "Epoch 00207: loss did not improve from 10.83170\n",
            "244/243 [==============================] - 15s 62ms/step - loss: 11.0169 - mae: 2.4413 - val_loss: 126.0567 - val_mae: 8.3245\n",
            "Epoch 208/300\n",
            "243/243 [============================>.] - ETA: 0s - loss: 10.4671 - mae: 2.4002\n",
            "Epoch 00208: loss improved from 10.83170 to 10.46601, saving model to C:\\Users\\57lzhang.US04WW4008\\Desktop\\Blood pressure\\BP data\\models\\CNN+LSTM-208-10.4660.hdf5\n",
            "244/243 [==============================] - 15s 62ms/step - loss: 10.4660 - mae: 2.4006 - val_loss: 125.6427 - val_mae: 8.3063\n",
            "Epoch 209/300\n",
            "242/243 [============================>.] - ETA: 0s - loss: 11.3378 - mae: 2.4612\n",
            "Epoch 00209: loss did not improve from 10.46601\n",
            "244/243 [==============================] - 15s 61ms/step - loss: 11.3310 - mae: 2.4628 - val_loss: 126.8347 - val_mae: 8.3490\n",
            "Epoch 210/300\n",
            "243/243 [============================>.] - ETA: 0s - loss: 11.0814 - mae: 2.4501\n",
            "Epoch 00210: loss did not improve from 10.46601\n",
            "244/243 [==============================] - 15s 63ms/step - loss: 11.0977 - mae: 2.4507 - val_loss: 126.3631 - val_mae: 8.3361\n",
            "Epoch 211/300\n",
            "243/243 [============================>.] - ETA: 0s - loss: 11.0049 - mae: 2.4381\n",
            "Epoch 00211: loss did not improve from 10.46601\n",
            "244/243 [==============================] - 16s 65ms/step - loss: 10.9964 - mae: 2.4375 - val_loss: 126.1847 - val_mae: 8.3312\n",
            "Epoch 212/300\n",
            "242/243 [============================>.] - ETA: 0s - loss: 10.7922 - mae: 2.4228\n",
            "Epoch 00212: loss did not improve from 10.46601\n",
            "244/243 [==============================] - 16s 64ms/step - loss: 10.7977 - mae: 2.4241 - val_loss: 126.5828 - val_mae: 8.3475\n",
            "Epoch 213/300\n",
            "242/243 [============================>.] - ETA: 0s - loss: 11.0612 - mae: 2.4286\n",
            "Epoch 00213: loss did not improve from 10.46601\n",
            "244/243 [==============================] - 15s 63ms/step - loss: 11.0528 - mae: 2.4282 - val_loss: 125.9448 - val_mae: 8.3208\n",
            "Epoch 214/300\n",
            "243/243 [============================>.] - ETA: 0s - loss: 10.6393 - mae: 2.4070\n",
            "Epoch 00214: loss did not improve from 10.46601\n",
            "244/243 [==============================] - 17s 69ms/step - loss: 10.6406 - mae: 2.4075 - val_loss: 125.5468 - val_mae: 8.3057\n",
            "Epoch 215/300\n",
            "243/243 [============================>.] - ETA: 0s - loss: 11.1871 - mae: 2.4565\n",
            "Epoch 00215: loss did not improve from 10.46601\n",
            "244/243 [==============================] - 15s 61ms/step - loss: 11.1864 - mae: 2.4559 - val_loss: 124.9488 - val_mae: 8.2875\n",
            "Epoch 216/300\n",
            "242/243 [============================>.] - ETA: 0s - loss: 10.8176 - mae: 2.4245\n",
            "Epoch 00216: loss did not improve from 10.46601\n",
            "244/243 [==============================] - 15s 62ms/step - loss: 10.8833 - mae: 2.4294 - val_loss: 125.5931 - val_mae: 8.3118\n",
            "Epoch 217/300\n",
            "242/243 [============================>.] - ETA: 0s - loss: 10.8801 - mae: 2.4276\n",
            "Epoch 00217: loss did not improve from 10.46601\n",
            "244/243 [==============================] - 16s 65ms/step - loss: 10.8619 - mae: 2.4261 - val_loss: 124.9689 - val_mae: 8.2818\n",
            "Epoch 218/300\n",
            "242/243 [============================>.] - ETA: 0s - loss: 10.8585 - mae: 2.4325\n",
            "Epoch 00218: loss did not improve from 10.46601\n",
            "244/243 [==============================] - 15s 63ms/step - loss: 10.8411 - mae: 2.4308 - val_loss: 125.4217 - val_mae: 8.3043\n",
            "Epoch 219/300\n",
            "243/243 [============================>.] - ETA: 0s - loss: 11.1474 - mae: 2.4286\n",
            "Epoch 00219: loss did not improve from 10.46601\n",
            "244/243 [==============================] - 15s 60ms/step - loss: 11.1360 - mae: 2.4276 - val_loss: 125.3859 - val_mae: 8.2994\n",
            "Epoch 220/300\n",
            "243/243 [============================>.] - ETA: 0s - loss: 10.7906 - mae: 2.4074\n",
            "Epoch 00220: loss did not improve from 10.46601\n",
            "244/243 [==============================] - 16s 65ms/step - loss: 10.7922 - mae: 2.4080 - val_loss: 126.0045 - val_mae: 8.3266\n",
            "Epoch 221/300\n",
            "242/243 [============================>.] - ETA: 0s - loss: 10.7172 - mae: 2.4025\n",
            "Epoch 00221: loss did not improve from 10.46601\n",
            "244/243 [==============================] - 15s 63ms/step - loss: 10.7253 - mae: 2.4043 - val_loss: 126.2237 - val_mae: 8.3365\n",
            "Epoch 222/300\n",
            "242/243 [============================>.] - ETA: 0s - loss: 10.9308 - mae: 2.4283\n",
            "Epoch 00222: loss did not improve from 10.46601\n",
            "244/243 [==============================] - 15s 62ms/step - loss: 10.9329 - mae: 2.4303 - val_loss: 125.7998 - val_mae: 8.3166\n",
            "Epoch 223/300\n",
            "243/243 [============================>.] - ETA: 0s - loss: 10.9318 - mae: 2.4228\n",
            "Epoch 00223: loss did not improve from 10.46601\n",
            "244/243 [==============================] - 15s 62ms/step - loss: 10.9141 - mae: 2.4218 - val_loss: 125.1456 - val_mae: 8.2987\n",
            "Epoch 224/300\n",
            "243/243 [============================>.] - ETA: 0s - loss: 10.7636 - mae: 2.4062\n",
            "Epoch 00224: loss did not improve from 10.46601\n",
            "244/243 [==============================] - 15s 60ms/step - loss: 10.7982 - mae: 2.4083 - val_loss: 125.1813 - val_mae: 8.2950\n",
            "Epoch 225/300\n",
            "243/243 [============================>.] - ETA: 0s - loss: 10.6683 - mae: 2.4206\n",
            "Epoch 00225: loss did not improve from 10.46601\n",
            "244/243 [==============================] - 15s 63ms/step - loss: 10.6554 - mae: 2.4202 - val_loss: 126.0142 - val_mae: 8.3248\n",
            "Epoch 226/300\n",
            "243/243 [============================>.] - ETA: 0s - loss: 11.3535 - mae: 2.4546\n",
            "Epoch 00226: loss did not improve from 10.46601\n",
            "244/243 [==============================] - 15s 63ms/step - loss: 11.3446 - mae: 2.4540 - val_loss: 125.0588 - val_mae: 8.2879\n",
            "Epoch 227/300\n",
            "242/243 [============================>.] - ETA: 0s - loss: 10.5112 - mae: 2.4131\n",
            "Epoch 00227: loss did not improve from 10.46601\n",
            "244/243 [==============================] - 15s 62ms/step - loss: 10.5261 - mae: 2.4164 - val_loss: 125.2572 - val_mae: 8.2957\n",
            "Epoch 228/300\n",
            "243/243 [============================>.] - ETA: 0s - loss: 10.9778 - mae: 2.4204\n",
            "Epoch 00228: loss did not improve from 10.46601\n",
            "244/243 [==============================] - 15s 63ms/step - loss: 10.9794 - mae: 2.4197 - val_loss: 125.6005 - val_mae: 8.3097\n",
            "Epoch 229/300\n",
            "243/243 [============================>.] - ETA: 0s - loss: 11.2582 - mae: 2.4676\n",
            "Epoch 00229: loss did not improve from 10.46601\n",
            "244/243 [==============================] - 15s 61ms/step - loss: 11.2443 - mae: 2.4668 - val_loss: 124.9152 - val_mae: 8.2908\n",
            "Epoch 230/300\n",
            "243/243 [============================>.] - ETA: 0s - loss: 10.3868 - mae: 2.3734\n",
            "Epoch 00230: loss improved from 10.46601 to 10.38126, saving model to C:\\Users\\57lzhang.US04WW4008\\Desktop\\Blood pressure\\BP data\\models\\CNN+LSTM-230-10.3813.hdf5\n",
            "244/243 [==============================] - 15s 63ms/step - loss: 10.3813 - mae: 2.3724 - val_loss: 123.9474 - val_mae: 8.2584\n",
            "Epoch 231/300\n",
            "243/243 [============================>.] - ETA: 0s - loss: 10.5855 - mae: 2.3945\n",
            "Epoch 00231: loss did not improve from 10.38126\n",
            "244/243 [==============================] - 15s 60ms/step - loss: 10.5721 - mae: 2.3932 - val_loss: 125.8456 - val_mae: 8.3304\n",
            "Epoch 232/300\n",
            "243/243 [============================>.] - ETA: 0s - loss: 10.7947 - mae: 2.4149\n",
            "Epoch 00232: loss did not improve from 10.38126\n",
            "244/243 [==============================] - 15s 62ms/step - loss: 10.7924 - mae: 2.4154 - val_loss: 125.0899 - val_mae: 8.2976\n",
            "Epoch 233/300\n",
            "243/243 [============================>.] - ETA: 0s - loss: 11.0924 - mae: 2.4367\n",
            "Epoch 00233: loss did not improve from 10.38126\n",
            "244/243 [==============================] - 15s 60ms/step - loss: 11.0797 - mae: 2.4354 - val_loss: 124.0752 - val_mae: 8.2627\n",
            "Epoch 234/300\n",
            "243/243 [============================>.] - ETA: 0s - loss: 10.5794 - mae: 2.3985\n",
            "Epoch 00234: loss did not improve from 10.38126\n",
            "244/243 [==============================] - 15s 61ms/step - loss: 10.5614 - mae: 2.3969 - val_loss: 124.5428 - val_mae: 8.2764\n",
            "Epoch 235/300\n",
            "242/243 [============================>.] - ETA: 0s - loss: 10.8842 - mae: 2.4306\n",
            "Epoch 00235: loss did not improve from 10.38126\n",
            "244/243 [==============================] - 15s 60ms/step - loss: 10.8993 - mae: 2.4337 - val_loss: 124.1912 - val_mae: 8.2684\n",
            "Epoch 236/300\n",
            "243/243 [============================>.] - ETA: 0s - loss: 10.9125 - mae: 2.4291\n",
            "Epoch 00236: loss did not improve from 10.38126\n",
            "244/243 [==============================] - 15s 61ms/step - loss: 10.8963 - mae: 2.4271 - val_loss: 125.9271 - val_mae: 8.3355\n",
            "Epoch 237/300\n",
            "243/243 [============================>.] - ETA: 0s - loss: 10.4477 - mae: 2.4042\n",
            "Epoch 00237: loss did not improve from 10.38126\n",
            "244/243 [==============================] - 15s 61ms/step - loss: 10.4460 - mae: 2.4046 - val_loss: 124.6805 - val_mae: 8.2820\n",
            "Epoch 238/300\n",
            "243/243 [============================>.] - ETA: 0s - loss: 11.0237 - mae: 2.4338\n",
            "Epoch 00238: loss did not improve from 10.38126\n",
            "244/243 [==============================] - 15s 60ms/step - loss: 11.0157 - mae: 2.4331 - val_loss: 124.2186 - val_mae: 8.2605\n",
            "Epoch 239/300\n",
            "243/243 [============================>.] - ETA: 0s - loss: 10.4929 - mae: 2.4010\n",
            "Epoch 00239: loss did not improve from 10.38126\n",
            "244/243 [==============================] - 14s 59ms/step - loss: 10.4804 - mae: 2.3997 - val_loss: 124.1179 - val_mae: 8.2650\n",
            "Epoch 240/300\n",
            "242/243 [============================>.] - ETA: 0s - loss: 11.1169 - mae: 2.4341\n",
            "Epoch 00240: loss did not improve from 10.38126\n",
            "244/243 [==============================] - 15s 60ms/step - loss: 11.0993 - mae: 2.4323 - val_loss: 125.4143 - val_mae: 8.3183\n",
            "Epoch 241/300\n",
            "243/243 [============================>.] - ETA: 0s - loss: 10.7800 - mae: 2.3987\n",
            "Epoch 00241: loss did not improve from 10.38126\n",
            "244/243 [==============================] - 15s 61ms/step - loss: 10.7854 - mae: 2.3997 - val_loss: 124.9939 - val_mae: 8.2999\n",
            "Epoch 242/300\n",
            "243/243 [============================>.] - ETA: 0s - loss: 10.6124 - mae: 2.3968\n",
            "Epoch 00242: loss did not improve from 10.38126\n",
            "244/243 [==============================] - 14s 59ms/step - loss: 10.5950 - mae: 2.3952 - val_loss: 124.9876 - val_mae: 8.2991\n",
            "Epoch 243/300\n",
            "243/243 [============================>.] - ETA: 0s - loss: 10.7923 - mae: 2.4162\n",
            "Epoch 00243: loss did not improve from 10.38126\n",
            "244/243 [==============================] - 14s 58ms/step - loss: 10.7950 - mae: 2.4171 - val_loss: 124.6025 - val_mae: 8.2803\n",
            "Epoch 244/300\n",
            "243/243 [============================>.] - ETA: 0s - loss: 10.8781 - mae: 2.4281\n",
            "Epoch 00244: loss did not improve from 10.38126\n",
            "244/243 [==============================] - 14s 58ms/step - loss: 10.8723 - mae: 2.4277 - val_loss: 125.1938 - val_mae: 8.3061\n",
            "Epoch 245/300\n",
            "243/243 [============================>.] - ETA: 0s - loss: 10.5576 - mae: 2.3872\n",
            "Epoch 00245: loss did not improve from 10.38126\n",
            "244/243 [==============================] - 14s 58ms/step - loss: 10.5368 - mae: 2.3852 - val_loss: 124.6378 - val_mae: 8.2922\n",
            "Epoch 246/300\n",
            "242/243 [============================>.] - ETA: 0s - loss: 10.5467 - mae: 2.3872\n",
            "Epoch 00246: loss did not improve from 10.38126\n",
            "244/243 [==============================] - 14s 57ms/step - loss: 10.5292 - mae: 2.3858 - val_loss: 124.9825 - val_mae: 8.2976\n",
            "Epoch 247/300\n",
            "243/243 [============================>.] - ETA: 0s - loss: 10.3435 - mae: 2.3834\n",
            "Epoch 00247: loss improved from 10.38126 to 10.31725, saving model to C:\\Users\\57lzhang.US04WW4008\\Desktop\\Blood pressure\\BP data\\models\\CNN+LSTM-247-10.3173.hdf5\n",
            "244/243 [==============================] - 14s 59ms/step - loss: 10.3173 - mae: 2.3803 - val_loss: 125.2542 - val_mae: 8.3098\n",
            "Epoch 248/300\n",
            "243/243 [============================>.] - ETA: 0s - loss: 10.9163 - mae: 2.4119\n",
            "Epoch 00248: loss did not improve from 10.31725\n",
            "244/243 [==============================] - 15s 61ms/step - loss: 10.9246 - mae: 2.4136 - val_loss: 125.1965 - val_mae: 8.3060\n",
            "Epoch 249/300\n",
            "243/243 [============================>.] - ETA: 0s - loss: 10.5220 - mae: 2.3956\n",
            "Epoch 00249: loss did not improve from 10.31725\n",
            "244/243 [==============================] - 14s 57ms/step - loss: 10.5223 - mae: 2.3960 - val_loss: 124.8545 - val_mae: 8.2845\n",
            "Epoch 250/300\n",
            "243/243 [============================>.] - ETA: 0s - loss: 10.8821 - mae: 2.4004\n",
            "Epoch 00250: loss did not improve from 10.31725\n",
            "244/243 [==============================] - 14s 56ms/step - loss: 10.8765 - mae: 2.4002 - val_loss: 124.3134 - val_mae: 8.2769\n",
            "Epoch 251/300\n",
            "243/243 [============================>.] - ETA: 0s - loss: 10.5257 - mae: 2.3911\n",
            "Epoch 00251: loss did not improve from 10.31725\n",
            "244/243 [==============================] - 14s 56ms/step - loss: 10.5735 - mae: 2.3943 - val_loss: 125.0263 - val_mae: 8.2943\n",
            "Epoch 252/300\n",
            "242/243 [============================>.] - ETA: 0s - loss: 10.6412 - mae: 2.4028\n",
            "Epoch 00252: loss did not improve from 10.31725\n",
            "244/243 [==============================] - 14s 59ms/step - loss: 10.6216 - mae: 2.4024 - val_loss: 125.0986 - val_mae: 8.2968\n",
            "Epoch 253/300\n",
            "243/243 [============================>.] - ETA: 0s - loss: 10.6388 - mae: 2.3982\n",
            "Epoch 00253: loss did not improve from 10.31725\n",
            "244/243 [==============================] - 14s 57ms/step - loss: 10.6331 - mae: 2.3979 - val_loss: 124.5402 - val_mae: 8.2776\n",
            "Epoch 254/300\n",
            "242/243 [============================>.] - ETA: 0s - loss: 10.8441 - mae: 2.4220\n",
            "Epoch 00254: loss did not improve from 10.31725\n",
            "244/243 [==============================] - 14s 56ms/step - loss: 10.8658 - mae: 2.4233 - val_loss: 124.1522 - val_mae: 8.2634\n",
            "Epoch 255/300\n",
            "242/243 [============================>.] - ETA: 0s - loss: 10.4707 - mae: 2.3817\n",
            "Epoch 00255: loss did not improve from 10.31725\n",
            "244/243 [==============================] - 13s 55ms/step - loss: 10.5387 - mae: 2.3859 - val_loss: 123.5739 - val_mae: 8.2407\n",
            "Epoch 256/300\n",
            "242/243 [============================>.] - ETA: 0s - loss: 10.5793 - mae: 2.3879\n",
            "Epoch 00256: loss did not improve from 10.31725\n",
            "244/243 [==============================] - 14s 56ms/step - loss: 10.5537 - mae: 2.3865 - val_loss: 122.7601 - val_mae: 8.2157\n",
            "Epoch 257/300\n",
            "243/243 [============================>.] - ETA: 0s - loss: 10.4917 - mae: 2.3956\n",
            "Epoch 00257: loss did not improve from 10.31725\n",
            "244/243 [==============================] - 14s 57ms/step - loss: 10.4810 - mae: 2.3949 - val_loss: 123.6947 - val_mae: 8.2455\n",
            "Epoch 258/300\n",
            "243/243 [============================>.] - ETA: 0s - loss: 10.8534 - mae: 2.4154\n",
            "Epoch 00258: loss did not improve from 10.31725\n",
            "244/243 [==============================] - 14s 57ms/step - loss: 10.8323 - mae: 2.4131 - val_loss: 124.8293 - val_mae: 8.2888\n",
            "Epoch 259/300\n",
            "242/243 [============================>.] - ETA: 0s - loss: 10.5799 - mae: 2.3799\n",
            "Epoch 00259: loss did not improve from 10.31725\n",
            "244/243 [==============================] - 13s 55ms/step - loss: 10.5572 - mae: 2.3783 - val_loss: 123.9844 - val_mae: 8.2532\n",
            "Epoch 260/300\n",
            "243/243 [============================>.] - ETA: 0s - loss: 10.5727 - mae: 2.3891\n",
            "Epoch 00260: loss did not improve from 10.31725\n",
            "244/243 [==============================] - 14s 58ms/step - loss: 10.5889 - mae: 2.3910 - val_loss: 123.4240 - val_mae: 8.2379\n",
            "Epoch 261/300\n",
            "243/243 [============================>.] - ETA: 0s - loss: 10.2738 - mae: 2.3742\n",
            "Epoch 00261: loss improved from 10.31725 to 10.31292, saving model to C:\\Users\\57lzhang.US04WW4008\\Desktop\\Blood pressure\\BP data\\models\\CNN+LSTM-261-10.3129.hdf5\n",
            "244/243 [==============================] - 14s 57ms/step - loss: 10.3129 - mae: 2.3751 - val_loss: 124.0737 - val_mae: 8.2574\n",
            "Epoch 262/300\n",
            "243/243 [============================>.] - ETA: 0s - loss: 10.9441 - mae: 2.4265\n",
            "Epoch 00262: loss did not improve from 10.31292\n",
            "244/243 [==============================] - 14s 56ms/step - loss: 10.9259 - mae: 2.4247 - val_loss: 123.6104 - val_mae: 8.2353\n",
            "Epoch 263/300\n",
            "243/243 [============================>.] - ETA: 0s - loss: 10.4874 - mae: 2.3805\n",
            "Epoch 00263: loss did not improve from 10.31292\n",
            "244/243 [==============================] - 13s 55ms/step - loss: 10.4902 - mae: 2.3816 - val_loss: 124.8234 - val_mae: 8.2885\n",
            "Epoch 264/300\n",
            "243/243 [============================>.] - ETA: 0s - loss: 10.3355 - mae: 2.3792\n",
            "Epoch 00264: loss did not improve from 10.31292\n",
            "244/243 [==============================] - 14s 56ms/step - loss: 10.3260 - mae: 2.3781 - val_loss: 125.9090 - val_mae: 8.3208\n",
            "Epoch 265/300\n",
            "243/243 [============================>.] - ETA: 0s - loss: 10.7010 - mae: 2.4026\n",
            "Epoch 00265: loss did not improve from 10.31292\n",
            "244/243 [==============================] - 14s 56ms/step - loss: 10.7023 - mae: 2.4025 - val_loss: 124.4780 - val_mae: 8.2673\n",
            "Epoch 266/300\n",
            "243/243 [============================>.] - ETA: 0s - loss: 10.5273 - mae: 2.3805\n",
            "Epoch 00266: loss did not improve from 10.31292\n",
            "244/243 [==============================] - 13s 54ms/step - loss: 10.5121 - mae: 2.3793 - val_loss: 124.3674 - val_mae: 8.2589\n",
            "Epoch 267/300\n",
            "242/243 [============================>.] - ETA: 0s - loss: 10.6179 - mae: 2.3837\n",
            "Epoch 00267: loss did not improve from 10.31292\n",
            "244/243 [==============================] - 14s 56ms/step - loss: 10.6322 - mae: 2.3825 - val_loss: 124.4013 - val_mae: 8.2682\n",
            "Epoch 268/300\n",
            "243/243 [============================>.] - ETA: 0s - loss: 10.3366 - mae: 2.3829\n",
            "Epoch 00268: loss did not improve from 10.31292\n",
            "244/243 [==============================] - 14s 56ms/step - loss: 10.4168 - mae: 2.3844 - val_loss: 125.1129 - val_mae: 8.2917\n",
            "Epoch 269/300\n",
            "243/243 [============================>.] - ETA: 0s - loss: 10.5710 - mae: 2.3789\n",
            "Epoch 00269: loss did not improve from 10.31292\n",
            "244/243 [==============================] - 14s 55ms/step - loss: 10.5657 - mae: 2.3788 - val_loss: 125.3927 - val_mae: 8.2997\n",
            "Epoch 270/300\n",
            "242/243 [============================>.] - ETA: 0s - loss: 10.6206 - mae: 2.3909\n",
            "Epoch 00270: loss did not improve from 10.31292\n",
            "244/243 [==============================] - 13s 55ms/step - loss: 10.5988 - mae: 2.3893 - val_loss: 125.1701 - val_mae: 8.2892\n",
            "Epoch 271/300\n",
            "243/243 [============================>.] - ETA: 0s - loss: 10.2544 - mae: 2.3494\n",
            "Epoch 00271: loss improved from 10.31292 to 10.24349, saving model to C:\\Users\\57lzhang.US04WW4008\\Desktop\\Blood pressure\\BP data\\models\\CNN+LSTM-271-10.2435.hdf5\n",
            "244/243 [==============================] - 14s 56ms/step - loss: 10.2435 - mae: 2.3482 - val_loss: 124.9447 - val_mae: 8.2788\n",
            "Epoch 272/300\n",
            "243/243 [============================>.] - ETA: 0s - loss: 10.5003 - mae: 2.3851\n",
            "Epoch 00272: loss did not improve from 10.24349\n",
            "244/243 [==============================] - 14s 57ms/step - loss: 10.4941 - mae: 2.3851 - val_loss: 124.7676 - val_mae: 8.2728\n",
            "Epoch 273/300\n",
            "243/243 [============================>.] - ETA: 0s - loss: 10.3719 - mae: 2.3776\n",
            "Epoch 00273: loss did not improve from 10.24349\n",
            "244/243 [==============================] - 14s 56ms/step - loss: 10.3684 - mae: 2.3774 - val_loss: 125.5182 - val_mae: 8.3014\n",
            "Epoch 274/300\n",
            "242/243 [============================>.] - ETA: 0s - loss: 10.5834 - mae: 2.3880\n",
            "Epoch 00274: loss did not improve from 10.24349\n",
            "244/243 [==============================] - 13s 55ms/step - loss: 10.5525 - mae: 2.3859 - val_loss: 124.9621 - val_mae: 8.2801\n",
            "Epoch 275/300\n",
            "243/243 [============================>.] - ETA: 0s - loss: 10.5990 - mae: 2.3910\n",
            "Epoch 00275: loss did not improve from 10.24349\n",
            "244/243 [==============================] - 14s 56ms/step - loss: 10.5960 - mae: 2.3915 - val_loss: 123.3358 - val_mae: 8.2251\n",
            "Epoch 276/300\n",
            "243/243 [============================>.] - ETA: 0s - loss: 10.4966 - mae: 2.3724\n",
            "Epoch 00276: loss did not improve from 10.24349\n",
            "244/243 [==============================] - 14s 57ms/step - loss: 10.4850 - mae: 2.3716 - val_loss: 124.3968 - val_mae: 8.2578\n",
            "Epoch 277/300\n",
            "243/243 [============================>.] - ETA: 0s - loss: 10.4814 - mae: 2.3928\n",
            "Epoch 00277: loss did not improve from 10.24349\n",
            "244/243 [==============================] - 14s 56ms/step - loss: 10.4926 - mae: 2.3939 - val_loss: 124.8608 - val_mae: 8.2818\n",
            "Epoch 278/300\n",
            "243/243 [============================>.] - ETA: 0s - loss: 10.4118 - mae: 2.4002\n",
            "Epoch 00278: loss did not improve from 10.24349\n",
            "244/243 [==============================] - 14s 56ms/step - loss: 10.3982 - mae: 2.3988 - val_loss: 124.7778 - val_mae: 8.2761\n",
            "Epoch 279/300\n",
            "242/243 [============================>.] - ETA: 0s - loss: 10.5245 - mae: 2.3604\n",
            "Epoch 00279: loss did not improve from 10.24349\n",
            "244/243 [==============================] - 14s 58ms/step - loss: 10.5121 - mae: 2.3612 - val_loss: 123.7325 - val_mae: 8.2369\n",
            "Epoch 280/300\n",
            "243/243 [============================>.] - ETA: 0s - loss: 10.5396 - mae: 2.3849\n",
            "Epoch 00280: loss did not improve from 10.24349\n",
            "244/243 [==============================] - 14s 59ms/step - loss: 10.5869 - mae: 2.3870 - val_loss: 124.6934 - val_mae: 8.2773\n",
            "Epoch 281/300\n",
            "243/243 [============================>.] - ETA: 0s - loss: 10.2634 - mae: 2.3757\n",
            "Epoch 00281: loss did not improve from 10.24349\n",
            "244/243 [==============================] - 15s 61ms/step - loss: 10.2603 - mae: 2.3760 - val_loss: 125.0094 - val_mae: 8.2884\n",
            "Epoch 282/300\n",
            "243/243 [============================>.] - ETA: 0s - loss: 10.4866 - mae: 2.3674\n",
            "Epoch 00282: loss did not improve from 10.24349\n",
            "244/243 [==============================] - 15s 61ms/step - loss: 10.4686 - mae: 2.3660 - val_loss: 124.3596 - val_mae: 8.2611\n",
            "Epoch 283/300\n",
            "243/243 [============================>.] - ETA: 0s - loss: 10.3605 - mae: 2.3629\n",
            "Epoch 00283: loss did not improve from 10.24349\n",
            "244/243 [==============================] - 15s 60ms/step - loss: 10.3605 - mae: 2.3637 - val_loss: 125.1021 - val_mae: 8.2890\n",
            "Epoch 284/300\n",
            "243/243 [============================>.] - ETA: 0s - loss: 10.5062 - mae: 2.3773\n",
            "Epoch 00284: loss did not improve from 10.24349\n",
            "244/243 [==============================] - 15s 62ms/step - loss: 10.5015 - mae: 2.3775 - val_loss: 124.6617 - val_mae: 8.2722\n",
            "Epoch 285/300\n",
            "243/243 [============================>.] - ETA: 0s - loss: 10.2315 - mae: 2.3409\n",
            "Epoch 00285: loss improved from 10.24349 to 10.21105, saving model to C:\\Users\\57lzhang.US04WW4008\\Desktop\\Blood pressure\\BP data\\models\\CNN+LSTM-285-10.2110.hdf5\n",
            "244/243 [==============================] - 15s 61ms/step - loss: 10.2110 - mae: 2.3387 - val_loss: 124.9212 - val_mae: 8.2823\n",
            "Epoch 286/300\n",
            "243/243 [============================>.] - ETA: 0s - loss: 10.6105 - mae: 2.3954\n",
            "Epoch 00286: loss did not improve from 10.21105\n",
            "244/243 [==============================] - 15s 61ms/step - loss: 10.5873 - mae: 2.3930 - val_loss: 124.8131 - val_mae: 8.2734\n",
            "Epoch 287/300\n",
            "243/243 [============================>.] - ETA: 0s - loss: 10.2074 - mae: 2.3531\n",
            "Epoch 00287: loss did not improve from 10.21105\n",
            "244/243 [==============================] - 15s 62ms/step - loss: 10.2902 - mae: 2.3559 - val_loss: 125.6573 - val_mae: 8.3067\n",
            "Epoch 288/300\n",
            "243/243 [============================>.] - ETA: 0s - loss: 10.3987 - mae: 2.3740\n",
            "Epoch 00288: loss did not improve from 10.21105\n",
            "244/243 [==============================] - 15s 60ms/step - loss: 10.3816 - mae: 2.3722 - val_loss: 125.2088 - val_mae: 8.2950\n",
            "Epoch 289/300\n",
            "243/243 [============================>.] - ETA: 0s - loss: 10.3940 - mae: 2.3736\n",
            "Epoch 00289: loss did not improve from 10.21105\n",
            "244/243 [==============================] - 15s 62ms/step - loss: 10.4393 - mae: 2.3757 - val_loss: 122.7032 - val_mae: 8.1976\n",
            "Epoch 290/300\n",
            "243/243 [============================>.] - ETA: 0s - loss: 10.3823 - mae: 2.3664\n",
            "Epoch 00290: loss did not improve from 10.21105\n",
            "244/243 [==============================] - 15s 60ms/step - loss: 10.3704 - mae: 2.3656 - val_loss: 124.2360 - val_mae: 8.2620\n",
            "Epoch 291/300\n",
            "243/243 [============================>.] - ETA: 0s - loss: 10.2782 - mae: 2.3513\n",
            "Epoch 00291: loss did not improve from 10.21105\n",
            "244/243 [==============================] - 15s 63ms/step - loss: 10.2649 - mae: 2.3503 - val_loss: 124.5673 - val_mae: 8.2707\n",
            "Epoch 292/300\n",
            "243/243 [============================>.] - ETA: 0s - loss: 10.5021 - mae: 2.3776\n",
            "Epoch 00292: loss did not improve from 10.21105\n",
            "244/243 [==============================] - 15s 61ms/step - loss: 10.5055 - mae: 2.3784 - val_loss: 123.9949 - val_mae: 8.2532\n",
            "Epoch 293/300\n",
            "243/243 [============================>.] - ETA: 0s - loss: 10.4070 - mae: 2.3714\n",
            "Epoch 00293: loss did not improve from 10.21105\n",
            "244/243 [==============================] - 15s 62ms/step - loss: 10.3940 - mae: 2.3698 - val_loss: 125.2021 - val_mae: 8.2977\n",
            "Epoch 294/300\n",
            "243/243 [============================>.] - ETA: 0s - loss: 10.3233 - mae: 2.3550\n",
            "Epoch 00294: loss did not improve from 10.21105\n",
            "244/243 [==============================] - 15s 62ms/step - loss: 10.3197 - mae: 2.3550 - val_loss: 123.8246 - val_mae: 8.2472\n",
            "Epoch 295/300\n",
            "243/243 [============================>.] - ETA: 0s - loss: 10.3574 - mae: 2.3570\n",
            "Epoch 00295: loss did not improve from 10.21105\n",
            "244/243 [==============================] - 14s 58ms/step - loss: 10.3479 - mae: 2.3561 - val_loss: 124.4417 - val_mae: 8.2712\n",
            "Epoch 296/300\n",
            "242/243 [============================>.] - ETA: 0s - loss: 10.2785 - mae: 2.3471\n",
            "Epoch 00296: loss did not improve from 10.21105\n",
            "244/243 [==============================] - 13s 55ms/step - loss: 10.2685 - mae: 2.3468 - val_loss: 124.5156 - val_mae: 8.2681\n",
            "Epoch 297/300\n",
            "243/243 [============================>.] - ETA: 0s - loss: 10.3008 - mae: 2.3523\n",
            "Epoch 00297: loss did not improve from 10.21105\n",
            "244/243 [==============================] - 14s 56ms/step - loss: 10.2894 - mae: 2.3515 - val_loss: 124.3745 - val_mae: 8.2559\n",
            "Epoch 298/300\n",
            "243/243 [============================>.] - ETA: 0s - loss: 10.4991 - mae: 2.3705\n",
            "Epoch 00298: loss did not improve from 10.21105\n",
            "244/243 [==============================] - 14s 56ms/step - loss: 10.4853 - mae: 2.3691 - val_loss: 124.0257 - val_mae: 8.2443\n",
            "Epoch 299/300\n",
            "242/243 [============================>.] - ETA: 0s - loss: 10.3560 - mae: 2.3422\n",
            "Epoch 00299: loss did not improve from 10.21105\n",
            "244/243 [==============================] - 14s 56ms/step - loss: 10.3463 - mae: 2.3427 - val_loss: 124.8914 - val_mae: 8.2749\n",
            "Epoch 300/300\n",
            "243/243 [============================>.] - ETA: 0s - loss: 10.4461 - mae: 2.3663\n",
            "Epoch 00300: loss did not improve from 10.21105\n",
            "244/243 [==============================] - 13s 55ms/step - loss: 10.4303 - mae: 2.3656 - val_loss: 124.6176 - val_mae: 8.2667\n"
          ],
          "name": "stdout"
        },
        {
          "output_type": "execute_result",
          "data": {
            "text/plain": [
              "<tensorflow.python.keras.callbacks.History at 0x1b26700ffc8>"
            ]
          },
          "metadata": {
            "tags": []
          },
          "execution_count": 38
        }
      ]
    },
    {
      "cell_type": "markdown",
      "metadata": {
        "id": "fbUv7BhOTiua",
        "colab_type": "text"
      },
      "source": [
        "## 4.4 Save Model for future evaluation"
      ]
    },
    {
      "cell_type": "code",
      "metadata": {
        "id": "ricCF8i5Tnoz",
        "colab_type": "code",
        "outputId": "d44f2063-2e78-4a59-caf8-9a582c87ce2e",
        "colab": {
          "base_uri": "https://localhost:8080/",
          "height": 34
        }
      },
      "source": [
        "os.chdir(r\"C:\\Users\\57lzhang.US04WW4008\\Desktop\\Afib\\Afib_ECG data\")\n",
        "model.save('Deep_PPG_CNN_041120.h5')\n",
        "print(\"Save model to disk\")"
      ],
      "execution_count": 0,
      "outputs": [
        {
          "output_type": "stream",
          "text": [
            "Save model to disk\n"
          ],
          "name": "stdout"
        }
      ]
    },
    {
      "cell_type": "markdown",
      "metadata": {
        "id": "IfnasVq2Tqjg",
        "colab_type": "text"
      },
      "source": [
        "# 5.Model Evaluation"
      ]
    },
    {
      "cell_type": "markdown",
      "metadata": {
        "id": "0a8QzHAVT1bz",
        "colab_type": "text"
      },
      "source": [
        "## 5.1 Load saved model"
      ]
    },
    {
      "cell_type": "code",
      "metadata": {
        "id": "nZyzAHekTsy5",
        "colab_type": "code",
        "colab": {}
      },
      "source": [
        "os.chdir(r\"C:\\Users\\57lzhang.US04WW4008\\Desktop\\Blood pressure\\BP data\\models\")\n",
        "model = tf.keras.models.load_model('CNN+LSTM-285-10.2110.hdf5')"
      ],
      "execution_count": 0,
      "outputs": []
    },
    {
      "cell_type": "markdown",
      "metadata": {
        "id": "6aMp1YpLTw7C",
        "colab_type": "text"
      },
      "source": [
        "## 5.2 MAE"
      ]
    },
    {
      "cell_type": "code",
      "metadata": {
        "id": "2ScA5IlA-G84",
        "colab_type": "code",
        "colab": {}
      },
      "source": [
        "bp_estimate=model.predict(test_dataset)"
      ],
      "execution_count": 0,
      "outputs": []
    },
    {
      "cell_type": "code",
      "metadata": {
        "id": "HGR81k40A44c",
        "colab_type": "code",
        "outputId": "88b3d002-688d-4841-d7c0-2a133f525a60",
        "colab": {
          "base_uri": "https://localhost:8080/",
          "height": 52
        }
      },
      "source": [
        "from sklearn.metrics import mean_absolute_error\n",
        "sys_mae = mean_absolute_error(test_labels[:,0], bp_estimate[:,0])\n",
        "dia_mae = mean_absolute_error(test_labels[:,1], bp_estimate[:,1])\n",
        "print(\"Systolic MAE in test dataset:\", round(sys_mae,1))\n",
        "print(\"Diastolic MAE in test dataset:\", round(dia_mae,1))"
      ],
      "execution_count": 42,
      "outputs": [
        {
          "output_type": "stream",
          "text": [
            "Systolic MAE in test dataset: 11.2\n",
            "Diastolic MAE in test dataset: 6.2\n"
          ],
          "name": "stdout"
        }
      ]
    }
  ]
}