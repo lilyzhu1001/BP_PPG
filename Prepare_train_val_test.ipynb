{
  "nbformat": 4,
  "nbformat_minor": 0,
  "metadata": {
    "colab": {
      "name": "Prepare train-val-test.ipynb",
      "provenance": [],
      "collapsed_sections": [],
      "toc_visible": true,
      "authorship_tag": "ABX9TyPt6yGJ97t1BzKuFkpQC2lw",
      "include_colab_link": true
    },
    "kernelspec": {
      "name": "python3",
      "display_name": "Python 3"
    }
  },
  "cells": [
    {
      "cell_type": "markdown",
      "metadata": {
        "id": "view-in-github",
        "colab_type": "text"
      },
      "source": [
        "<a href=\"https://colab.research.google.com/github/supertime1/BP_PPG/blob/master/Prepare_train_val_test.ipynb\" target=\"_parent\"><img src=\"https://colab.research.google.com/assets/colab-badge.svg\" alt=\"Open In Colab\"/></a>"
      ]
    },
    {
      "cell_type": "markdown",
      "metadata": {
        "id": "uWP-_pXlUKmp",
        "colab_type": "text"
      },
      "source": [
        "#1.Introduction"
      ]
    },
    {
      "cell_type": "markdown",
      "metadata": {
        "id": "3mOoV1yuUKlh",
        "colab_type": "text"
      },
      "source": [
        "This notebook trains an simple PPG DNN by using labeled PPG data from Afib_Data_Clean notebook;\n",
        "The loaded data is 30s segemented PPG signals with 125Hz sampling rate."
      ]
    },
    {
      "cell_type": "markdown",
      "metadata": {
        "id": "bfCfr60kSTDU",
        "colab_type": "text"
      },
      "source": [
        "#2.Setup Environment\n",
        "\n"
      ]
    },
    {
      "cell_type": "code",
      "metadata": {
        "id": "cvqxVijHSFk2",
        "colab_type": "code",
        "outputId": "8d554779-dd7b-4b8c-d9ce-b269c3c501ab",
        "colab": {
          "base_uri": "https://localhost:8080/",
          "height": 34
        }
      },
      "source": [
        "from IPython.display import display\n",
        "import pandas as pd\n",
        "import matplotlib.pyplot as plt\n",
        "%matplotlib inline\n",
        "%load_ext tensorboard\n",
        "import numpy as np\n",
        "import os\n",
        "import shutil\n",
        "import glob\n",
        "import wfdb\n",
        "import tensorflow as tf\n",
        "from tensorflow import keras\n",
        "from tensorflow.keras.models import load_model \n",
        "from tensorflow.keras.callbacks import TensorBoard, ModelCheckpoint\n",
        "import tensorflow_datasets as tfds\n",
        "import multiprocessing\n",
        "from datetime import datetime\n",
        "import sklearn.metrics\n",
        "import itertools\n",
        "import io\n",
        "import pickle\n",
        "print(tf.__version__)"
      ],
      "execution_count": 1,
      "outputs": [
        {
          "output_type": "stream",
          "text": [
            "2.1.0\n"
          ],
          "name": "stdout"
        }
      ]
    },
    {
      "cell_type": "markdown",
      "metadata": {
        "colab_type": "text",
        "id": "KpK35SW3GMsU"
      },
      "source": [
        "#3.Prepare train, val and test data"
      ]
    },
    {
      "cell_type": "code",
      "metadata": {
        "id": "qiWlmHVeoq2i",
        "colab_type": "code",
        "colab": {}
      },
      "source": [
        "#ratio value is between 0 and 1\n",
        "#make sure seed is set to a same number for repeatable results\\\n",
        "#or to compare models apple to apple\n",
        "def slice_dataset(dataset,labels,train_ratio,seed = 10):  \n",
        "  DATASET_SIZE =len(list(dataset)) #only works in eager mode (e.g. TF version >= 2.0.x)\n",
        "  train_size = int(train_ratio * DATASET_SIZE)\n",
        "  val_size = DATASET_SIZE - train_size\n",
        "  \n",
        "  np.random.seed(seed=seed)\n",
        "  np.random.shuffle(dataset)\n",
        "  train_dataset = dataset[:train_size,:,:]\n",
        "  val_dataset = dataset[-val_size:,:,:]\n",
        "\n",
        "  np.random.seed(seed=seed)\n",
        "  np.random.shuffle(labels)\n",
        "  train_labels = labels[:train_size,:]\n",
        "  val_labels = labels[-val_size:,:]\n",
        "\n",
        "  return train_dataset,val_dataset,train_labels, val_labels"
      ],
      "execution_count": 0,
      "outputs": []
    },
    {
      "cell_type": "code",
      "metadata": {
        "id": "fNoKZft9MyOD",
        "colab_type": "code",
        "colab": {}
      },
      "source": [
        "#Reshape_slice_data:\n",
        "#1.reshape the data from [NONE, 7500] to [NONE,ts,7500/ts,1], where 7500/ts mush be an positive integer\n",
        "#2.Create train,validation and test dataset\n",
        "\n",
        "#input:\n",
        "#     ts: timesteps that define how many images/signals were fed into LSTM\n",
        "#     t_ratio: test dataset ratio to (train+validation) dataset\n",
        "#     val_ratio: validation dataset ratio to train dataset\n",
        "\n",
        "#output:\n",
        "#     save reshaped and shuffled dataset per 1min into train,validatin,test folders that are\n",
        "#     created **BEFORE** calling this function\n",
        "\n",
        "def reshape_slice_data(directory,ts=10,t_ratio = 0.05, val_ratio = 0.1):\n",
        "  #load data\n",
        "  PPG_names = glob.glob(directory + \"BP_data*\")\n",
        "  label_names = glob.glob(directory + \"BP_label*\")\n",
        "  \n",
        "  assert(len(PPG_names) == len(label_names))\n",
        "\n",
        "  train_labels_all = []\n",
        "  val_labels_all = []\n",
        "  test_labels_all = []\n",
        "\n",
        "  for i in range(len(PPG_names)):\n",
        "    if i < 59: continue\n",
        "    print(\"processing\", i, \"th data\")\n",
        "\n",
        "    with open(PPG_names[i], \"rb\") as fp:\n",
        "      raw_signals = pickle.load(fp)\n",
        "\n",
        "    with open(label_names[i], \"rb\") as fp:\n",
        "      raw_labels = pickle.load(fp)\n",
        "\n",
        "    #create the right dim for signals\n",
        "    raw_signals = np.array(raw_signals)\n",
        "    raw_signals = np.reshape(raw_signals,[len(raw_signals),ts,int(7500/ts)])\n",
        "    raw_signals = np.expand_dims(raw_signals, axis=3)\n",
        "    raw_labels = np.array(raw_labels)\n",
        "\n",
        "    train_dataset, test_dataset, train_labels, test_labels  = slice_dataset(raw_signals,raw_labels,1-t_ratio)\n",
        "    train_dataset, val_dataset, train_labels, val_labels  = slice_dataset(train_dataset,train_labels,1-val_ratio)\n",
        "\n",
        "    for j in range(len(train_dataset)):\n",
        "      td_ds = train_dataset[j]\n",
        "  \n",
        "      with open(directory + \"train/\"+\"data_\" + str(i) + \"_\" + str(j), \"wb\") as fp:\n",
        "        pickle.dump(td_ds,fp)\n",
        "              \n",
        "    for k in range(len(val_dataset)):\n",
        "      vd_ds = val_dataset[k]\n",
        "\n",
        "      with open(directory + \"validation/\"+\"data_\" + str(i) + \"_\" + str(k), \"wb\") as fp:\n",
        "        pickle.dump(vd_ds,fp)\n",
        "               \n",
        "    for m in range(len(test_dataset)):\n",
        "      td_ds = test_dataset[m]\n",
        "  \n",
        "      with open(directory + \"test/\"+\"data_\" + str(i) + \"_\" + str(m), \"wb\") as fp:\n",
        "        pickle.dump(td_ds,fp)\n",
        "   \n",
        "    train_labels_all.append(train_labels)  \n",
        "    val_labels_all.append(val_labels)  \n",
        "    test_labels_all.append(test_labels)  \n",
        "               \n",
        "  #save labels\n",
        "  with open(directory + \"train/train_labels\", \"wb\") as fp:\n",
        "    pickle.dump(train_labels_all,fp)\n",
        "  \n",
        "  with open(directory + \"validation/val_labels\", \"wb\") as fp:\n",
        "    pickle.dump(val_labels_all,fp)\n",
        "\n",
        "  with open(directory + \"test/test_labels\", \"wb\") as fp:\n",
        "    pickle.dump(test_labels_all,fp)\n",
        "\n",
        "  return None"
      ],
      "execution_count": 0,
      "outputs": []
    },
    {
      "cell_type": "code",
      "metadata": {
        "id": "-A1th0nQxTxu",
        "colab_type": "code",
        "outputId": "2d60bb68-5e60-4b78-ffb5-bec00c8ab23e",
        "colab": {
          "base_uri": "https://localhost:8080/",
          "height": 1000
        }
      },
      "source": [
        "directory = 'D:/WFDB/matched/BP/Cleaned Data/'\n",
        "reshape_slice_data(directory)"
      ],
      "execution_count": 4,
      "outputs": [
        {
          "output_type": "stream",
          "text": [
            "processing 59 th data\n",
            "processing 60 th data\n",
            "processing 61 th data\n",
            "processing 62 th data\n",
            "processing 63 th data\n",
            "processing 64 th data\n",
            "processing 65 th data\n",
            "processing 66 th data\n",
            "processing 67 th data\n",
            "processing 68 th data\n",
            "processing 69 th data\n",
            "processing 70 th data\n",
            "processing 71 th data\n",
            "processing 72 th data\n",
            "processing 73 th data\n",
            "processing 74 th data\n",
            "processing 75 th data\n",
            "processing 76 th data\n",
            "processing 77 th data\n",
            "processing 78 th data\n",
            "processing 79 th data\n",
            "processing 80 th data\n",
            "processing 81 th data\n",
            "processing 82 th data\n",
            "processing 83 th data\n",
            "processing 84 th data\n",
            "processing 85 th data\n",
            "processing 86 th data\n",
            "processing 87 th data\n",
            "processing 88 th data\n",
            "processing 89 th data\n",
            "processing 90 th data\n",
            "processing 91 th data\n",
            "processing 92 th data\n",
            "processing 93 th data\n",
            "processing 94 th data\n",
            "processing 95 th data\n",
            "processing 96 th data\n",
            "processing 97 th data\n",
            "processing 98 th data\n",
            "processing 99 th data\n",
            "processing 100 th data\n",
            "processing 101 th data\n",
            "processing 102 th data\n",
            "processing 103 th data\n",
            "processing 104 th data\n",
            "processing 105 th data\n",
            "processing 106 th data\n",
            "processing 107 th data\n",
            "processing 108 th data\n",
            "processing 109 th data\n",
            "processing 110 th data\n",
            "processing 111 th data\n",
            "processing 112 th data\n",
            "processing 113 th data\n",
            "processing 114 th data\n",
            "processing 115 th data\n",
            "processing 116 th data\n",
            "processing 117 th data\n",
            "processing 118 th data\n",
            "processing 119 th data\n",
            "processing 120 th data\n",
            "processing 121 th data\n",
            "processing 122 th data\n",
            "processing 123 th data\n",
            "processing 124 th data\n",
            "processing 125 th data\n",
            "processing 126 th data\n",
            "processing 127 th data\n",
            "processing 128 th data\n",
            "processing 129 th data\n",
            "processing 130 th data\n",
            "processing 131 th data\n",
            "processing 132 th data\n",
            "processing 133 th data\n",
            "processing 134 th data\n",
            "processing 135 th data\n",
            "processing 136 th data\n",
            "processing 137 th data\n",
            "processing 138 th data\n",
            "processing 139 th data\n",
            "processing 140 th data\n",
            "processing 141 th data\n",
            "processing 142 th data\n",
            "processing 143 th data\n",
            "processing 144 th data\n",
            "processing 145 th data\n",
            "processing 146 th data\n",
            "processing 147 th data\n",
            "processing 148 th data\n",
            "processing 149 th data\n",
            "processing 150 th data\n",
            "processing 151 th data\n",
            "processing 152 th data\n",
            "processing 153 th data\n"
          ],
          "name": "stdout"
        },
        {
          "output_type": "error",
          "ename": "KeyboardInterrupt",
          "evalue": "ignored",
          "traceback": [
            "\u001b[1;31m---------------------------------------------------------------------------\u001b[0m",
            "\u001b[1;31mKeyboardInterrupt\u001b[0m                         Traceback (most recent call last)",
            "\u001b[1;32m<ipython-input-4-9c2f3897b2f7>\u001b[0m in \u001b[0;36m<module>\u001b[1;34m\u001b[0m\n\u001b[0;32m      1\u001b[0m \u001b[0mdirectory\u001b[0m \u001b[1;33m=\u001b[0m \u001b[1;34m'D:/WFDB/matched/BP/Cleaned Data/'\u001b[0m\u001b[1;33m\u001b[0m\u001b[1;33m\u001b[0m\u001b[0m\n\u001b[1;32m----> 2\u001b[1;33m \u001b[0mreshape_slice_data\u001b[0m\u001b[1;33m(\u001b[0m\u001b[0mdirectory\u001b[0m\u001b[1;33m)\u001b[0m\u001b[1;33m\u001b[0m\u001b[1;33m\u001b[0m\u001b[0m\n\u001b[0m",
            "\u001b[1;32m<ipython-input-3-9f342a184db4>\u001b[0m in \u001b[0;36mreshape_slice_data\u001b[1;34m(directory, ts, t_ratio, val_ratio)\u001b[0m\n\u001b[0;32m     45\u001b[0m       \u001b[0mtd_ds\u001b[0m \u001b[1;33m=\u001b[0m \u001b[0mtrain_dataset\u001b[0m\u001b[1;33m[\u001b[0m\u001b[0mj\u001b[0m\u001b[1;33m]\u001b[0m\u001b[1;33m\u001b[0m\u001b[1;33m\u001b[0m\u001b[0m\n\u001b[0;32m     46\u001b[0m \u001b[1;33m\u001b[0m\u001b[0m\n\u001b[1;32m---> 47\u001b[1;33m       \u001b[1;32mwith\u001b[0m \u001b[0mopen\u001b[0m\u001b[1;33m(\u001b[0m\u001b[0mdirectory\u001b[0m \u001b[1;33m+\u001b[0m \u001b[1;34m\"train/\"\u001b[0m\u001b[1;33m+\u001b[0m\u001b[1;34m\"data_\"\u001b[0m \u001b[1;33m+\u001b[0m \u001b[0mstr\u001b[0m\u001b[1;33m(\u001b[0m\u001b[0mi\u001b[0m\u001b[1;33m)\u001b[0m \u001b[1;33m+\u001b[0m \u001b[1;34m\"_\"\u001b[0m \u001b[1;33m+\u001b[0m \u001b[0mstr\u001b[0m\u001b[1;33m(\u001b[0m\u001b[0mj\u001b[0m\u001b[1;33m)\u001b[0m\u001b[1;33m,\u001b[0m \u001b[1;34m\"wb\"\u001b[0m\u001b[1;33m)\u001b[0m \u001b[1;32mas\u001b[0m \u001b[0mfp\u001b[0m\u001b[1;33m:\u001b[0m\u001b[1;33m\u001b[0m\u001b[1;33m\u001b[0m\u001b[0m\n\u001b[0m\u001b[0;32m     48\u001b[0m         \u001b[0mpickle\u001b[0m\u001b[1;33m.\u001b[0m\u001b[0mdump\u001b[0m\u001b[1;33m(\u001b[0m\u001b[0mtd_ds\u001b[0m\u001b[1;33m,\u001b[0m\u001b[0mfp\u001b[0m\u001b[1;33m)\u001b[0m\u001b[1;33m\u001b[0m\u001b[1;33m\u001b[0m\u001b[0m\n\u001b[0;32m     49\u001b[0m \u001b[1;33m\u001b[0m\u001b[0m\n",
            "\u001b[1;31mKeyboardInterrupt\u001b[0m: "
          ]
        }
      ]
    },
    {
      "cell_type": "markdown",
      "metadata": {
        "id": "jLPn3YLKwQFD",
        "colab_type": "text"
      },
      "source": [
        "#4.Check BP distribution\n",
        "\n",
        "\n"
      ]
    },
    {
      "cell_type": "code",
      "metadata": {
        "id": "ISF601ZiwY32",
        "colab_type": "code",
        "colab": {}
      },
      "source": [
        "#concatenate label\n",
        "def concatenate_label(directory):\n",
        "  raw_labels_list = []\n",
        "\n",
        "  for name in glob.glob(directory):\n",
        "\n",
        "    with open(name, \"rb\") as fp:\n",
        "      raw_label = pickle.load(fp)\n",
        "    \n",
        "    raw_labels_list.append(raw_label)\n",
        "  \n",
        "  raw_labels = [y for x in raw_labels_list for y in x]\n",
        "\n",
        "    \n",
        "  return raw_labels"
      ],
      "execution_count": 0,
      "outputs": []
    },
    {
      "cell_type": "code",
      "metadata": {
        "id": "9tHivwp_x7hi",
        "colab_type": "code",
        "colab": {}
      },
      "source": [
        "directory = 'D:/WFDB/matched/BP/Cleaned Data/'\n",
        "train_dir = directory + \"train/train_BP_label*\"\n",
        "train_labels = concatenate_label(train_dir)\n",
        "train_labels = np.array(train_labels)"
      ],
      "execution_count": 0,
      "outputs": []
    },
    {
      "cell_type": "code",
      "metadata": {
        "colab_type": "code",
        "outputId": "dc7dcad6-e154-42c7-8493-fe84423c273d",
        "id": "ziYh6d2YGMs2",
        "colab": {
          "base_uri": "https://localhost:8080/",
          "height": 298
        }
      },
      "source": [
        "#check sys and dia distribution in train dataset\n",
        "plt.title(\"Systolic and diastolic distribution in TRAINING dataset\")\n",
        "plt.hist(train_labels[:,0], label=\"systolic\")\n",
        "plt.hist(train_labels[:,1],label=\"diastolic\")\n",
        "plt.legend()"
      ],
      "execution_count": 0,
      "outputs": [
        {
          "output_type": "execute_result",
          "data": {
            "text/plain": [
              "<matplotlib.legend.Legend at 0x1997f83d488>"
            ]
          },
          "metadata": {
            "tags": []
          },
          "execution_count": 7
        },
        {
          "output_type": "display_data",
          "data": {
            "text/plain": [
              "<Figure size 432x288 with 1 Axes>"
            ],
            "image/png": "[encoded data removed]"
          },
          "metadata": {
            "tags": [],
            "needs_background": "light"
          }
        }
      ]
    },
    {
      "cell_type": "code",
      "metadata": {
        "id": "nLcxq3H8xClA",
        "colab_type": "code",
        "colab": {}
      },
      "source": [
        "directory = 'D:/WFDB//matched/BP/Cleaned Data/'\n",
        "val_dir = directory + \"validation/val_BP_label*\"\n",
        "val_labels = concatenate_label(val_dir)\n",
        "val_labels = np.array(val_labels)"
      ],
      "execution_count": 0,
      "outputs": []
    },
    {
      "cell_type": "code",
      "metadata": {
        "colab_type": "code",
        "outputId": "6e01af1d-6d7f-4e99-b4ba-2773aa90f7a3",
        "id": "1uZfksv4GMs4",
        "colab": {
          "base_uri": "https://localhost:8080/",
          "height": 298
        }
      },
      "source": [
        "#check sys and dia distribution in validation dataset\n",
        "plt.title(\"Systolic and diastolic distribution in VALIDATION dataset\")\n",
        "plt.hist(val_labels[:,0], label=\"systolic\")\n",
        "plt.hist(val_labels[:,1],label=\"diastolic\")\n",
        "plt.legend()"
      ],
      "execution_count": 0,
      "outputs": [
        {
          "output_type": "execute_result",
          "data": {
            "text/plain": [
              "<matplotlib.legend.Legend at 0x13fac566d08>"
            ]
          },
          "metadata": {
            "tags": []
          },
          "execution_count": 16
        },
        {
          "output_type": "display_data",
          "data": {
            "text/plain": [
              "<Figure size 432x288 with 1 Axes>"
            ],
            "image/png": "[encoded data removed]"
          },
          "metadata": {
            "tags": [],
            "needs_background": "light"
          }
        }
      ]
    },
    {
      "cell_type": "code",
      "metadata": {
        "id": "gGzq8IGAx7UL",
        "colab_type": "code",
        "colab": {}
      },
      "source": [
        "directory = 'D:/WFDB//matched/BP/Cleaned Data/'\n",
        "test_dir = directory + \"test/test_BP_label*\"\n",
        "test_labels = concatenate_label(test_dir)\n",
        "test_labels = np.array(test_labels)"
      ],
      "execution_count": 0,
      "outputs": []
    },
    {
      "cell_type": "markdown",
      "metadata": {
        "id": "N-RT-91ID_zl",
        "colab_type": "text"
      },
      "source": [
        "Check the distribution of systolic and diastolic BP value"
      ]
    },
    {
      "cell_type": "code",
      "metadata": {
        "colab_type": "code",
        "outputId": "77b37c0b-6265-4e16-e0d5-1c9ef7fdcdc4",
        "id": "YvJDtg4tGMs6",
        "colab": {
          "base_uri": "https://localhost:8080/",
          "height": 298
        }
      },
      "source": [
        "#check sys and dia distribution in test dataset\n",
        "plt.title(\"Systolic and diastolic distribution in TEST dataset\")\n",
        "plt.hist(test_labels[:,0], label=\"systolic\")\n",
        "plt.hist(test_labels[:,1],label=\"diastolic\")\n",
        "plt.legend()"
      ],
      "execution_count": 0,
      "outputs": [
        {
          "output_type": "execute_result",
          "data": {
            "text/plain": [
              "<matplotlib.legend.Legend at 0x13fa4eff048>"
            ]
          },
          "metadata": {
            "tags": []
          },
          "execution_count": 21
        },
        {
          "output_type": "display_data",
          "data": {
            "text/plain": [
              "<Figure size 432x288 with 1 Axes>"
            ],
            "image/png": "[encoded data removed]"
          },
          "metadata": {
            "tags": [],
            "needs_background": "light"
          }
        }
      ]
    }
  ]
}